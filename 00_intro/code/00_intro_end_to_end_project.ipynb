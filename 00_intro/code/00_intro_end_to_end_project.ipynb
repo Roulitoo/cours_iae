{
 "cells": [
  {
   "cell_type": "markdown",
   "metadata": {},
   "source": [
    "    "
   ]
  },
  {
   "cell_type": "markdown",
   "metadata": {},
   "source": [
    "Un projet Data en 8 étapes, ma clé de lecture :)"
   ]
  },
  {
   "cell_type": "markdown",
   "metadata": {},
   "source": [
    "## 1-Bien définir le problème"
   ]
  },
  {
   "cell_type": "markdown",
   "metadata": {},
   "source": [
    "Bien que vous ayez un profil technique, la gestion de projet fera partie de votre métier.\n",
    "\n",
    "Chaque projet se doit d'avoir un problème bien cadré sinon vous allez dans le mur!\n",
    "Si vous n'êtes pas en mesure de définir le problème vous ne serez pas à quoi répondre et donc vous ne pourrez rien développer ou alors vous répondez à coté dans 90% des cas!\n",
    "\n",
    "Pour ce faire vous pouvez suivre les recommandations suivantes :\n",
    "\n",
    "- Explorer la problématique qui vous est soumise.\n",
    "   Qu'elle est le problème?\n",
    "   Pourquoi le problème existe, qu'est ce que cela engendre?\n",
    "   Quelles sont les solutions pour y répondre aujourd'hui?\n",
    "   Mesure-t-on le problème aujourd'hui? Si pas de données pour le mesurer il sera compliqué pour vous de prouver à postériorio que votre améliore améliore quoique ce soit.\n",
    "   Qui est impacté par ce problème?\n",
    "\n",
    "   Intérogez les personnes qui gravitent autour de problème et ne vous lancez pas directement dans les données!\n",
    "\n",
    "\n",
    "   A l'image d'un architecte, plus les plans de votre projet seront précis plus il sera facile de le développer après.\n",
    "\n",
    "\n",
    "   A la fin de l'étape de définition du problème vous serez en mesure :\n",
    "\n",
    "   Définir le problème, de le mesure, d'expliquer votre solution et ses impactes.\n",
    "\n",
    "   N'hésitez pas à prototyper vos solutions avant de lancer un dévellopement. \n",
    "   Parfois une feuille et un crayon permettent de tester votre solution avant de la dévelloper.\n",
    "\n",
    "   Pensez également à consulter réguliérement la personne qui vous a exposé le problème afin de ne pas trop vous éloigner de ses attentes\n",
    "\n",
    "\n"
   ]
  },
  {
   "cell_type": "markdown",
   "metadata": {},
   "source": [
    "## 2-Trouver les données"
   ]
  },
  {
   "cell_type": "markdown",
   "metadata": {},
   "source": [
    "Maintenant que vous avez un 'plan', vous savez comment répondre théoriquement au problème mais il va falloir se confronter à la réalité.\n",
    "\n",
    "Vous allez devoir trouver les données dont vous avez besoin pour répondre à votre problèmatique:\n",
    "\n",
    "- Lister les données dont vous avez besoin\n",
    "- Trouver un interlocteur ou un document vous explicant où sont les données/ comment elles sont générées \n",
    "- Créer vous un nouvel espace de travail( un espace par projet)\n",
    "- Vérifier les obligations légales relatives à vos données (RGDP, Techniques, fuites de données, ...)\n",
    "- Demander des autorisations (si besoin)\n",
    "- Commencer à regarder le type des données dont vous avez besoin (Image, texte, tabulaire, temporelle, géographique,...)\n",
    "- Créer un code automatisable pour récupérer vos données\n",
    "- Structurer votre jeu de données pour que ce soit simple par la suite\n",
    "    - Format des données\n",
    "    - Nom des colonnes\n",
    "    - Restriction sur votre périmètre\n",
    "   "
   ]
  },
  {
   "cell_type": "markdown",
   "metadata": {},
   "source": [
    "## 3-Explorer les données"
   ]
  },
  {
   "cell_type": "markdown",
   "metadata": {},
   "source": [
    "Dans cette partie vous allez essayer de faire ressortir les *insights* de vos données  \n",
    "📝 *Pensez automatisation, si vous rajouter des nouvelles données vous ne devez pas recoder l'analyse*\n",
    "\n",
    "- Créer une copie de votre dataset pour travailler dessus (diminuer le taille si il est trop volumineux)\n",
    "- Pour de l'exploration jupyternotebook est très bien! (on l'oubliera pour le passage en production)\n",
    "- Analyser vos données de façon descripive\n",
    "    - .describe()\n",
    "    - html report pandas\n",
    "- Modifier le type de vos données si nécessaire\n",
    "- Pour une analyse supervisée, identifier la variable cible (target)\n",
    "- Visualiser les données\n",
    "- Etudier les corrélations\n",
    "- Réfléchissez à comment vous pourriez le résoudre le problème en tant que humain sans coder.  \n",
    "  Quelles informations utiliseriez-vous? Comment le feriez-vous?  \n",
    "  Après l'avoir fait, essayer de transposer ca en code  \n",
    "- Commencer votre *feature engineering* pour créer des nouvelles features\n",
    "- Retourner à l'étape 2 s'il vous manque des données\n",
    "- Documenter vos trouvailles, documenter!"
   ]
  },
  {
   "cell_type": "markdown",
   "metadata": {},
   "source": [
    "## 4-Préparer le dataset"
   ]
  },
  {
   "cell_type": "markdown",
   "metadata": {},
   "source": [
    "- Travailler sur une copie du data set \n",
    "\n",
    "- Ecrivez des functions et pas du code non réutilisable\n",
    "    - Ca vous servira pour vos prochains projets\n",
    "    - Ca rend le code plus fonctionnel\n",
    "    - Ca facilite le traitement des données pour la prochaine mise à jour des données  \n",
    "    \n",
    "\n",
    "- 1) **Data cleaning** (outliers, NA value, ...)  \n",
    "\n",
    "\n",
    "- 2) **Feature selection**(si besoin)  \n",
    "\n",
    "    - Etudes des corrélations\n",
    "    - Variable d'importances\n",
    "    - Méthode de Shapley\n",
    "    - Stats descriptives\n",
    "\n",
    "\n",
    "- 3) **Feature engineering** adatpé à vos besoins  \n",
    "\n",
    "    - Discretiser vos données continues\n",
    "    - Recoder variables catégorielles\n",
    "    - Ajouter des transformations de features\n",
    "    - Aggréger des features  \n",
    "\n",
    "\n",
    "- 4) **Feature scaling** \n",
    "\n",
    "    - Standardiser ou normaliser vos features\n",
    "\n"
   ]
  },
  {
   "cell_type": "markdown",
   "metadata": {},
   "source": [
    "## 5 Explorer des modèles et déterminer une short-list "
   ]
  },
  {
   "cell_type": "markdown",
   "metadata": {},
   "source": [
    "- 1) Entrainer des modèles avec les hyperparamètres par défaut  \n",
    "      (Si  dataset avec n très grand, utiliser des échantillons)\n",
    "     *Des modèles avec des paradigmes différents (regressions, arbres, svm, neural net, xgboost,...*\n",
    "     \n",
    "     \n",
    "- 2) Mesurer les performances de chaque modèle\n",
    "     *Utiliser une cross-validation avec n-fold*\n",
    "     \n",
    "     \n",
    "- 3) Analyser les variables d'importances pour chaque modèles\n",
    "\n",
    "\n",
    "- 4) Analyser les erreurs du modèles\n",
    "\n",
    "\n",
    "- 5) Réaliser une liste des features pertinents\n",
    "\n",
    "\n",
    "- 6) Essayer de changer d'améliorer rapidement vos précédents modèles\n",
    "\n",
    "\n",
    "- 7) Garder une liste des 3 meilleurs modèles"
   ]
  },
  {
   "cell_type": "markdown",
   "metadata": {},
   "source": [
    "## 6- Tuner les modèles"
   ]
  },
  {
   "cell_type": "markdown",
   "metadata": {},
   "source": [
    "Vous allez maintenant utilisez l'ENSEMBLE des vos données pour obtenir le meilleur modèle possible\n",
    "\n",
    "- 1) Tunez vos modèles en utilisant une crossvalidation\n",
    "\n",
    "    - Par expérience, je vous conseil de traiter votre feature engineering comme un hyperparamètre.\n",
    "      Surtout si vous n'êtes pas sûr de votre stratégie (ie, imputation NA, réunification Data, ...)\n",
    "      \n",
    "    - Random grid, search, bayesian grid search\n",
    "    \n",
    "- 2) Si vos modèles offres des performances faibles, testez les modèles ensemblistes\n",
    "\n",
    "- 3) Quand votre modèle est suffisament performant sur le training test, mesurer sa performance avec le test set"
   ]
  },
  {
   "cell_type": "markdown",
   "metadata": {},
   "source": [
    "## 7 Présenter votre solution"
   ]
  },
  {
   "cell_type": "markdown",
   "metadata": {},
   "source": [
    "- 1) Documentez votre projet\n",
    "     *Pensez bien à expliquer les choix que vous avez fait*\n",
    "\n",
    "- 2) Créer une présentation sympa (pas de word SVP)\n",
    "     *Mettez en avant les informations importantes*\n",
    "     \n",
    "- 3) Expliquer concrètement comment votre projet répond au besoin business (besoin de départ)\n",
    "\n",
    "- 4) Pensez à comment vous aller vendre votre projet!\n",
    "     Si vous n'êtes pas dans une entreprise tech, il sera parfois compliqué de prouver que votre modèle est utile.\n",
    "     Faites de la com, soyez imaginatif\n",
    "     "
   ]
  },
  {
   "cell_type": "markdown",
   "metadata": {},
   "source": [
    "## 8 Automatiser votre modèle, monitorer votre modèle et maintenir"
   ]
  },
  {
   "cell_type": "markdown",
   "metadata": {},
   "source": [
    "- 1) Préparer votre code pour passer en production \n",
    "\n",
    "- 2) Préparer un monitoring de votre code\n",
    "\n",
    "    - Suivre la performance de votre modèle (KPI)\n",
    "    - Suivre que votre modèle s'excute bien\n",
    "    - Vérifier que le modèle ne se dégragde pas\n",
    "    - Mesurer qu'il n'y a pas de dérive sur vos données\n",
    "    \n",
    " - 3) Faites régulièrement des points avec le business pour prouver que votre solution améliore la situation"
   ]
  },
  {
   "cell_type": "markdown",
   "metadata": {},
   "source": [
    "## Concept utile"
   ]
  },
  {
   "cell_type": "markdown",
   "metadata": {},
   "source": [
    "### Imbalanced dataset"
   ]
  },
  {
   "cell_type": "markdown",
   "metadata": {},
   "source": []
  },
  {
   "cell_type": "markdown",
   "metadata": {},
   "source": [
    "### Scaling Features"
   ]
  },
  {
   "cell_type": "markdown",
   "metadata": {},
   "source": []
  },
  {
   "cell_type": "markdown",
   "metadata": {},
   "source": []
  },
  {
   "cell_type": "markdown",
   "metadata": {},
   "source": [
    "### Gradient Descent\n",
    "\n",
    "Quand vous calculez les paramètres de votre modèles vous avez 2 possibilités :\n",
    "\n",
    "\n",
    "- Utiliser une résolution mathématique pour obtenir la solution optimale (exemple, résolution MCO reg linéaire)  \n",
    "\n",
    "*Equation normale*\n",
    "\n",
    "- Utiliser une résolution d'optimitsation successive appellée **Descent de Gradient** qui va chercher itérativement les paramètres qui minise la fonction de coût du modèle\n",
    "\n",
    "\n",
    "> Plus d'information ici https://developers.google.com/machine-learning/crash-course/reducing-loss/an-iterative-approach\n",
    "\n",
    "\n",
    "\n",
    "\n",
    "\n"
   ]
  },
  {
   "cell_type": "code",
   "execution_count": 6,
   "metadata": {},
   "outputs": [],
   "source": [
    "import matplotlib.pyplot as plt\n",
    "import numpy as np\n",
    "import pandas as pd"
   ]
  },
  {
   "cell_type": "code",
   "execution_count": 10,
   "metadata": {},
   "outputs": [],
   "source": [
    "%matplotlib inline"
   ]
  },
  {
   "cell_type": "code",
   "execution_count": 49,
   "metadata": {},
   "outputs": [
    {
     "data": {
      "image/png": "[encoded data removed]",
      "text/plain": [
       "<Figure size 432x288 with 1 Axes>"
      ]
     },
     "metadata": {
      "needs_background": "light"
     },
     "output_type": "display_data"
    }
   ],
   "source": [
    "x = np.arange(-10,11)\n",
    "\n",
    "plt.plot((x**2), '-', linewidth=5)\n",
    "plt.plot(x, 'o')\n",
    "plt.title('descent de gradient')\n",
    "plt.xlabel(r'$\\theta$')\n",
    "plt.show()"
   ]
  },
  {
   "cell_type": "code",
   "execution_count": 22,
   "metadata": {},
   "outputs": [
    {
     "data": {
      "text/plain": [
       "array([0, 1, 2, 3, 4, 5, 6, 7, 8, 9])"
      ]
     },
     "execution_count": 22,
     "metadata": {},
     "output_type": "execute_result"
    }
   ],
   "source": [
    "x"
   ]
  },
  {
   "cell_type": "markdown",
   "metadata": {},
   "source": []
  },
  {
   "cell_type": "markdown",
   "metadata": {},
   "source": [
    "liste à voir avec eux\n",
    "\n",
    "Gradient Descent  X\n",
    "Learning rate  X\n",
    "Hyperparameter  \n",
    "Loss function  \n",
    "Computational complexity  \n",
    "Grid search  \n",
    "Scaling features  X\n",
    "Evaluation metrics  \n",
    "Imbalanced dataset X\n"
   ]
  }
 ],
 "metadata": {
  "kernelspec": {
   "display_name": "Python 3",
   "language": "python",
   "name": "python3"
  },
  "language_info": {
   "codemirror_mode": {
    "name": "ipython",
    "version": 3
   },
   "file_extension": ".py",
   "mimetype": "text/x-python",
   "name": "python",
   "nbconvert_exporter": "python",
   "pygments_lexer": "ipython3",
   "version": "3.8.3"
  }
 },
 "nbformat": 4,
 "nbformat_minor": 4
}
