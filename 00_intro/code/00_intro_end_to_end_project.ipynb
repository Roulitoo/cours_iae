{
 "cells": [
  {
   "cell_type": "markdown",
   "metadata": {},
   "source": [
    "    "
   ]
  },
  {
   "cell_type": "markdown",
   "metadata": {},
   "source": [
    "Un projet Data en 8 étapes, ma clé de lecture :)"
   ]
  },
  {
   "cell_type": "markdown",
   "metadata": {},
   "source": [
    "## 1-Bien définir le problème"
   ]
  },
  {
   "cell_type": "markdown",
   "metadata": {},
   "source": [
    "Bien que vous ayez un profil technique, la gestion de projet fera partie de votre métier.\n",
    "\n",
    "Chaque projet se doit d'avoir un problème bien cadré sinon vous allez dans le mur!\n",
    "Si vous n'êtes pas en mesure de définir le problème vous ne serez pas à quoi répondre et donc vous ne pourrez rien développer ou alors vous répondez à coté dans 90% des cas!\n",
    "\n",
    "Pour ce faire vous pouvez suivre les recommandations suivantes :\n",
    "\n",
    "- Explorer la problématique qui vous est soumise.\n",
    "   Qu'elle est le problème?\n",
    "   Pourquoi le problème existe, qu'est ce que cela engendre?\n",
    "   Quelles sont les solutions pour y répondre aujourd'hui?\n",
    "   Mesure-t-on le problème aujourd'hui? Si pas de données pour le mesurer il sera compliqué pour vous de prouver à postériorio que votre améliore améliore quoique ce soit.\n",
    "   Qui est impacté par ce problème?\n",
    "\n",
    "   Intérogez les personnes qui gravitent autour de problème et ne vous lancez pas directement dans les données!\n",
    "\n",
    "\n",
    "   A l'image d'un architecte, plus les plans de votre projet seront précis plus il sera facile de le développer après.\n",
    "\n",
    "\n",
    "   A la fin de l'étape de définition du problème vous serez en mesure :\n",
    "\n",
    "   Définir le problème, de le mesure, d'expliquer votre solution et ses impactes.\n",
    "\n",
    "   N'hésitez pas à prototyper vos solutions avant de lancer un dévellopement. \n",
    "   Parfois une feuille et un crayon permettent de tester votre solution avant de la dévelloper.\n",
    "\n",
    "   Pensez également à consulter réguliérement la personne qui vous a exposé le problème afin de ne pas trop vous éloigner de ses attentes\n",
    "\n",
    "\n"
   ]
  },
  {
   "cell_type": "markdown",
   "metadata": {},
   "source": [
    "## 2-Trouver les données"
   ]
  },
  {
   "cell_type": "markdown",
   "metadata": {},
   "source": [
    "Maintenant que vous avez un 'plan', vous savez comment répondre théoriquement au problème mais il va falloir se confronter à la réalité.\n",
    "\n",
    "Vous allez devoir trouver les données dont vous avez besoin pour répondre à votre problèmatique:\n",
    "\n",
    "- Lister les données dont vous avez besoin\n",
    "- Trouver un interlocteur ou un document vous explicant où sont les données/ comment elles sont générées \n",
    "- Créer vous un nouvel espace de travail( un espace par projet)\n",
    "- Vérifier les obligations légales relatives à vos données (RGDP, Techniques, fuites de données, ...)\n",
    "- Demander des autorisations (si besoin)\n",
    "- Commencer à regarder le type des données dont vous avez besoin (Image, texte, tabulaire, temporelle, géographique,...)\n",
    "- Créer un code automatisable pour récupérer vos données\n",
    "- Structurer votre jeu de données pour que ce soit simple par la suite\n",
    "    - Format des données\n",
    "    - Nom des colonnes\n",
    "    - Restriction sur votre périmètre\n",
    "   "
   ]
  },
  {
   "cell_type": "markdown",
   "metadata": {},
   "source": [
    "## 3-Explorer les données"
   ]
  },
  {
   "cell_type": "markdown",
   "metadata": {},
   "source": [
    "Dans cette partie vous allez essayer de faire ressortir les *insights* de vos données  \n",
    "📝 *Pensez automatisation, si vous rajouter des nouvelles données vous ne devez pas recoder l'analyse*\n",
    "\n",
    "- Créer une copie de votre dataset pour travailler dessus (diminuer le taille si il est trop volumineux)\n",
    "- Pour de l'exploration jupyternotebook est très bien! (on l'oubliera pour le passage en production)\n",
    "- Analyser vos données de façon descripive\n",
    "    - .describe()\n",
    "    - html report pandas\n",
    "- Modifier le type de vos données si nécessaire\n",
    "- Pour une analyse supervisée, identifier la variable cible (target)\n",
    "- Visualiser les données\n",
    "- Etudier les corrélations\n",
    "- Réfléchissez à comment vous pourriez le résoudre le problème en tant que humain sans coder.  \n",
    "  Quelles informations utiliseriez-vous? Comment le feriez-vous?  \n",
    "  Après l'avoir fait, essayer de transposer ca en code  \n",
    "- Commencer votre *feature engineering* pour créer des nouvelles features\n",
    "- Retourner à l'étape 2 s'il vous manque des données\n",
    "- Documenter vos trouvailles, documenter!"
   ]
  },
  {
   "cell_type": "markdown",
   "metadata": {},
   "source": [
    "## 4-Préparer le dataset"
   ]
  },
  {
   "cell_type": "markdown",
   "metadata": {},
   "source": [
    "- Travailler sur une copie du data set \n",
    "\n",
    "- Ecrivez des functions et pas du code non réutilisable\n",
    "    - Ca vous servira pour vos prochains projets\n",
    "    - Ca rend le code plus fonctionnel\n",
    "    - Ca facilite le traitement des données pour la prochaine mise à jour des données  \n",
    "    \n",
    "\n",
    "- 1) **Data cleaning** (outliers, NA value, ...)  \n",
    "\n",
    "\n",
    "- 2) **Feature selection**(si besoin)  \n",
    "\n",
    "    - Etudes des corrélations\n",
    "    - Variable d'importances\n",
    "    - Méthode de Shapley\n",
    "    - Stats descriptives\n",
    "\n",
    "\n",
    "- 3) **Feature engineering** adatpé à vos besoins  \n",
    "\n",
    "    - Discretiser vos données continues\n",
    "    - Recoder variables catégorielles\n",
    "    - Ajouter des transformations de features\n",
    "    - Aggréger des features  \n",
    "\n",
    "\n",
    "- 4) **Feature scaling** \n",
    "\n",
    "    - Standardiser ou normaliser vos features\n",
    "\n"
   ]
  },
  {
   "cell_type": "markdown",
   "metadata": {},
   "source": [
    "## 5 Explorer des modèles et déterminer une short-list "
   ]
  },
  {
   "cell_type": "markdown",
   "metadata": {},
   "source": [
    "- 1) Entrainer des modèles avec les hyperparamètres par défaut  \n",
    "      (Si  dataset avec n très grand, utiliser des échantillons)\n",
    "     *Des modèles avec des paradigmes différents (regressions, arbres, svm, neural net, xgboost,...*\n",
    "     \n",
    "     \n",
    "- 2) Mesurer les performances de chaque modèle\n",
    "     *Utiliser une cross-validation avec n-fold*\n",
    "     \n",
    "     \n",
    "- 3) Analyser les variables d'importances pour chaque modèles\n",
    "\n",
    "\n",
    "- 4) Analyser les erreurs du modèles\n",
    "\n",
    "\n",
    "- 5) Réaliser une liste des features pertinents\n",
    "\n",
    "\n",
    "- 6) Essayer de changer d'améliorer rapidement vos précédents modèles\n",
    "\n",
    "\n",
    "- 7) Garder une liste des 3 meilleurs modèles"
   ]
  },
  {
   "cell_type": "markdown",
   "metadata": {},
   "source": [
    "## 6- Tuner les modèles"
   ]
  },
  {
   "cell_type": "markdown",
   "metadata": {},
   "source": [
    "Vous allez maintenant utilisez l'ENSEMBLE des vos données pour obtenir le meilleur modèle possible\n",
    "\n",
    "- 1) Tunez vos modèles en utilisant une crossvalidation\n",
    "\n",
    "    - Par expérience, je vous conseil de traiter votre feature engineering comme un hyperparamètre.\n",
    "      Surtout si vous n'êtes pas sûr de votre stratégie (ie, imputation NA, réunification Data, ...)\n",
    "      \n",
    "    - Random grid, search, bayesian grid search\n",
    "    \n",
    "- 2) Si vos modèles offres des performances faibles, testez les modèles ensemblistes\n",
    "\n",
    "- 3) Quand votre modèle est suffisament performant sur le training test, mesurer sa performance avec le test set"
   ]
  },
  {
   "cell_type": "markdown",
   "metadata": {},
   "source": [
    "## 7 Présenter votre solution"
   ]
  },
  {
   "cell_type": "markdown",
   "metadata": {},
   "source": [
    "- 1) Documentez votre projet\n",
    "     *Pensez bien à expliquer les choix que vous avez fait*\n",
    "\n",
    "- 2) Créer une présentation sympa (pas de word SVP)\n",
    "     *Mettez en avant les informations importantes*\n",
    "     \n",
    "- 3) Expliquer concrètement comment votre projet répond au besoin business (besoin de départ)\n",
    "\n",
    "- 4) Pensez à comment vous aller vendre votre projet!\n",
    "     Si vous n'êtes pas dans une entreprise tech, il sera parfois compliqué de prouver que votre modèle est utile.\n",
    "     Faites de la com, soyez imaginatif\n",
    "     "
   ]
  },
  {
   "cell_type": "markdown",
   "metadata": {},
   "source": [
    "## 8 Automatiser votre modèle, monitorer votre modèle et maintenir"
   ]
  },
  {
   "cell_type": "markdown",
   "metadata": {},
   "source": [
    "- 1) Préparer votre code pour passer en production \n",
    "\n",
    "- 2) Préparer un monitoring de votre code\n",
    "\n",
    "    - Suivre la performance de votre modèle (KPI)\n",
    "    - Suivre que votre modèle s'excute bien\n",
    "    - Vérifier que le modèle ne se dégragde pas\n",
    "    - Mesurer qu'il n'y a pas de dérive sur vos données\n",
    "    \n",
    " - 3) Faites régulièrement des points avec le business pour prouver que votre solution améliore la situation"
   ]
  },
  {
   "cell_type": "markdown",
   "metadata": {},
   "source": [
    "## Concept utile"
   ]
  },
  {
   "cell_type": "markdown",
   "metadata": {},
   "source": [
    "### Imbalanced dataset"
   ]
  },
  {
   "cell_type": "markdown",
   "metadata": {},
   "source": [
    "Le cas le plus comment de données désiquilibrée est une classification binaire.\n",
    "\n",
    "Prenons l'exemple d'un fraude à la carte bancaire.  \n",
    "Nous avons un data set contenant 1 million d'opération bancaire. La fraude étant un élément rare (heuresement) notre data set ne contient que 10 000 fraude pour 990 000 non fraude.\n",
    "\n",
    "Si nous entrainons un modèle de machine learning pour une classifcation binaire sur ce projet, il sera incapable d'apprendre ce qu'est une fraude car nous ne lui présenterons pas suffisament d'exemple pour qu'il arrive à définir une fraude.\n",
    "\n",
    "Imaginons tout de même que nous entrainions tout de même un modèle logit sur ce data set.  \n",
    "**Le modèle donne une accuracy de 89%** \n",
    "> Est-ce une bonne nouvelle, le modèle est-il pertinent?\n",
    "\n",
    "On aurait tendance à dire oui car 89% de bonne prédiction semble être une valeure élevée mais 89% est plus faible qu'une prédiction naïve...\n",
    "\n",
    "Si on créer un algo qui dit systématiquement qu'un opération n'est pas une fraude il aura raison à 99% du temps 99000/1000000.\n",
    "\n",
    "\n",
    "Si vous êtes confronter à ce genre de problème, vous pouvez utiliser les méthodos suivantes :\n",
    "\n",
    "- Upsampling : Augmenter le nombre de l'événement rare avec un tirage aléatoire avec replacement\n",
    "- Downsampling : Diminuer le nombre de l'événement non rare en retirant des cas\n",
    "- Oversampling : Algorithme ROSE ou SMOTE créant artificielment de nouveaux cas rare\n",
    "\n",
    "> Lien pour smote et rose https://machinelearningmastery.com/smote-oversampling-for-imbalanced-classification/\n",
    "\n"
   ]
  },
  {
   "cell_type": "markdown",
   "metadata": {},
   "source": [
    "### Features scaling"
   ]
  },
  {
   "cell_type": "markdown",
   "metadata": {},
   "source": [
    "Le scaling feature (mettre vos données à la même échelle) permet d'exprimer différentes features avec différentes grandeurs numériques dans une même unités.\n",
    "\n",
    "\n",
    "Il exite 2 grandes familles pour le feature scaling :\n",
    "\n",
    "- La normalisation\n",
    "\n",
    "- La standardisation\n",
    "\n",
    "Les 2 permettent d'exprimer les colonnes numériques dans une même unités, améliorer le temps de calcul des modèles et pour certains modèles avec de meilleur performance.\n",
    "\n",
    "#### Normalisation\n",
    "\n",
    "La normalisation est le fait de transformation vos features dans une échelle [0,1]. On l'appelle parfois *min-max scaling*.\n",
    "Sa formule est la suivante\n",
    "\n",
    "$X_{norm} = \\frac{X-X_{min}}{X_{max}-X_{min}}$\n",
    "\n",
    "```python\n",
    "from sklearn.preprocessing import MinMaxScaler\n",
    "#Exmple\n",
    "data = [[-1, 2], [-0.5, 6], [0, 10], [1, 18]]\n",
    "scaler = MinMaxScaler() \n",
    "print(scaler.fit(data))\n",
    "```\n",
    "\n",
    "#### Standardisation\n",
    "\n",
    "La standardisation est une technique qui permet quant à elle de transformer nos colonnes en variable avec une moyenne de 0 et un écart type de 1. Les colonnes transformées auront donc les mêmes paramètres de distribution.\n",
    "La standardisation présente des avantages quand il existe des outliers, comme on utilise pas la valeur min et max, la technique y est moins sensible!\n",
    "\n",
    "$z = \\frac{X-\\mu}{\\sigma}$\n",
    "\n",
    "```python \n",
    "from sklearn.preprocessing import StandardScaler\n",
    "data = [[0, 0], [0, 0], [1, 1], [1, 1]]\n",
    "scaler = StandardScaler()\n",
    "print(scaler.fit(data))\n",
    "\n",
    "```\n",
    "\n"
   ]
  },
  {
   "cell_type": "markdown",
   "metadata": {},
   "source": []
  },
  {
   "cell_type": "markdown",
   "metadata": {},
   "source": [
    "### Gradient Descent\n",
    "\n",
    "Quand vous calculez les paramètres de votre modèles vous avez 2 possibilités :\n",
    "\n",
    "\n",
    "- Utiliser une résolution mathématique pour obtenir la solution optimale (exemple, résolution MCO reg linéaire)  \n",
    "\n",
    "*Equation normale*\n",
    "\n",
    "- Utiliser une résolution d'optimitsation successive appellée **Descent de Gradient** qui va chercher itérativement les paramètres qui minise la fonction de coût du modèle\n",
    "\n",
    "\n",
    "> Plus d'information ici https://developers.google.com/machine-learning/crash-course/reducing-loss/an-iterative-approach\n",
    "\n",
    "\n",
    "Concrétement vous commencez avec un paramètr $\\theta$ donné et vous allez le faire varier itérativement en fonction de la valeur de sa dérivée.  \n",
    "On peut l'observer graphiquement sur le graphique N°1\n",
    "\n",
    "\n",
    "\n",
    "\n",
    "\n",
    "\n",
    "\n"
   ]
  },
  {
   "cell_type": "markdown",
   "metadata": {},
   "source": [
    "<u>Graphique N°1 :Descente de gradient</u>\n",
    "<img src=\"https://raw.githubusercontent.com/Roulitoo/cours_iae/master/00_intro/img/descente_gradient_1.png?token=GHSAT0AAAAAABZOBGASQJQ5WDKPI3YBYA3IY3CYWCA\" alt=\"fig_2_intuition_svm.png\" style=\"width:600px;\"/>\n",
    "\n",
    "Chaque point rouge représente une itération de descente de gradient et converge vers le minimun global de la fonction de perte.  \n",
    "Nous obtenons en ce point pour un paramètre $\\theta$ dont la valeur minise notre fonction de perte. \n",
    "\n",
    "\n",
    "<u>Graphique N°2 :Descente de gradient, learning rate trop faible</u>\n",
    "<img src=\"https://raw.githubusercontent.com/Roulitoo/cours_iae/master/00_intro/img/descente_gradient_2.png?token=GHSAT0AAAAAABZOBGATYCCCAVANYEDMAHTCY3CYY6Q\" alt=\"fig_2_intuition_svm.png\" style=\"width:600px;\"/>\n",
    "\n",
    "Il est important que la taille de 'saut' de mise à jour de la valeur de votre paramètre $\\theta$ ne soit pas trop faible.\n",
    "On appelera le paramètre qui contrôle le 'saut' **LEARNING RATE**.  \n",
    "Si celui-ci est trop faible vos 'sauts' seront petits il faudra beaucoup d'itérations avant de trouver le paramètre optimal.\n",
    "\n",
    "\n",
    "<u>Graphique N°3 :Descente de gradient, learning rate trop haut</u>\n",
    "<img src=\"https://raw.githubusercontent.com/Roulitoo/cours_iae/master/00_intro/img/descente_gradient_3.png?token=GHSAT0AAAAAABZOBGASJVGZSIW23ZBCCRT6Y3CY5OA\" alt=\"fig_2_intuition_svm.png\" style=\"width:600px;\"/>\n",
    "\n",
    "A l'inverse si le *LEARNING RATE* est trop élevé vous pourriez ne jamais trouver l'optimal de votre fonction.  \n",
    "Le calcul divergera et ne trouvera jamais de minimun local."
   ]
  },
  {
   "cell_type": "markdown",
   "metadata": {},
   "source": [
    "Un peu de math pour comprendre comment la descente de gradient marche.\n",
    "C'est un concept fondamental pour les algorithmes de machine learning!!\n",
    "\n",
    "Exemple descente de gradient avec fonction de coût MSE pour un modèle linéaire:\n",
    "\n",
    "On définit un fonction linéaire avec un vecteur de paramètre $\\theta$  \n",
    "$\\widehat{y} = \\theta_0 + \\theta_1x1+...+\\theta_nxn$\n",
    "\n",
    "où  :\n",
    "\n",
    "- $\\theta_0 : Biais\\space du\\space modele $\n",
    "- $\\theta_n : Paramètre \\space du \\space modèle$\n",
    "- $\\widehat{y} : Valeure\\space prédite$\n",
    "- $ n : Nombre \\space de \\space features$\n",
    "\n",
    "\n",
    "En forme vectorielle ca donne l'équation suivante\n",
    "\n",
    "$ \\widehat{y} = h_\\theta(x) = \\theta.X$\n",
    "\n",
    "On définit la fonction de perte de ce modèle comme :\n",
    "\n",
    "$MSE(X, h_\\theta) = \\frac{1}{N}\\sum_{i=1}^N (y_i-\\widehat{y_i})²$\n",
    "\n",
    "Pour implémenter la descente de gradient, vous devez calculer le gradient de la fonction de coût MSE en fonction de ses paramètres $\\theta$\n",
    "On doit donc calculer toutes les dérivées partielles de la fonction MSE\n",
    "\n",
    "$\\frac{\\partial}{\\partial \\theta_j} MSE(\\theta) = \\frac{2}{N}\\sum_{i=1}^N (\\theta^Tx^{(i)}-y^{(i)})x^{(i)}_j$\n",
    "  \n",
    "ou au format vectoriel\n",
    "\n",
    "$\\nabla_\\theta MSE(\\theta) = \\begin{pmatrix}  \\frac{\\partial}{\\partial \\theta_0} \\\\ \\frac{\\partial}{\\partial \\theta_1} \\\\ . \\\\\\frac{\\partial}{\\partial \\theta_n}  \\end{pmatrix} =\\frac{2}{N}X^T (X\\theta-y)$  \n",
    "\n",
    "Une fois que vous avez le vecteur de descente de gradient, vous devez simplement mettre à jour vos paramètre $\\theta$ jusqu'à atteindre le minimun de votre fonction.\n",
    "\n",
    "$\\theta^{(next)} = \\theta - \\eta\\nabla_\\theta MSE(\\theta)$"
   ]
  },
  {
   "cell_type": "markdown",
   "metadata": {},
   "source": [
    "#### Exemple Descente de gradient\n",
    "Un exemple en dimension 1 pour mieux comprendre 😀\n",
    "\n",
    "Nous avons une fonction  $f(x) = 3x^2 -2x +5 $ et nous souhaitons minimiser cette fonction\n",
    "\n",
    "<u>Graphique N°4 :Exemple descente de gradient</u>\n",
    "<img src=\"https://raw.githubusercontent.com/Roulitoo/cours_iae/master/00_intro/img/exemple_grad_1D_4.png?token=GHSAT0AAAAAABZOBGATOM24LDELJ53HLCDQY3C4SIQ\" alt=\"fig_2_intuition_svm.png\" style=\"width:500px;\"/>\n",
    "\n",
    "Etape 1 : On calcule son vecteur gradient \n",
    "\n",
    "En dimension le vecteur est de taille 1, donc on calcul uniquement une dérivée\n",
    "\n",
    "$f'(x) = 6x -2x $\n",
    " \n",
    "Etape 2 : On initialise une valeur de $x$ par défaut et une valeur pour le learning rate\n",
    "\n",
    "On pose $x_0 = 5$ et $\\eta = 0.05$\n",
    "\n",
    "La formule pour les étapes de descente de gradient en D1 est donc :\n",
    "$x_{n+1} = x_n -\\eta*f'(x_n)$\n",
    "\n",
    "Etape 3 : Itération sucessive déscente de gradient\n",
    "\n",
    "<u>Graphique N°5 :Exemple descente de gradient</u>\n",
    "<img src=\"https://raw.githubusercontent.com/Roulitoo/cours_iae/master/00_intro/img/descente_grad_exemple_5.png?token=GHSAT0AAAAAABZOBGATDNVWXSKSYDGE55KQY3C5XZA\" alt=\"fig_2_intuition_svm.png\" style=\"width:500px;\"/>\n",
    "\n",
    "\n",
    "Successivement la valeur de $\\theta$ se rapproche de la valeur de $x=\\frac{1}{3}$ qui minise la fonction.\n",
    "Quand vous utiliserez l'hyperparamètre **learning rate** pour un algo de machine learning c'est exactement ca qui se passera en back.\n",
    "\n",
    "> Vous savez maintenant ce qu'est la descente de gradient, bravo !"
   ]
  },
  {
   "cell_type": "code",
   "execution_count": 49,
   "metadata": {},
   "outputs": [],
   "source": []
  },
  {
   "cell_type": "markdown",
   "metadata": {},
   "source": [
    "### LOSS function VS Metric function"
   ]
  },
  {
   "cell_type": "code",
   "execution_count": null,
   "metadata": {},
   "outputs": [],
   "source": []
  },
  {
   "cell_type": "code",
   "execution_count": null,
   "metadata": {},
   "outputs": [],
   "source": []
  },
  {
   "cell_type": "markdown",
   "metadata": {},
   "source": [
    "liste à voir avec eux\n",
    "\n",
    "Gradient Descent  XX\n",
    "Learning rate  XX\n",
    "Hyperparameter  \n",
    "Loss function  \n",
    "Computational complexity  \n",
    "Grid search  \n",
    "Scaling features  X\n",
    "Evaluation metrics  \n",
    "Imbalanced dataset X\n"
   ]
  }
 ],
 "metadata": {
  "kernelspec": {
   "display_name": "Python 3",
   "language": "python",
   "name": "python3"
  },
  "language_info": {
   "codemirror_mode": {
    "name": "ipython",
    "version": 3
   },
   "file_extension": ".py",
   "mimetype": "text/x-python",
   "name": "python",
   "nbconvert_exporter": "python",
   "pygments_lexer": "ipython3",
   "version": "3.8.3"
  }
 },
 "nbformat": 4,
 "nbformat_minor": 4
}
