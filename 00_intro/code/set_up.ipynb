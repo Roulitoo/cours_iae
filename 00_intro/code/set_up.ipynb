{
 "cells": [
  {
   "cell_type": "markdown",
   "metadata": {},
   "source": [
    "# Générer un environnements virtuels"
   ]
  },
  {
   "cell_type": "code",
   "execution_count": 16,
   "metadata": {},
   "outputs": [],
   "source": [
    "import subprocess\n",
    "import os\n",
    "import requests\n",
    "\n",
    "\n"
   ]
  },
  {
   "cell_type": "code",
   "execution_count": 13,
   "metadata": {},
   "outputs": [],
   "source": [
    "def create_virtual_environment(install_dir, env_name):\n",
    "    # Chemin complet du répertoire de l'environnement virtuel\n",
    "    env_dir = os.path.join(install_dir, env_name)\n",
    "\n",
    "    # Créer un nouvel environnement virtuel\n",
    "    subprocess.run([f\"python\", \"-m\", \"venv\", env_dir], check=True)\n",
    "\n",
    "    print(f\"Environnement virtuel créé avec Python à : {env_dir}\")\n",
    "\n",
    "\n"
   ]
  },
  {
   "cell_type": "code",
   "execution_count": 14,
   "metadata": {},
   "outputs": [],
   "source": [
    "def install_requirements_in_virtual_environment(env_dir, env_name ):\n",
    "    # Chemin complet du fichier `requirements.txt`\n",
    "    requirements_path = os.path.join(env_dir, 'requirements.txt')\n",
    "\n",
    "    # Activer l'environnement virtuel\n",
    "    activate_script = os.path.join(env_dir,env_name, \"Scripts\", \"activate\")\n",
    "\n",
    "    # Exécuter l'activation de l'environnement virtuel et l'installation des dépendances\n",
    "    try:\n",
    "        subprocess.run(f'\"{activate_script}\" && pip install -r \"{requirements_path}\"', shell=True, check=True)\n",
    "        print(f\"Dépendances installées dans l'environnement virtuel : {env_dir}\")\n",
    "    except subprocess.CalledProcessError:\n",
    "        print(\"Une erreur s'est produite lors de l'installation des dépendances.\")\n",
    "\n"
   ]
  },
  {
   "cell_type": "code",
   "execution_count": 10,
   "metadata": {},
   "outputs": [],
   "source": [
    "python_version = \"3.10.2\"  # Remplacez ceci par la version de Python que vous souhaitez\n",
    "# Chemin du répertoire où vous souhaitez installer Python 3.11.6\n",
    "install_dir = \"C:\\\\Users\\\\roulB\\\\Desktop\\\\cours_data_svm_2023_24\\\\cours_iae\\\\PYTHON\"\n",
    "name = \"my_env\"  # Nom de l'environnement virtuel"
   ]
  },
  {
   "cell_type": "code",
   "execution_count": 11,
   "metadata": {},
   "outputs": [
    {
     "data": {
      "text/plain": [
       "'my_env'"
      ]
     },
     "execution_count": 11,
     "metadata": {},
     "output_type": "execute_result"
    }
   ],
   "source": [
    "name"
   ]
  },
  {
   "cell_type": "code",
   "execution_count": 17,
   "metadata": {},
   "outputs": [
    {
     "name": "stdout",
     "output_type": "stream",
     "text": [
      "Environnement virtuel créé avec Python à : C:\\Users\\roulB\\Desktop\\cours_data_svm_2023_24\\cours_iae\\PYTHON\\my_env\n",
      "Dépendances installées dans l'environnement virtuel : C:\\Users\\roulB\\Desktop\\cours_data_svm_2023_24\\cours_iae\\PYTHON\n"
     ]
    }
   ],
   "source": [
    "#Create virtual env\n",
    "create_virtual_environment(install_dir, name)\n",
    "#Install requirements\n",
    "install_requirements_in_virtual_environment(install_dir, name)"
   ]
  }
 ],
 "metadata": {
  "kernelspec": {
   "display_name": "my_env",
   "language": "python",
   "name": "python3"
  },
  "language_info": {
   "codemirror_mode": {
    "name": "ipython",
    "version": 3
   },
   "file_extension": ".py",
   "mimetype": "text/x-python",
   "name": "python",
   "nbconvert_exporter": "python",
   "pygments_lexer": "ipython3",
   "version": "3.11.6"
  }
 },
 "nbformat": 4,
 "nbformat_minor": 2
}
