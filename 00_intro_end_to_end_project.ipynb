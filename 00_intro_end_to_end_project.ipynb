{
 "cells": [
  {
   "cell_type": "code",
   "execution_count": null,
   "metadata": {},
   "outputs": [],
   "source": [
    "    "
   ]
  },
  {
   "cell_type": "markdown",
   "metadata": {},
   "source": [
    "Un projet Data en 8 étapes, ma clé de lecture :)"
   ]
  },
  {
   "cell_type": "markdown",
   "metadata": {},
   "source": [
    "## 1-Bien définir le problème"
   ]
  },
  {
   "cell_type": "markdown",
   "metadata": {},
   "source": [
    "Bien que vous ayez un profil technique, la gestion de projet fera partie de votre métier.\n",
    "\n",
    "Chaque projet se doit d'avoir un problème bien cadré sinon vous allez dans le mur!\n",
    "Si vous n'êtes pas en mesure de définir le problème vous ne serez pas à quoi répondre et donc vous ne pourrez rien développer ou alors vous répondez à coté dans 90% des cas!\n",
    "\n",
    "Pour ce faire vous pouvez suivre les recommandations suivantes :\n",
    "\n",
    "- Explorer la problématique qui vous est soumise.\n",
    "   Qu'elle est le problème?\n",
    "   Pourquoi le problème existe, qu'est ce que cela engendre?\n",
    "   Quelles sont les solutions pour y répondre aujourd'hui?\n",
    "   Mesure-t-on le problème aujourd'hui? Si pas de données pour le mesurer il sera compliqué pour vous de prouver à postériorio que votre améliore améliore quoique ce soit.\n",
    "   Qui est impacté par ce problème?\n",
    "\n",
    "   Intérogez les personnes qui gravitent autour de problème et ne vous lancez pas directement dans les données!\n",
    "\n",
    "\n",
    "   A l'image d'un architecte, plus les plans de votre projet seront précis plus il sera facile de le développer après.\n",
    "\n",
    "\n",
    "   A la fin de l'étape de définition du problème vous serez en mesure :\n",
    "\n",
    "   Définir le problème, de le mesure, d'expliquer votre solution et ses impactes.\n",
    "\n",
    "   N'hésitez pas à prototyper vos solutions avant de lancer un dévellopement. \n",
    "   Parfois une feuille et un crayon permettent de tester votre solution avant de la dévelloper.\n",
    "\n",
    "   Pensez également à consulter réguliérement la personne qui vous a exposé le problème afin de ne pas trop vous éloigner de ses attentes\n",
    "\n",
    "\n"
   ]
  },
  {
   "cell_type": "markdown",
   "metadata": {},
   "source": [
    "## 2-Trouver les données"
   ]
  },
  {
   "cell_type": "code",
   "execution_count": null,
   "metadata": {},
   "outputs": [],
   "source": [
    "Maintenant que vous avez un 'plan', vous savez comment répondre théoriquement au problème mais il va falloir se confronter à la réalité.\n",
    "\n",
    "Vous allez devoir trouver les données dont vous avez besoin pour répondre à votre problèmatique:\n",
    "\n",
    "- Lister les données dont vous avez besoin\n",
    "- Trouver un interlocteur ou un document vous explicant où sont les données/ comment elles sont générées \n",
    "- Créer vous un nouvel espace de travail\n",
    "- Vérifier les obligations légales relatives à vos données (RGDP, Techniques, fuites de données, ...)\n",
    "- Demander des autorisations (si besoin)\n",
    "- Commencer à regrader le type des données dont vous avez besoin (Image, texte, tabulaire, temporelle, géographique,...)"
   ]
  },
  {
   "cell_type": "markdown",
   "metadata": {},
   "source": [
    "## 3-Explorer les données"
   ]
  },
  {
   "cell_type": "code",
   "execution_count": null,
   "metadata": {},
   "outputs": [],
   "source": [
    "#Eda basics\n",
    "#Stats descriptive\n",
    "#Multivarié"
   ]
  },
  {
   "cell_type": "markdown",
   "metadata": {},
   "source": [
    "## 4-Préparer le dataset"
   ]
  },
  {
   "cell_type": "code",
   "execution_count": null,
   "metadata": {},
   "outputs": [],
   "source": []
  },
  {
   "cell_type": "markdown",
   "metadata": {},
   "source": [
    "## 5 Explorer des modèles et déterminer une short-list "
   ]
  },
  {
   "cell_type": "code",
   "execution_count": null,
   "metadata": {},
   "outputs": [],
   "source": []
  },
  {
   "cell_type": "markdown",
   "metadata": {},
   "source": [
    "## 6- Tuner les modèles"
   ]
  },
  {
   "cell_type": "code",
   "execution_count": null,
   "metadata": {},
   "outputs": [],
   "source": []
  },
  {
   "cell_type": "markdown",
   "metadata": {},
   "source": [
    "## 7 Présenter votre solution"
   ]
  },
  {
   "cell_type": "code",
   "execution_count": null,
   "metadata": {},
   "outputs": [],
   "source": []
  },
  {
   "cell_type": "markdown",
   "metadata": {},
   "source": [
    "## 8 Automatiser votre modèle, monotorer votre modèle et maintenir"
   ]
  },
  {
   "cell_type": "code",
   "execution_count": null,
   "metadata": {},
   "outputs": [],
   "source": []
  },
  {
   "cell_type": "code",
   "execution_count": null,
   "metadata": {},
   "outputs": [],
   "source": []
  },
  {
   "cell_type": "code",
   "execution_count": null,
   "metadata": {},
   "outputs": [],
   "source": []
  }
 ],
 "metadata": {
  "kernelspec": {
   "display_name": "Python 3",
   "language": "python",
   "name": "python3"
  },
  "language_info": {
   "codemirror_mode": {
    "name": "ipython",
    "version": 3
   },
   "file_extension": ".py",
   "mimetype": "text/x-python",
   "name": "python",
   "nbconvert_exporter": "python",
   "pygments_lexer": "ipython3",
   "version": "3.8.3"
  }
 },
 "nbformat": 4,
 "nbformat_minor": 4
}
