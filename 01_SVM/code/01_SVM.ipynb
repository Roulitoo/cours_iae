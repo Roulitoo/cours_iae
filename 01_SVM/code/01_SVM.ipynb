{
 "cells": [
  {
   "cell_type": "code",
   "execution_count": 969,
   "metadata": {},
   "outputs": [],
   "source": [
    "import os\n",
    "chdir('C://Users/roulB/data_science/cours/01_SVM/img/')"
   ]
  },
  {
   "cell_type": "markdown",
   "metadata": {},
   "source": [
    "<CENTER><h1>SVM sous Python</CENTER>\n"
   ]
  },
  {
   "cell_type": "markdown",
   "metadata": {},
   "source": [
    "Table des matières\n",
    "\n"
   ]
  },
  {
   "cell_type": "markdown",
   "metadata": {},
   "source": [
    "## Préambule"
   ]
  },
  {
   "cell_type": "markdown",
   "metadata": {},
   "source": [
    "Connaissez-vous le fameux jeu de données IRIS produit par Ronald Fisher en 1936??  \n",
    "Si non, on nous allonsy remédier tout de suite!  \n",
    "\n",
    "Nous pouvons accèder à ce dataset depuis sklearn avec le code suivant :\n",
    "\n",
    "```python\n",
    "from sklearn.datasets import load_iris\n",
    "import pandas as pd\n",
    "import numpy as np\n",
    "\n",
    "data = load_iris()\n",
    "\n",
    "# Array to Pandas DataFrame\n",
    "iris = pd.DataFrame(np.c_[data['data'],\n",
    "                          data['target']\n",
    "                         ],\n",
    "                    columns = data.feature_names + ['species']\n",
    "                   )\n",
    "\n",
    "iris['species'] = iris['species'].astype('int')\n",
    "```"
   ]
  },
  {
   "cell_type": "markdown",
   "metadata": {},
   "source": [
    "Le jeu de données Iris est un jeu de données regroupant 3 espèces de plantes :\n",
    "\n",
    "- La Setosa\n",
    "- La Versicolore\n",
    "- La Virginica\n",
    "\n",
    "Pour chaque plante nous avons mesuré en cm 4 caractéristiques.\n",
    "La longueur de ses pétales et sépales (visible sous la photo ci-dessous) ainsi que leur largeur."
   ]
  },
  {
   "cell_type": "markdown",
   "metadata": {},
   "source": [
    "## Iris flower\n",
    "<center> Exemple d'une fleur Iris\n",
    "    \n",
    "![iris_photo](https://s3.amazonaws.com/assets.datacamp.com/blog_assets/Machine+Learning+R/iris-machinelearning.png)"
   ]
  },
  {
   "cell_type": "markdown",
   "metadata": {},
   "source": [
    "On affiche le jeu de données Iris pour voir comment les informations sont représentées.  \n",
    "Les 3 espéces ont été recodées de la manière suivantes :\n",
    "\n",
    "**0 = setos**\n",
    "\n",
    "**1 = versicolor** \n",
    "\n",
    "**2 = virginica**\n",
    "\n",
    "On compte 50 lignes par espèces pour un jeu de données au format (150,5)\n"
   ]
  },
  {
   "cell_type": "markdown",
   "metadata": {},
   "source": [
    "<u>Tableau N°1 :  5 premieres lignes du jeu de données IRIS </u>\n",
    "\n",
    "| sepal length (cm) | sepal width (cm) | petal length (cm) | petal width (cm) | species |\n",
    "|------------------:|-----------------:|------------------:|-----------------:|--------:|\n",
    "|               5.1 |              3.5 |               1.4 |              0.2 |       0 |\n",
    "|               4.9 |              3.0 |               1.4 |              0.2 |       0 |\n",
    "|               4.7 |              3.2 |               1.3 |              0.2 |       0 |\n",
    "|               4.6 |              3.1 |               1.5 |              0.2 |       0 |\n",
    "|               5.0 |              3.6 |               1.4 |              0.2 |       0 |\n",
    "    \n",
    "\n",
    "Le tableau comporte 4 features(colonnes) ainsi que l'espèce de la fleur.  \n",
    "\n",
    "Regardons également sur le graphique N°1 la dispersion de la longueur des pétales en fonction de leur largeur."
   ]
  },
  {
   "cell_type": "markdown",
   "metadata": {},
   "source": [
    "<u>Graphique N°1 :  Répartition des Iris en fonction de la longueur et largueur de ses pétales</u>\n",
    "<img src=\"https://raw.githubusercontent.com/Roulitoo/cours_iae/main/img/fig_1_iris_scatter_y3.png?token=GHSAT0AAAAAABZOBGASBLUFH4KFDPKMDBLCY2ZS7VA\" alt=\"fig_1_iris_scatter_y3.png\" style=\"width:800px;\"/>\n",
    "\n",
    "On remarque que les points rouges ont une distribution très différentes des autres.  \n",
    "Pour les points gris et oranges on voit également qu'ils appartiennent à 2 distributions distinctes mais la frontière entre les 2 est plus minces"
   ]
  },
  {
   "cell_type": "markdown",
   "metadata": {},
   "source": [
    "## Presentation intuitive d'un SVM\n",
    "\n",
    "\n",
    "Prenons un exemple de classification binaire avec le data set Iris.  \n",
    "Pour faire simple nous utiliserons seulement 2 features (plus simple à représenter)\n",
    "\n",
    "Nous décidons de conserver la longueur du petal et la largeur du petal( colonnes 3 & 4) \n",
    "\n",
    "🤔  \n",
    "Imaginons maintenant qu'on nous demande de tracer une fonction permettant de séparer nos 2 nuages de point par une frontière.  \n",
    "**Comment feriez vous?**\n",
    "\n"
   ]
  },
  {
   "cell_type": "markdown",
   "metadata": {},
   "source": [
    "Nous cherchons une fonction de la forme :\n",
    "$$\n",
    "f(x) = X^T\\beta = x1\\beta1 + x2\\beta2 + ... + \\beta0 =0\n",
    "$$\n",
    "\n",
    "Cette fonction de permettre de déterminer :\n",
    "\n",
    "$$  \n",
    "f(x)>0 : classe: 1\n",
    "$$\n",
    "$$f(x)<0 : classe:0\n",
    "$$"
   ]
  },
  {
   "cell_type": "markdown",
   "metadata": {},
   "source": [
    "<u>Graphique N°2 :Frontière de décision pour classification binaire</u>\n",
    "<img src=\"https://raw.githubusercontent.com/Roulitoo/cours_iae/main/img/fig_2_intuition_svm.png?token=GHSAT0AAAAAABZOBGATTNP5G5DXIMM2AD72Y2ZTZPQ\" alt=\"fig_2_intuition_svm.png\" style=\"width:600px;\"/>\n",
    "\n",
    "Pour ce problème, il existe une **infinité de solution**. Comment en déterminer une optimale??\n",
    "\n",
    "Une première piste est qu'en machine learning, notre objectif est de réalisation une prédiction.  \n",
    "Pour cela, il faut donc que notre modèle soit **généralisable**. Un point qui ne figure pas dans les données d'entrainement, devra être bien classifié.\n"
   ]
  },
  {
   "cell_type": "markdown",
   "metadata": {},
   "source": [
    "Nous allons donc apporter une contrainte à notre frontière de décision $f(x)$.\n",
    "Elle ne devra pas être trop proche des points en terme de distance.  \n",
    "Plus elle sera proche plus on aura de chance qu'un nouveau point issu de la distribution 0 ou 1 soit mal classifié.\n",
    "\n",
    "**Autrement dit, nous devons trouver une contrainte à notre fonction afin d'apporter une solution unique.**\n",
    "\n",
    "\n"
   ]
  },
  {
   "cell_type": "markdown",
   "metadata": {},
   "source": [
    "<u>Gprahique N°3 : Calculer une distance </u>\n",
    "<img src=\"https://raw.githubusercontent.com/Roulitoo/cours_iae/main/img/03_calcul_distance.png?token=GHSAT0AAAAAABZOBGATQDJTU72UB5OMPXQ4Y2ZT5LA\" alt=\"03_calcul_distance\" style=\"width:400px;\"/>"
   ]
  },
  {
   "cell_type": "markdown",
   "metadata": {},
   "source": [
    "Pour rappel la distance entre un point et une droite se calcule de la manière suivante pour un espace à 2 dimensions\n",
    "\n",
    "\n",
    "$$\n",
    "d = \\frac{\\vert{ax+by+c}\\vert}{\\sqrt{a²+b²}}\n",
    "$$"
   ]
  },
  {
   "cell_type": "markdown",
   "metadata": {},
   "source": [
    "On peut généraliser ce calcul de distance pour trouver les marges du SVM.\n",
    "\n",
    "On va **chercher le ou les points** qui permettent de **maximiser l'écart entre la marge et la frontière de décision** (hyperplan) tout en **minimisant l'écart entre la marge à un des points d'entraînement**\n",
    "\n",
    "Si on le formalise cela donne la formule suivante:\n"
   ]
  },
  {
   "cell_type": "markdown",
   "metadata": {},
   "source": [
    "#### Calcul de la marge"
   ]
  },
  {
   "cell_type": "markdown",
   "metadata": {},
   "source": [
    "$$\n",
    "\\frac{l_k(\\omega^T\\beta+b)}{\\vert\\vert\\omega\\vert\\vert_2} \n",
    "$$\n",
    "$$\n",
    "$$\n",
    "$$\n",
    "$$\n",
    "$$\n",
    "\\vert\\vert\\omega\\vert\\vert_2 : \\sqrt{\\omega_1²+\\omega_2²+\\omega_3²+...+\\omega_n²}\n",
    "$$"
   ]
  },
  {
   "cell_type": "markdown",
   "metadata": {},
   "source": [
    "Où $\\vert\\vert\\omega\\vert\\vert_2$ designe la norme euclidienne de $\\omega$ et $l_k$ le label associé à chaque $x_k$.\n",
    "<br>\n",
    "La marge d’un hyperplan de paramètres $(\\omega,b)$ par rapport à un ensemble de points $x_k$ est donc \n",
    "\n",
    "\n",
    "$$min(k)\\frac{l_k(\\omega^T\\beta+b)}{\\vert\\vert\\omega\\vert\\vert_2} $$\n",
    "\n",
    "\n",
    "Pour rappel, la marge est la distance minimale de l’hyperplan à un des points d’entraînement.\n"
   ]
  },
  {
   "cell_type": "markdown",
   "metadata": {},
   "source": [
    "#### Maximisation de la marge"
   ]
  },
  {
   "cell_type": "markdown",
   "metadata": {},
   "source": [
    "On veut trouver l’hyperplan de support qui permet de maximiser cette marge, c’est-à-dire qu’on veut trouver un hyperplan avec la plus grande marge possible.\n",
    "<br>\n",
    "Puisque l’on cherche l’hyperplan qui maximise la marge, on cherche l’unique hyperplan dont les paramètres $(\\omega,b)$ sont donnés par la formule :\n",
    "<br>\n",
    "\n",
    "$$\n",
    "arg max_{\\omega,b} min_k \\frac{l_k(\\omega^T\\beta+b)}{\\vert\\vert\\omega\\vert\\vert_2} \n",
    "$$"
   ]
  },
  {
   "cell_type": "markdown",
   "metadata": {},
   "source": [
    "<u>Graphique N°4 : Frontière de décision et marges, SVM linéaire</u>\n",
    "<img src=\"https://raw.githubusercontent.com/Roulitoo/cours_iae/main/img/fig_4_visualisation_svm_lineaire.png?token=GHSAT0AAAAAABZOBGASGEY5ZSO6KNSISS36Y2ZUGFQ\" alt=\"fig_4_visualisation_svm_lineaire\" style=\"width:600px;\"/>\n",
    "    \n",
    "Sur le graphique N°4, on peut observer les points frontières qui maximise l'écart entre la marge et la frontière de décision.\n",
    "Ici on peut dire que la frontière de décision est bonne.  \n",
    "Elle est suffisament large pour que la probabilité qu'un point soit mal classifié est peu probable."
   ]
  },
  {
   "cell_type": "markdown",
   "metadata": {},
   "source": [
    "📝  **Pour info**\n",
    "- On appelle les points collés aux marges ==> **Points edges** ou **points supports**\n",
    "- La fonction qui sépare nos 2 ensembles de points est une **frontière de décision**\n",
    "- Les droites collès aux point edges sont les **marges**"
   ]
  },
  {
   "cell_type": "markdown",
   "metadata": {},
   "source": [
    "❓**Questions**\n",
    "\n",
    "Que se passe-t-il si je rajoute une observation? \n",
    "Ma frontière de décision change-t-telle?"
   ]
  },
  {
   "cell_type": "markdown",
   "metadata": {},
   "source": [
    "⚠️**Attention**\n",
    "\n",
    "Notez qu'il est important de toujours standardiser vos données lorsque vous utilisez des SVM.  \n",
    "De manière générale quand vous utilisez des modèles avec calcul de distance, pensez à standardiser vos données.\n",
    "   \n",
    "   Pour cela vous avez plusieurs opérations mathématiques pour mettre vos données à la même échelle, voici les principaux à retenir :\n",
    "   \n",
    "   - **Min Max Scaling**\n",
    "   - **Normalization** \n",
    "   - **Standardization**\n",
    "   "
   ]
  },
  {
   "cell_type": "markdown",
   "metadata": {},
   "source": [
    "### Standardisation\n",
    "Prenons le jeu de données suivant avec $x_1$ et $x_2$ des features associé à un label {0,1}.\n",
    "On également rajouté la standardisation de nos 2 feature $x_1scaled$ et $x_2scaled$\n",
    "\n",
    "Nous lançons un SVM linéaire pour tenter de classifier les labels 0 et 1 en fonction de ces features.\n",
    "Un premier avec les features brutes et l'autre avec les features standardisés\n",
    "\n",
    "Regardons maintenant sur le graphique N° comment la standardisation impact la frontière de décision."
   ]
  },
  {
   "cell_type": "markdown",
   "metadata": {},
   "source": [
    "<u>Tableau N°2 : Feature scaling</u>\n",
    "\n",
    "| x1 | x2 | x1_scaled | x2_scaled | label |\n",
    "|----|----|-----------|-----------|-------|\n",
    "| 1  | 50 | -1.507    | -0.115    | 0     |\n",
    "| 5  | 20 | 0.904     | -1.5010   | 0     |\n",
    "| 3 | 80  | -0.301    | 1.270     | 1     |\n",
    "| 5  | 60 | 0.904     | 0.346     | 1     |"
   ]
  },
  {
   "cell_type": "markdown",
   "metadata": {},
   "source": [
    "<u>Graphique N°5 : Influence de l'échelle des données sur le modèle </u>\n",
    "<img src=\"https://raw.githubusercontent.com/Roulitoo/cours_iae/main/img/fig_5_scaling_data.png?token=GHSAT0AAAAAABZOBGATNCBW3H74K63FTNESY2ZUQGA\" alt=\"fig_5_scaling_data\" style=\"width:600px;\"/>"
   ]
  },
  {
   "cell_type": "markdown",
   "metadata": {},
   "source": [
    "<style>\n",
    "div.red { background-color:#ff000020; border-radius: 5px; padding: 20px;}\n",
    "</style>\n",
    "<div class = \"red\">\n",
    "📝  <strong>Pour info</strong>\n",
    "    \n",
    "Les SVM sont sensibles à l'échelle des données. Il est important de standardiser ses données avant d'entrainer le modèle.\n",
    "\n",
    "$$\n",
    "  Xscale = \\frac{X-\\mu}{\\sigma}\\ \n",
    "$$\n",
    "\n",
    "</div>"
   ]
  },
  {
   "cell_type": "markdown",
   "metadata": {},
   "source": [
    "## SVM LINEAIRE"
   ]
  },
  {
   "cell_type": "markdown",
   "metadata": {},
   "source": [
    "### HARDS MARGING VS SOFT MARGIN CLASSIFCATION\n",
    "\n",
    "A ce stade tout se passe bien et la classification d'un SVM semble être parfaite pour notre jeu de données.\n",
    "\n",
    "Cependant il est très rare qu'un jeu de données soit linéairement séparable... pour ainsi dire jamais avec des données d'entreprise.\n",
    "Pour l'instant nous avons vu ce qu'on appelle un SVM à *hard margin classification*. Chaque individu doit être d'un coté de la zone de décision.\n",
    "\n",
    "Autrement dit on ne peut pas trouver une versicolore du coté d'une setosa\n",
    "\n",
    "**Mais celà pose 2 problèmes**\n",
    "\n"
   ]
  },
  {
   "cell_type": "markdown",
   "metadata": {},
   "source": [
    "Prenons l'exemple du graphique N°6.\n",
    "\n",
    "Il est impossible de réaliser une classification linéaire à l'aide d'un SVM.\n",
    "L'outliers empêche de trouver une frontière de décision qui permettrait de classifier parfaitement nos 2 groupes.\n",
    "\n",
    "Dans le 2nd cas, visible sur le graphique N°\n",
    "Ici l'outliers est tellement éloigné du point moyen de son groupe qu'il réduit drastiquement l'écart des marges du SVM.\n",
    "<br>\n",
    "La frontière de décision ne sera pas optimal et il sera compliqué de généraliser ce modèle à d'autres individus.\n"
   ]
  },
  {
   "cell_type": "markdown",
   "metadata": {},
   "source": [
    "<u>Graphique N°6 : Données non linéaire et SVM </u>\n",
    "<img src=\"https://raw.githubusercontent.com/Roulitoo/cours_iae/main/img/fig_6_svm_linear_problem.png?token=GHSAT0AAAAAABZOBGAS6PBYQVT6TKJJQGXIY2ZUTXQ\" alt=\"fig_6_svm_linear_problem\" style=\"width:800px;\"/>"
   ]
  },
  {
   "cell_type": "markdown",
   "metadata": {},
   "source": [
    "Pour éviter ce genre de problèmes, les statisticiens ont développés un modèle plus flexible.\n",
    "Son objectif est de trouver un équilibre entre la maximisation des marges et le nombre de fois où l'on peut ignorer un point.\n",
    "(nombre de points du mauvais coté, mal classifié)\n",
    "\n",
    "Le modèle s'appelle le *soft margin classification* en opposition au *hard margin classification* vu plus haut.\n",
    "\n"
   ]
  },
  {
   "cell_type": "markdown",
   "metadata": {},
   "source": [
    "### Soft Margin"
   ]
  },
  {
   "cell_type": "code",
   "execution_count": 455,
   "metadata": {},
   "outputs": [],
   "source": [
    "#Insérer meme enfin du code"
   ]
  },
  {
   "cell_type": "markdown",
   "metadata": {},
   "source": [
    "La soft margin classification fait intervenir un nouveau paramètre dans le modèle. On l'appelle paramètre de régularisation $C$.\n",
    "Il est à valeur dans $]0,\\infty[$.\n",
    "On parle ici d'hyperparamètre car sa valeur optimale n'est pas fixée mais dépend du jeu de données. C'est à vous de le trouver pour optimiser votre modèle\n",
    "\n",
    "Regardons comment faire avec le code python suivant:"
   ]
  },
  {
   "cell_type": "markdown",
   "metadata": {},
   "source": [
    "```python\n",
    "#Import Package\n",
    "import numpy as np\n",
    "from sklearn import datasets\n",
    "from sklearn.pipeline import Pipeline\n",
    "from sklearn.preprocessing import StandardScaler\n",
    "from sklearn.svm import LinearSVC\n",
    "iris = datasets.load_iris()\n",
    "X = iris[\"data\"][:, (2, 3)] # petal length, petal width\n",
    "y = (iris[\"target\"] == 2).astype(np.float64) # Iris virginica\n",
    "\n",
    "# Code\n",
    "\n",
    "#Standardiser nos données\n",
    "scaler = StandardScaler()\n",
    "X_scaled = scaler.fit_transform(X)\n",
    "\n",
    "#Entrainement modèle\n",
    "# Loss='hinge' permet de dire qu'on utile un SVM classique\n",
    "# Vous pouvez regarder la doc pour avoir + d'infos\n",
    "svm_clf= LinearSVC(loss='hinge', C=1)\n",
    "svm_clf.fit(X_scaled, y)\n",
    "\n",
    "#Prediction pour un nouveau point\n",
    "svm_clf.predict([[1,1]])\n",
    "#==> array([1.])\n",
    "\n",
    "```"
   ]
  },
  {
   "cell_type": "markdown",
   "metadata": {},
   "source": [
    "Plus on augmente la valeur de $C$ plus le modèle va avoir tendance à produire des marges proches de la frontière de décision et à l'inverse plus $C$ est petit plus la frontière sera grande.\n",
    "<br>\n",
    "Pour mieux le comprendre, regardons le graphique N° . Cela représente 3 SVM entrainés avec 3 valeurs différentes de $C$ à savoir 1, 50 et 100"
   ]
  },
  {
   "cell_type": "markdown",
   "metadata": {},
   "source": [
    "Code suivant\n",
    "```python\n",
    "scaler = StandardScaler()\n",
    "svm_clf1 = LinearSVC(C=1, loss=\"hinge\", random_state=42)\n",
    "svm_clf2 = LinearSVC(C=50, loss=\"hinge\", random_state=42)\n",
    "svm_clf3 = LinearSVC(C=500, loss=\"hinge\", random_state=42)\n",
    "\n",
    "scaled_svm_clf1 = Pipeline([\n",
    "        (\"scaler\", scaler),\n",
    "        (\"linear_svc\", svm_clf1),\n",
    "    ])\n",
    "scaled_svm_clf2 = Pipeline([\n",
    "        (\"scaler\", scaler),\n",
    "        (\"linear_svc\", svm_clf2),\n",
    "    ])\n",
    "\n",
    "scaled_svm_clf3 = Pipeline([\n",
    "        (\"scaler\", scaler),\n",
    "        (\"linear_svc\", svm_clf3),\n",
    "    ])\n",
    "\n",
    "scaled_svm_clf1.fit(X, y)\n",
    "scaled_svm_clf2.fit(X, y)\n",
    "scaled_svm_clf3.fit(X, y)\n",
    "```"
   ]
  },
  {
   "cell_type": "markdown",
   "metadata": {},
   "source": [
    "<u>graphique N°7 :  </u>\n",
    "<img src=\"https://raw.githubusercontent.com/Roulitoo/cours_iae/main/img/fig_7_regularisation_critere.png?token=GHSAT0AAAAAABZOBGASPSRSPNQDAEM3QKSOY2ZS3KA\" alt=\"fig_7_regularisation_critere\" style=\"width:1400px;\"/>"
   ]
  },
  {
   "cell_type": "markdown",
   "metadata": {},
   "source": [
    "Pour les autres hyperparamtres fixés, une augmentation de C permet de diminuer la taille des marges. \n",
    "Plus la taille de la marge sera faible plus il sera compliqué de généralisé pour le modèle\n",
    "<br>\n",
    "ℹ️ Le SVM linéaire est également disponible à travers la fonction **SGDClassifier** de sklearn. La différence essentiel provient de l'optimiseur utilisé. Ici la fonction utilise une descente de gradient qui peut s'avérer utile dans le cas de dataset avec beaucoup de ligne (n grand)\n",
    "\n",
    "On l'utilise de la mêmme manière\n",
    "\n",
    "```python\n",
    "\n",
    "import numpy as np\n",
    "from sklearn.linear_model import SGDClassifier\n",
    "from sklearn.preprocessing import StandardScaler\n",
    "from sklearn.pipeline import make_pipeline\n",
    "X = np.array([[-1, -1], [-2, -1], [1, 1], [2, 1]])\n",
    "Y = np.array([1, 1, 2, 2])\n",
    "# Always scale the input. The most convenient way is to use a pipeline.\n",
    "clf = make_pipeline(StandardScaler(),\n",
    "                    SGDClassifier(max_iter=1000, loss='hinge', alpha=0.001))\n",
    "#alpha=1/(n*C)\n",
    "clf.fit(X, Y)\n",
    "#https://scikit-learn.org/stable/modules/generated/sklearn.linear_model.SGDClassifier.html\n",
    "\n",
    "```"
   ]
  },
  {
   "cell_type": "markdown",
   "metadata": {},
   "source": [
    "## Classification non liénaire"
   ]
  },
  {
   "cell_type": "markdown",
   "metadata": {},
   "source": [
    "La classfication linéaire est très utile et peut s'avérer précise pour de nombreux dataset. Malheuresement quand on se confronte à des données réelles et non pas un dataset kaggle, les données sont rarement linéairement séparables.\n",
    "\n",
    "Les modèles liénaires fournissent des performances assez faibles et ne permettent pas de répondre à votre problème.\n",
    "Heuresement, il existe des technique pour faire évoluer les SVM et traiter les cas où les données ne sont pas linéairement séparable.\n",
    "\n",
    "Prenons l'exemple intuitif suivant :"
   ]
  },
  {
   "cell_type": "markdown",
   "metadata": {},
   "source": [
    "<u>graphique N°8 :  </u>\n",
    "<img src=\"https://raw.githubusercontent.com/Roulitoo/cours_iae/main/img/fig_8_SVM_non_lineaire.png?token=GHSAT0AAAAAABZOBGASMJJWQECQ3ULPKKDGY2ZS37A\" alt=\"fig_8_SVM_non_lineaire\" style=\"width:800px;\"/>"
   ]
  },
  {
   "cell_type": "markdown",
   "metadata": {},
   "source": [
    "Ce problème est un cas récurrent en machine learning. Nous cherchons à classifier des données mais les features disponibles ne permettent pas de le faire.\n",
    "\n",
    "C'est un cas d'école de **feature engineering**.\n",
    "Ici il faut transformer nos données brutes de telle sorte qu'on puisse classifier nos données linéairement après transformation.\n",
    "\n",
    "Une transformation possible est d'ajouter un feature qui serait $X_2 = X_1²$\n",
    "\n",
    "Regardons graphiquement le résultat"
   ]
  },
  {
   "cell_type": "markdown",
   "metadata": {},
   "source": [
    "<u>graphique N°9 :  </u>\n",
    "<img src=\"https://raw.githubusercontent.com/Roulitoo/cours_iae/main/img/fig_9_svm_separation_lineaire.png?token=GHSAT0AAAAAABZOBGATM6V77DASKHUIZVZYY2ZS4HA\" alt=\"fig_9_svm_separation_lineaire\" style=\"width:800px;\"/>"
   ]
  },
  {
   "cell_type": "markdown",
   "metadata": {},
   "source": [
    "En utilisant une transformation qui nous fait passer d'un problème à 1D à 2D, on trouve un espace où nos données sont linéairement séparable.\n",
    "**Ce type de transformation est très utile pour les SVM mais s'applique à tous les modèles de machine learning.**\n"
   ]
  },
  {
   "cell_type": "markdown",
   "metadata": {},
   "source": [
    "<style>\n",
    "div.red { background-color:#ff000020; border-radius: 5px; padding: 20px;}\n",
    "</style>\n",
    "<div class = \"blue\">\n",
    "\n",
    "Si vos données brutes offres des performances médiocres, pensez à faire du feature engineering sur vos données.\n",
    "         \n",
    "- Appliquer des fonctions sur vos données pour en créer des nouvelles (log, puissance, sigmoide, loi normale, ...)\n",
    "- Combiner des données $X_{new} = X_1*X_2$\n",
    "- Créer de nouveau feature avec des modèles (ACP, ACM, AUTOENCODER, KNN)\n",
    "- Tester, soyez créatif ;)\n",
    "</div>"
   ]
  },
  {
   "cell_type": "markdown",
   "metadata": {},
   "source": [
    "Pour implémenter ce type d'approche sklearn offre des fonctions toutes faites.\n",
    "Vous pouvez utiliser la fonction *PolynomiaFeatures* dans le module sklearn.preprocessing qui permet de faire des transformations polynomiales pour chaque features numériques.\n",
    "\n",
    "```Python\n",
    "#Import package\n",
    "from sklearn.datasets import make_moons\n",
    "from sklearn.pipeline import Pipeline\n",
    "from sklearn.preprocessing import PolynomialFeatures\n",
    "#Function sklearn qui genere données en forme de lune\n",
    "X, y = make_moons(n_samples=100, noise=0.15)\n",
    "polynomial_svm_clf = Pipeline([\n",
    "(\"poly_features\", PolynomialFeatures(degree=3)),\n",
    "(\"scaler\", StandardScaler()),\n",
    "(\"svm_clf\", LinearSVC(C=10, loss=\"hinge\"))\n",
    "])\n",
    "polynomial_svm_clf.fit(X, y)\n",
    "\n",
    "```"
   ]
  },
  {
   "cell_type": "markdown",
   "metadata": {},
   "source": [
    "```python\n",
    "from sklearn.datasets import make_moons\n",
    "from sklearn.pipeline import Pipeline\n",
    "from sklearn.preprocessing import PolynomialFeatures\n",
    "from sklearn.svm import LinearSVC\n",
    "X, y = make_moons(n_samples=100, noise=0.15, random_state=42)\n",
    "\n",
    "#Transformation polynomiale de nos features\n",
    "poly = PolynomialFeatures(degree=3)\n",
    "X_degr3 = poly.fit_transform(X)\n",
    "\n",
    "#Standardiser les données\n",
    "scaler = StandardScaler()\n",
    "X_degr3_scaled = scaler.fit_transform(X_degr3)\n",
    "\n",
    "#SVM classification\n",
    "\n",
    "polynomial_svm_clf_test= LinearSVC(C=1, loss='hinge', random_state=42)\n",
    "polynomial_svm_clf_test.fit(X_degr3_scaled,y)\n",
    "```"
   ]
  },
  {
   "cell_type": "markdown",
   "metadata": {},
   "source": [
    "<u>graphique N°10 :  </u>\n",
    "<img src=\"https://raw.githubusercontent.com/Roulitoo/cours_iae/main/img/fig_10_classification_non_lineaire.png?token=GHSAT0AAAAAABZOBGASDXBX7YBJM23ZMKN6Y2ZS4NA\" alt=\"fig_10_classification_non_lineaire\" style=\"width:800px;\"/>"
   ]
  },
  {
   "cell_type": "markdown",
   "metadata": {},
   "source": [
    "#### Polynomial Kernel"
   ]
  },
  {
   "cell_type": "markdown",
   "metadata": {},
   "source": [
    "L'approche par transformation des features convient parfaitement pour des datasets de petite taille et peu complexe.\n",
    "En effet, une tranformation polynomiale avec des degrés faibles ne pourra pas s'adapter à un dataset complexe et des degrés trop élevés créeront un dataset trop grand pour être entrainer dans un lapse de temps intéressant.\n",
    "\n",
    "Rappel :\n",
    "\n",
    "Plus on augmente la taille d'un dataset (features ou lignes) plus le modèle devient complexe à entrainer et plus le temps de calcul sera long...\n"
   ]
  },
  {
   "cell_type": "markdown",
   "metadata": {},
   "source": [
    "Heuresement, les mathématiciens ont pensé à tout et il existe une astuce avec les SVM.\n",
    "On l'appelle le *kernel trick*. Cela permet d'obtenir les mêmes résultats qu'en ajoutant des *polynomial features* sans faire exploser la taille du dataset.\n",
    "\n",
    "Sans passer par la démonstration mathématique, il faut retenir qu'utiliser le *kernel trick* permet d'avoir un modèle de compléxité $O(n^d)$ vs $O(n)$.\n",
    "\n",
    "Cette technique est implémentée directement dans sklearn avec la fonction suivante\n",
    "\n",
    "```python\n",
    "from sklearn.svm import SVC\n",
    "\n",
    "svm = SVC(kernel=\"poly\", degree=3, C=50,coef0=1)\n",
    "svm.fit(X, y)\n",
    "\n",
    "#Degree ==> Degre polinomiale\n",
    "#Kernel ==> Le type de noyau\n",
    "# C ==> Paramètre de tolérance (régularisation)\n",
    "# coef0 ==> Contrôle l'infulence des polynomes\n",
    "```"
   ]
  },
  {
   "cell_type": "markdown",
   "metadata": {},
   "source": [
    "<u>graphique N°11 :  </u>\n",
    "<img src=\"https://raw.githubusercontent.com/Roulitoo/cours_iae/main/img/fig_11_svm_no_lineaire_hyperpara.png?token=GHSAT0AAAAAABZOBGASCWXYK4BIUEU5PLXIY2ZS4WQ\" alt=\"fig_11_svm_no_lineaire_hyperpara\" style=\"width:1000px;\"/>"
   ]
  },
  {
   "cell_type": "markdown",
   "metadata": {},
   "source": [
    "La facon la plus simple de trouver les hyperpamratrès adéquats et de réaliser un *grid search*. Nous verrons en TD comment l'implémenter avec sklearn"
   ]
  },
  {
   "cell_type": "markdown",
   "metadata": {},
   "source": [
    "### Similarity Features"
   ]
  },
  {
   "cell_type": "markdown",
   "metadata": {},
   "source": [
    "Il existe de nombreux *kernel trick* utile pour trouver un espace à plus grande dimension où nos données sont liénairement séparables.\n",
    "Vous pouvez aller voir celles qui sont implémentés avec sklearn sur https://scikit-learn.org/stable/modules/svm.html#kernel-functions.\n",
    "\n",
    "La dernière que nous allons voir est une des plus populaires pour les SVM est la fonction de similarité *Gaussian Radial Basis Function*. Elle se définit formellement de la façon suivante"
   ]
  },
  {
   "cell_type": "markdown",
   "metadata": {},
   "source": [
    "Equation N°\n",
    "\n",
    "$\\phi_\\gamma(x,x') = exp(-\\gamma\\vert\\vert x-x'\\vert\\vert²)$\n",
    "\n",
    "où\n",
    "$x'$ = Un point repère que nous choisisons "
   ]
  },
  {
   "cell_type": "markdown",
   "metadata": {},
   "source": [
    "Exemple :\n",
    "\n",
    "Prenons le cas du graphique 1D N°...\n",
    "Nous prenons $x'$ = {-2,1} comme repères et $x$ = -1 pour un $\\gamma =0.3$\n",
    "\n",
    "Nous obtenons donc les fonctions de similiratés suivantes pour 2 nouveaux features $x_2$ et $x_3$\n",
    "\n",
    "$x_2 = exp(-0.3*1²) \\simeq  0.74 $\n",
    "\n",
    "$x_3 = exp(-0.3*2²) \\simeq  0.3 $\n",
    "\n",
    "\n",
    "\n"
   ]
  },
  {
   "cell_type": "markdown",
   "metadata": {},
   "source": [
    "<u>graphique N°12 :  </u>\n",
    "<img src=\"https://raw.githubusercontent.com/Roulitoo/cours_iae/main/img/fig_12_similarity_features.png?token=GHSAT0AAAAAABZOBGASD7UVYX4EJLOEUOFGY2ZS45A\" alt=\"fig_12_similarity_features\" style=\"width:800px;\"/>"
   ]
  },
  {
   "cell_type": "markdown",
   "metadata": {},
   "source": [
    "Comme pour les *polynomials features*, vous pouvez créer à la main vous mêmes les features que vous souhaitez rajouter dans votre dataset avec cette technique.\n",
    "Choissiez autant de 'repères' que vous avez de ligne dans votre dataset pour créer de nouveaux features.\n",
    "\n",
    "Problème, cette technique peut rapidement faire exploser la taille de votre Dataset si n est grand. Vous obtiendrez à la fin un Dataframe de taille $n*n$ (en supposant que vous supprimez les features de bases)"
   ]
  },
  {
   "cell_type": "markdown",
   "metadata": {},
   "source": [
    "Heuresement pour nous sklearn propose une implémentation optimisée dans ses fonction pour cette approche. Exactement comme pour les *polynomial features*.\n",
    "\n",
    "On retrouve le *kernel trick* dans la fonction  SVC de sklearn avec comme noyau(kernel) 'rbf' pour Radial Basis Function kernel vu au dessus.\n",
    "\n",
    "\n",
    "```python\n",
    "\n",
    "from sklearn.svm import SVC\n",
    "\n",
    "svm = SVC(kernel=\"rbf\",  gamma=5, C=0.001)\n",
    "svm.fit(X, y)\n",
    "\n",
    "#gamma rend la distribution plus étroite ce qui donne des frontières de décisions plus irrégulières\n",
    "#chaque observations influences plus la frontière de décision\n",
    "\n",
    "# C ici ne change pas. Il est toujours un criètre de tolérance\n",
    "\n",
    "\n",
    "```"
   ]
  },
  {
   "cell_type": "markdown",
   "metadata": {},
   "source": [
    "Notez également que gamma comme C est un hyperparamètre permettant de régulariser le modèle.\n",
    "Si votre modèle est en *overfitting* pensez à réduire gamma/C et inversement s'il est en *underfitting*"
   ]
  },
  {
   "cell_type": "markdown",
   "metadata": {},
   "source": [
    "<u>graphique N°12 :  </u>\n",
    "<img src=\"https://raw.githubusercontent.com/Roulitoo/cours_iae/main/img/13_rbf_kernel.png?token=GHSAT0AAAAAABZOBGAT6JHMTZ72HVIGNAP6Y2ZS5GA\" alt=\"13_rbf_kernel\" style=\"width:800px;\"/>"
   ]
  },
  {
   "cell_type": "markdown",
   "metadata": {},
   "source": [
    "<style>\n",
    "div.blue { background-color: rgba(117, 190, 218, 0.5); border-radius: 5px; padding: 20px;}\n",
    "</style>\n",
    "<div class = \"blue\">\n",
    "\n",
    "Tips :\n",
    "Parfois vos données ne sont pas au format numérique et le *kernel trick* nécessite un noyau spécifique.\n",
    "Il faut savoir qu'il existe des noyaux adaptés pour différentes structures de données :\n",
    "    \n",
    "- String kernel pour la classification de text par exemple ( cf *string subsequence kernel* ou *Levenshtein distance*)\n",
    "    \n",
    "    \n",
    "Comment choisir son *kernel trick* parmis ceux disponibles?\n",
    "Il n'y a pas de règle écrite qui permet de choisir directement. La meilleur réponse est ca dépend de vos données.\n",
    "    \n",
    "Mais le schéma suivant marche généralement bien:\n",
    "    \n",
    "- 1, commencer par un SVM linéaire dispo avec la fonction LinearSVC\n",
    "- 2, si le training set n'est très grand vous pouvez utiliser le noyau *Gaussian RBF kernel*\n",
    "- 3, si vous avez du temps tester d'autres noyau mais 1 et 2 est généralement suffisant pour voir si les SVM sont adaptés au problème\n",
    "\n",
    "⚠️ Pensez bien à tuner votre modèle avec un *gridsearch* et une *cross-validation* avant de comparer vos modèles avec votre test set\n",
    "    \n",
    "\n",
    "</div>"
   ]
  },
  {
   "cell_type": "markdown",
   "metadata": {},
   "source": [
    "### Classification Multiclass pour les SVM\n"
   ]
  },
  {
   "cell_type": "markdown",
   "metadata": {},
   "source": [
    "De nombreux modèles permettent nativement de réaliser des classifications multiclasse (Random Forest, SGBDclassifiers, Naives Bayes, ...).\n",
    "Malheuresement les SVM n'en font pas partie.\n",
    "\n",
    "Pour les utilier lors de classification multiclasse, nous devons trouver une parade!\n",
    "\n",
    "Imaginons qu'on nous donne un dataset contenant des images. Chaque image représente un chiffre manuscrit entre 0 et 9.\n",
    "On nous demande de créer un modèle basé sur un SVM afin de classifier ces chiffres manuscrit (l'humain qui le fait habituellement en à marre de le faire).\n",
    "\n",
    "Le data scientist en charge du projet à bien compris la problématique mais sait aussi qu'un SVM ne permet pas de faire de la classification multiclasse...\n",
    "Il cherche alors une stratégie pour répondre parfaitement à la commande.\n",
    "\n",
    "Sa premiere intuition est de découper le problème en 10 problèmes distincts.\n",
    "10 classification binaire où il va chercher à identifier les 1 VS les autres puis les 2 VS les autres etc.\n",
    "Après les avoir entrainés, il obtiendra le score de décision grâce à sklearn et prendra celui qui le maximise.\n",
    "\n",
    "Un collègue lui souffle également une autre idée.\n",
    "Réaliser des modèles par pair. Un modèle 1vs2, 1vs3, 1vs4,...2vs3,, ... etc\n",
    "Il essaye cette approche mais obtient 45 modèles différent pour ce problème.\n",
    "\n",
    "\n",
    "C'est 2 approches sont appelés OVR(one versus rest) pour la premiere et OVO(one versus one) pour la seconde.\n",
    "Elles permettent d'approcher un problème multiclasse avec une classification binaire.\n",
    "Leur principal défaut est de faire exploser le nombre de modèle à entrainer\n",
    "\n",
    "OVR produit N modèles ou N est le nombre de classe\n",
    "<br>\n",
    "OVO produit $N\\times\\frac{N-1}{2}$\n"
   ]
  },
  {
   "cell_type": "markdown",
   "metadata": {},
   "source": [
    "L'implémentation avec sklearn est encore une fois chose facile\n",
    "##### OVR\n",
    "\n",
    "```python\n",
    "#Import OVO, OVR\n",
    "from sklearn.multiclass import OneVsRestClassifier\n",
    "from sklearn.multiclass import OneVsOneClassifier\n",
    "#Import SVM\n",
    "from sklearn.svm import SVC\n",
    "\n",
    "OvR_SVC_clf = OneVsRestClassifier(SVC())\n",
    "\n",
    "OvR_SVC_clf.fit(trainX, trainY)\n",
    "\n",
    "```"
   ]
  },
  {
   "cell_type": "markdown",
   "metadata": {},
   "source": [
    "### MNIST\n",
    "\n",
    "Pour exemple, nous pouvons utiliser ces stratégies pour le jeu de données MNIST.\n",
    "C'est un jeu de données célèbre qui comprend 70 000 images de chiffre écrit à la main. Chaque image a été classifié et le jeu de données est parfait pour s'entrainer à ce type de données\n",
    "\n",
    "Pour le charger utilisez la commande suivante sur python\n",
    "\n",
    "```python\n",
    "from sklearn.datasets import fetch_openml\n",
    "from sklearn.multiclass import OneVsRestClassifier\n",
    "from sklearn.multiclass import OneVsOneClassifier\n",
    "#Import SVM\n",
    "from sklearn.svm import SVC\n",
    "##########\n",
    "#GET DATA#\n",
    "##########\n",
    "mnist = fetch_openml('mnist_784', version=1)\n",
    "mnist.keys()\n",
    "# dict_keys(['data', 'target', 'feature_names', 'DESCR', 'details',\n",
    "# 'categories', 'url'])\n",
    "\n",
    "X , y = mnist[\"data\"] , mnist['target']\n",
    "X.shape\n",
    "#(70000, 784)\n",
    "# Chaque image contient 784 features qui correspodent à la distribution de ses pixels en nuance de gris.\n",
    "# Sa valeur est entre 0 et 255\n",
    "\n",
    "#############\n",
    "#Train model#\n",
    "#############\n",
    "# Suivant votre quantité de RAM, attention à combien de ligne vous prenez pour entrainer votre modèle!!\n",
    "X_train, X_test, y_train, y_test = X[:60000], X[60000:], y[:60000],y[60000:]\n",
    "\n",
    "\n",
    "OvR_SVC_clf = OneVsRestClassifier(SVC())\n",
    "OvO_SVC_clf = OneVsOneClassifier(SVC())\n",
    "\n",
    "OvR_SVC_clf.fit(X_train, y_train) \n",
    "OvO_SVC_clf.fit(X_train , y_train)    \n",
    "\n",
    "```"
   ]
  },
  {
   "cell_type": "markdown",
   "metadata": {},
   "source": [
    "<u>graphique N° 14:  </u>\n",
    "<img src=\"https://raw.githubusercontent.com/Roulitoo/cours_iae/main/img/fig_14_mnist.png?token=GHSAT0AAAAAABZOBGAT3NHVR4YEHYDD47TQY2ZS5OQ\" alt=\"fig_14_mnist\" style=\"width:600px;\"/>"
   ]
  },
  {
   "cell_type": "markdown",
   "metadata": {},
   "source": [
    "**Demo avec le code 01_SVM_DEMO**"
   ]
  },
  {
   "cell_type": "markdown",
   "metadata": {},
   "source": [
    "## SVM pour la régression "
   ]
  },
  {
   "cell_type": "markdown",
   "metadata": {},
   "source": [
    "La dernière partie consacrée au SVM sera celle sur la régression.\n",
    "Jusqu'à maintenant nous avons vu les SVM pour la classification et il n'est pas nécessairement intuitif de voir comment l'appliqué à la régression (du moins théoriquement, ca vous prendra une ligne avec sklearn)\n"
   ]
  },
  {
   "cell_type": "markdown",
   "metadata": {},
   "source": [
    "Globalement les SVM pour la régression sont aussi flexibles. Ils permettent de faire de la régression *linéaire* et non *liénaire* avec les mêmes techniques vues précédemment.\n",
    "La nuance est que nous devons inverser notre objectif! Ici on ne cherche plus à maximiser la marge entre 2 classes tout en limitant le nombre de violations.\n",
    "\n",
    "Le modèle cherche à inclure le maximun d'observation à l'intérieur de ses marges tout en limitant le nombre d'observations à l'extérieur. La largeur de la frontière de décision sera controlée par un nouveau hyperparamètre $\\epsilon$.\n",
    "\n",
    "Regardons comme il agit à travers 2 exemples"
   ]
  },
  {
   "cell_type": "markdown",
   "metadata": {},
   "source": [
    "<u>graphique N°15 :  </u>\n",
    "<img src=\"https://raw.githubusercontent.com/Roulitoo/cours_iae/main/img/fig_15_svm_reg.png?token=GHSAT0AAAAAABZOBGATB75PQJFS25GWZEAIY2ZS5ZQ\" alt=\"fig_15_svm_reg\" style=\"width:700px;\"/>"
   ]
  },
  {
   "cell_type": "markdown",
   "metadata": {},
   "source": [
    "Vous pouvez utilisez le code suivant pour l'implémenter sous python.\n",
    "La logique est la même que pour la classfication ;)\n",
    "\n",
    "```python \n",
    "#SVM Regression liénaire\n",
    "from sklearn.svm import LinearSVR\n",
    "svm_reg = LinearSVR(epsilon=1.5)\n",
    "svm_reg.fit(X, y)\n",
    "\n",
    "#SVM Regression non liénaire\n",
    "from sklearn.svm import SVR\n",
    "svm_poly_reg = SVR(kernel=\"poly\", degree=2, C=100, epsilon=0.1)\n",
    "svm_poly_reg.fit(X, y)\n",
    "\n",
    "\n",
    "\n",
    "```"
   ]
  },
  {
   "cell_type": "markdown",
   "metadata": {},
   "source": [
    "## Récapitulatif"
   ]
  },
  {
   "cell_type": "markdown",
   "metadata": {},
   "source": [
    "##Summary\n",
    "\n",
    "**Advantages** of SVM\n",
    "It works well on a dataset having many features.\n",
    "It provides a clear margin of separation.\n",
    "It is very effective for the dataset where the number of features are greater than the data points.\n",
    "You can specify different kernel functions to make a proper decision boundary.\n",
    "\n",
    "**Disadvantages** of SVM\n",
    "It requires very high training time, hence not recommended for large datasets.\n",
    "It is very sensitive to outliers."
   ]
  },
  {
   "cell_type": "code",
   "execution_count": 282,
   "metadata": {},
   "outputs": [
    {
     "name": "stderr",
     "output_type": "stream",
     "text": [
      "[NbConvertApp] Converting notebook 01_svm.ipynb to PDFviaHTML\n",
      "[NbConvertApp] Writing 852433 bytes to 01_svm.pdf\n"
     ]
    }
   ],
   "source": [
    "!jupyter-nbconvert --to PDFviaHTML 01_svm.ipynb"
   ]
  },
  {
   "cell_type": "code",
   "execution_count": null,
   "metadata": {},
   "outputs": [],
   "source": []
  }
 ],
 "metadata": {
  "kernelspec": {
   "display_name": "Python 3",
   "language": "python",
   "name": "python3"
  },
  "language_info": {
   "codemirror_mode": {
    "name": "ipython",
    "version": 3
   },
   "file_extension": ".py",
   "mimetype": "text/x-python",
   "name": "python",
   "nbconvert_exporter": "python",
   "pygments_lexer": "ipython3",
   "version": "3.8.3"
  }
 },
 "nbformat": 4,
 "nbformat_minor": 4
}
