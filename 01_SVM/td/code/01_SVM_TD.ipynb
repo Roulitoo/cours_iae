{
 "cells": [
  {
   "cell_type": "markdown",
   "metadata": {},
   "source": [
    "<center><h1> TD N°1 : SVM avec sklearn </h1></center>\n",
    "    \n",
    "    \n",
    "Pour installer un package vous pouvez utiliser la commande suivante :\n",
    "    \n",
    "```\n",
    "!pip install <nom_module>\n",
    "```"
   ]
  },
  {
   "cell_type": "markdown",
   "metadata": {},
   "source": [
    "## Import package"
   ]
  },
  {
   "cell_type": "code",
   "execution_count": 1,
   "metadata": {},
   "outputs": [],
   "source": [
    "import os\n",
    "\n",
    "import pandas as pd\n",
    "import numpy as np\n",
    "\n",
    "import matplotlib.pyplot as plt\n",
    "from sklearn import datasets\n",
    "\n",
    "#sklearn\n",
    "from sklearn.preprocessing import StandardScaler\n",
    "from sklearn.preprocessing import PolynomialFeatures\n",
    "\n",
    "from sklearn.model_selection import train_test_split\n",
    "\n",
    "#Classifier\n",
    "from sklearn.svm import SVC\n",
    "from sklearn.svm import LinearSVC \n",
    "from sklearn.linear_model import SGDClassifier , LogisticRegression\n",
    "\n",
    "from sklearn.multiclass import OneVsRestClassifier\n",
    "from sklearn.multiclass import OneVsOneClassifier\n",
    "#Regressor\n",
    "from sklearn.svm import LinearSVR\n",
    "from sklearn.svm import SVR\n",
    "\n",
    "from sklearn.metrics import accuracy_score, confusion_matrix, classification_report\n",
    "\n",
    "from sklearn.model_selection import cross_val_score ,learning_curve ,GridSearchCV\n",
    "from sklearn_evaluation import plot\n",
    "\n",
    "#Web request\n",
    "import requests\n",
    "import io"
   ]
  },
  {
   "cell_type": "markdown",
   "metadata": {},
   "source": [
    "## Function\n",
    "\n",
    "**Merci de lire comment s'utilise la fonction avant de l'utiliser !**"
   ]
  },
  {
   "cell_type": "code",
   "execution_count": 1426,
   "metadata": {},
   "outputs": [],
   "source": [
    "def plot_svc_decision_boundary(svm_clf, xmin, xmax):\n",
    "    \n",
    "    '''\n",
    "    \n",
    "    SEULEMENT pour la fonction SVC de sklearn, pas de LINEARSVC\n",
    "    \n",
    "    Function qui permet de recupérer la constante et le coefficient directeur\n",
    "    d'un svm après entraintement.\n",
    "    \n",
    "    Un svm lineaire est de la forme w0*w0+w1*x1 +b =0\n",
    "    donc \n",
    "    >= x1= -w0/w1 *x0 -b/w1\n",
    "    \n",
    "    avoir x1 en fonction de x0 permet de tracer la zone de décision du SVM \n",
    "    et ainsi avoir une réprésentation graphique\n",
    "    \n",
    "    Pour calculer les marges on rajoute +- 1/w[1]\n",
    "    \n",
    "    \n",
    "    '''\n",
    "    \n",
    "    w = svm_clf.coef_[0]\n",
    "    b = svm_clf.intercept_[0]\n",
    "\n",
    "    # At the decision boundary, w0*x0 + w1*x1 + b = 0\n",
    "    # => x1 = -w0/w1 * x0 - b/w1\n",
    "    x0 = np.linspace(xmin, xmax, 200)\n",
    "    decision_boundary = -w[0]/w[1] * x0 - b/w[1]\n",
    "\n",
    "    margin = 1/w[1]\n",
    "    gutter_up = decision_boundary + margin\n",
    "    gutter_down = decision_boundary - margin\n",
    "\n",
    "    svs = svm_clf.support_vectors_\n",
    "    plt.scatter(svs[:, 0], svs[:, 1], s=180, facecolors='#FFAAAA')\n",
    "    plt.plot(x0, decision_boundary, \"k-\", linewidth=2)\n",
    "    plt.plot(x0, gutter_up, \"k--\", linewidth=2)\n",
    "    plt.plot(x0, gutter_down, \"k--\", linewidth=2)"
   ]
  },
  {
   "cell_type": "code",
   "execution_count": 1436,
   "metadata": {},
   "outputs": [],
   "source": [
    "def svm_f_importances(coef_svm , names):\n",
    "    ''' \n",
    "    Cette fonction permet de visualiser l'importance de chaque variable pour le modèle SVM\n",
    "    Vous devez passer 2 arguments :\n",
    "    \n",
    "    - coef_svm : Les coefficients du modèle disponible après votre .fit()\n",
    "      On le récupère avec la commande suite  svc_fit.coef_[0]\n",
    "      \n",
    "    - names : est le nom des features que vous avez utilisées.\n",
    "      ATTENTION les passer dans le même ordre que pour l'entrainement du modèle\n",
    "    \n",
    "    '''\n",
    "    imp = coef_svm\n",
    "    imp,names = zip(*sorted(zip(imp,names)))\n",
    "    plt.barh(range(len(names)), imp, align='center')\n",
    "    plt.yticks(range(len(names)), names)\n",
    "    plt.show()\n",
    "\n",
    "#features_names = ['input1', 'input2']\n",
    "#svm = svm.SVC(kernel='linear')\n",
    "#svm.fit(X, Y)\n",
    "#f_importances(svm.coef_[0], features_names)"
   ]
  },
  {
   "cell_type": "markdown",
   "metadata": {},
   "source": [
    "## Exercice N°1 : Classification données IRIS avec un SVM\n",
    "\n",
    "\n",
    "#### Exploration and data analysis (EDA)\n",
    "1) Importer le dataset Iris\n",
    "\n",
    "2) Faire des stats descriptives pour mieux comprendre le dataset\n",
    "\n",
    "3) Recoder les données dans le bon format si nécessaire \n",
    "\n",
    "4) Découper le dataset en train et test\n",
    "\n",
    "#### Modélisation binaire (2 target)\n",
    "\n",
    "5) Importer les modèles de  **régression logistic , SVC, LinearSVC et SGDClassifier** avec sklearn\n",
    "\n",
    "6) Choisir maximum 2 colonnes dans votre nouveau data et entrainer un SVM avec le module SVC.<br>\n",
    "- 6.1) Tracer la frontière de décision de votre modèle avec la fonction fournie. Visualiser le résultat.<br>\n",
    "- 6.2) Faites varier le critère de régularisation $C$ et regarder son impact sur la frontière de décision. Tester plusieurs valeurs.<br>\n",
    "- 6.3) Commenter l'effet de C sur votre modèle<br>\n",
    "- 6.4) Recommencer avec une autre paire de features pour fit votre modèle.<br>\n",
    "\n",
    "\n",
    "7) Entrainer les 4 modèles sur les données et évaluer la performance des modèles (uniquement avec le dataset train)<br>\n",
    "   Utiliser les valeurs par défaut des modèles, ne pas tuner.<br>\n",
    "   Réaliser une cross-validation pour évaluer votre modèle.<br>\n",
    "   Justifier le type de cross_validation choisie.<br>\n",
    "\n",
    "8) Imaginons que ce soit le SVM par défaut qui donne le meilleur score, tuner ce modèle pour l'améliorer\n",
    "- 8.1) Utiliser un grid search pour définir les meilleurs hyperparamètres.<br>\n",
    "- 8.2) Utiliser une learning curve pour voir comment votre modèle apprend à partir des données.<br>\n",
    "- 8.3) **Uniquement si vous avez le temps**, examiner l'influence des hyperparamètres sur la qualité de votré modèle avec des          *validation curve*.\n",
    "\n",
    "9) Entrainer votre modèle sur les meilleurs hyperparamètres. \n",
    "\n",
    "10) Réaliser une prédiction avec votre modèle sur le dataset test.<br> \n",
    "    Evaluer la performance de votre modèle.<br>\n",
    "    Regarder les variables qui participent le plus à votre modèle, utiliser la fonction fournie.<br>\n",
    "    Commenter les résultats\n",
    "\n",
    "\n",
    "#### Modélisation multiclass\n",
    "\n",
    "11) A partir du dataset iris avec les 3 espèces, réaliser une classification multiclass.\n",
    "- 11.1) Tester les différentes méthodes, OVR et OVO  \n",
    "- 11.2) Existe-il des différences entre les méthodes?"
   ]
  },
  {
   "cell_type": "markdown",
   "metadata": {},
   "source": [
    "## Partie code, a vous de jouer 🐍"
   ]
  },
  {
   "cell_type": "markdown",
   "metadata": {},
   "source": [
    "### Exploration and data analysis"
   ]
  },
  {
   "cell_type": "markdown",
   "metadata": {},
   "source": [
    "#### 1) Importer le dataset Iris depuis sklearn"
   ]
  },
  {
   "cell_type": "code",
   "execution_count": 1428,
   "metadata": {},
   "outputs": [],
   "source": [
    "#1\n",
    "#Import dataset from sklearn\n",
    "\n",
    "sk_iris = datasets.load_iris()\n",
    "\n",
    "#Si besoin\n",
    "#iris = pd.DataFrame(data= np.c_[sk_iris.data, sk_iris.target], columns=sk_iris['feature_names']+['species'] )"
   ]
  },
  {
   "cell_type": "code",
   "execution_count": null,
   "metadata": {},
   "outputs": [],
   "source": []
  },
  {
   "cell_type": "code",
   "execution_count": null,
   "metadata": {},
   "outputs": [],
   "source": []
  },
  {
   "cell_type": "code",
   "execution_count": null,
   "metadata": {},
   "outputs": [],
   "source": []
  },
  {
   "cell_type": "markdown",
   "metadata": {},
   "source": [
    "#### 2) Statistiques descriptives"
   ]
  },
  {
   "cell_type": "code",
   "execution_count": null,
   "metadata": {},
   "outputs": [],
   "source": [
    "#Tester pygwalker si vous avez le temps"
   ]
  },
  {
   "cell_type": "code",
   "execution_count": null,
   "metadata": {},
   "outputs": [],
   "source": [
    " # Vous pouvez tester Pygwalker ici ?\n"
   ]
  },
  {
   "cell_type": "code",
   "execution_count": null,
   "metadata": {},
   "outputs": [],
   "source": []
  },
  {
   "cell_type": "markdown",
   "metadata": {},
   "source": [
    "#### 3) Recoder variables, si besoin"
   ]
  },
  {
   "cell_type": "code",
   "execution_count": null,
   "metadata": {},
   "outputs": [],
   "source": []
  },
  {
   "cell_type": "markdown",
   "metadata": {},
   "source": [
    "### Modélisation binaire\n",
    "\n",
    "Attention à bien choisir un dataset contenant uniquement **2** espèces pour la modélisation"
   ]
  },
  {
   "cell_type": "code",
   "execution_count": null,
   "metadata": {},
   "outputs": [],
   "source": []
  },
  {
   "cell_type": "markdown",
   "metadata": {},
   "source": [
    "#### 4) Découper data set en train et test"
   ]
  },
  {
   "cell_type": "code",
   "execution_count": null,
   "metadata": {},
   "outputs": [],
   "source": []
  },
  {
   "cell_type": "code",
   "execution_count": null,
   "metadata": {},
   "outputs": [],
   "source": []
  },
  {
   "cell_type": "code",
   "execution_count": null,
   "metadata": {},
   "outputs": [],
   "source": []
  },
  {
   "cell_type": "markdown",
   "metadata": {},
   "source": [
    "#### 5) Importer les modules pour la modélisation"
   ]
  },
  {
   "cell_type": "code",
   "execution_count": 1431,
   "metadata": {},
   "outputs": [],
   "source": [
    "#... au début du code"
   ]
  },
  {
   "cell_type": "markdown",
   "metadata": {},
   "source": [
    "#### 6) Garder uniquement 2 colonnes du dataset et entrainer un SVM avec module SVC\n",
    "\n",
    "6.1) Tracer la frontière de décision de votre modèle avec la fonction **plot_svc_decision_boundary**. Visualiser le résultat.<br>\n",
    "6.2) Faites varier le critère de régularisation $C$ et regarder son impact sur la frontière de décision. Tester plusieurs valeurs.<br>\n",
    "6.3) Commenter l'effet de $C$ sur votre modèle<br>\n",
    "6.4) Recommencer avec une autre paire de features pour fit votre modèle.<br>\n",
    "\n"
   ]
  },
  {
   "cell_type": "markdown",
   "metadata": {},
   "source": [
    "#### Modélisation binaire avec uniquement 2 features ⚠️"
   ]
  },
  {
   "cell_type": "code",
   "execution_count": null,
   "metadata": {},
   "outputs": [],
   "source": []
  },
  {
   "cell_type": "code",
   "execution_count": null,
   "metadata": {},
   "outputs": [],
   "source": []
  },
  {
   "cell_type": "code",
   "execution_count": 1432,
   "metadata": {},
   "outputs": [],
   "source": [
    "#utilsier plot_svc_decision_boundary()"
   ]
  },
  {
   "cell_type": "code",
   "execution_count": 1433,
   "metadata": {},
   "outputs": [],
   "source": [
    "#%matplotlib inline\n",
    "#Utiliser la commande ci-dessus si votre sortie graphique n'affiche rien"
   ]
  },
  {
   "cell_type": "code",
   "execution_count": null,
   "metadata": {},
   "outputs": [],
   "source": []
  },
  {
   "cell_type": "markdown",
   "metadata": {},
   "source": [
    "### Faire varier le critère de régularisation C"
   ]
  },
  {
   "cell_type": "code",
   "execution_count": null,
   "metadata": {},
   "outputs": [],
   "source": []
  },
  {
   "cell_type": "markdown",
   "metadata": {},
   "source": [
    "##### Commenter l'effet de C"
   ]
  },
  {
   "cell_type": "code",
   "execution_count": null,
   "metadata": {},
   "outputs": [],
   "source": []
  },
  {
   "cell_type": "markdown",
   "metadata": {},
   "source": [
    "#### Changer de paire de feature"
   ]
  },
  {
   "cell_type": "code",
   "execution_count": null,
   "metadata": {},
   "outputs": [],
   "source": []
  },
  {
   "cell_type": "markdown",
   "metadata": {},
   "source": [
    "#### 7) Entrainer les 4 modèles sur votre dataset d'entrainement\n",
    "\n",
    "- LogisticRegression\n",
    "- LinearSVC\n",
    "- SVC\n",
    "- SGDClassifier\n",
    "\n",
    "Conseils :\n",
    "- Utiliser les valeurs par défaut des modèles, ne pas tuner.<br>\n",
    "- Réaliser une cross-validation pour évaluer votre modèle.<br>\n",
    "- Justifier le type de cross_validation choisie.<br>"
   ]
  },
  {
   "cell_type": "markdown",
   "metadata": {},
   "source": [
    "##### Charger le dataset dispo dans le fichier cours_iae/01_svm/td/data/iris_noise.csv"
   ]
  },
  {
   "cell_type": "code",
   "execution_count": null,
   "metadata": {},
   "outputs": [],
   "source": []
  },
  {
   "cell_type": "markdown",
   "metadata": {},
   "source": [
    "##### Modélisation binaire, 2 target"
   ]
  },
  {
   "cell_type": "code",
   "execution_count": null,
   "metadata": {},
   "outputs": [],
   "source": []
  },
  {
   "cell_type": "code",
   "execution_count": null,
   "metadata": {},
   "outputs": [],
   "source": []
  },
  {
   "cell_type": "code",
   "execution_count": null,
   "metadata": {},
   "outputs": [],
   "source": []
  },
  {
   "cell_type": "code",
   "execution_count": null,
   "metadata": {},
   "outputs": [],
   "source": []
  },
  {
   "cell_type": "code",
   "execution_count": null,
   "metadata": {},
   "outputs": [],
   "source": []
  },
  {
   "cell_type": "code",
   "execution_count": null,
   "metadata": {},
   "outputs": [],
   "source": []
  },
  {
   "cell_type": "code",
   "execution_count": null,
   "metadata": {},
   "outputs": [],
   "source": []
  },
  {
   "cell_type": "code",
   "execution_count": null,
   "metadata": {},
   "outputs": [],
   "source": []
  },
  {
   "cell_type": "code",
   "execution_count": null,
   "metadata": {},
   "outputs": [],
   "source": []
  },
  {
   "cell_type": "markdown",
   "metadata": {},
   "source": [
    "#### Choix du modèle, justification\n",
    "\n"
   ]
  },
  {
   "cell_type": "code",
   "execution_count": null,
   "metadata": {},
   "outputs": [],
   "source": []
  },
  {
   "cell_type": "markdown",
   "metadata": {},
   "source": [
    "#### 8)  Tuner le modèle SVM pour améliorer ses performances\n",
    "\n",
    "A vous de choirsir entre **SGDClassifier** ou **SVC** ou **LinearSVC** mais justifier pourquoi l'un ou l'autre.\n",
    "\n",
    "8.1) Utiliser un grid search pour définir les meilleurs hyperparamètres.<br>\n",
    "8.2) Utiliser une learning curve pour voir comment votre modèle apprend à partir des données.<br>\n",
    "8.3) Uniquement si vous avez le temps, examiner l'influence des hyperparamètres sur la qualité de votré modèle avec des validation curve."
   ]
  },
  {
   "cell_type": "code",
   "execution_count": 1434,
   "metadata": {},
   "outputs": [
    {
     "data": {
      "text/plain": [
       "{'C': 1.0,\n",
       " 'break_ties': False,\n",
       " 'cache_size': 200,\n",
       " 'class_weight': None,\n",
       " 'coef0': 0.0,\n",
       " 'decision_function_shape': 'ovr',\n",
       " 'degree': 3,\n",
       " 'gamma': 'scale',\n",
       " 'kernel': 'rbf',\n",
       " 'max_iter': -1,\n",
       " 'probability': False,\n",
       " 'random_state': None,\n",
       " 'shrinking': True,\n",
       " 'tol': 0.001,\n",
       " 'verbose': False}"
      ]
     },
     "execution_count": 1434,
     "metadata": {},
     "output_type": "execute_result"
    }
   ],
   "source": [
    "#Obtenir les hyperparamètres d'un modèle\n",
    "SVC().get_params()"
   ]
  },
  {
   "cell_type": "markdown",
   "metadata": {},
   "source": [
    "##### Choix hyperparamètre à tuner et grid search\n",
    "\n"
   ]
  },
  {
   "cell_type": "code",
   "execution_count": null,
   "metadata": {},
   "outputs": [],
   "source": []
  },
  {
   "cell_type": "code",
   "execution_count": null,
   "metadata": {},
   "outputs": [],
   "source": []
  },
  {
   "cell_type": "code",
   "execution_count": null,
   "metadata": {},
   "outputs": [],
   "source": []
  },
  {
   "cell_type": "code",
   "execution_count": null,
   "metadata": {},
   "outputs": [],
   "source": []
  },
  {
   "cell_type": "code",
   "execution_count": null,
   "metadata": {},
   "outputs": [],
   "source": []
  },
  {
   "cell_type": "markdown",
   "metadata": {},
   "source": [
    "##### Learning curve"
   ]
  },
  {
   "cell_type": "code",
   "execution_count": null,
   "metadata": {},
   "outputs": [],
   "source": []
  },
  {
   "cell_type": "markdown",
   "metadata": {},
   "source": [
    "#### 9) Entrainer votre modèle sur les hyperparamètres qui donne la meilleur performance"
   ]
  },
  {
   "cell_type": "code",
   "execution_count": null,
   "metadata": {},
   "outputs": [],
   "source": []
  },
  {
   "cell_type": "code",
   "execution_count": null,
   "metadata": {},
   "outputs": [],
   "source": []
  },
  {
   "cell_type": "code",
   "execution_count": null,
   "metadata": {},
   "outputs": [],
   "source": []
  },
  {
   "cell_type": "code",
   "execution_count": null,
   "metadata": {},
   "outputs": [],
   "source": []
  },
  {
   "cell_type": "markdown",
   "metadata": {},
   "source": [
    "##### Commenter la qualité de prédiction\n",
    "\n"
   ]
  },
  {
   "cell_type": "code",
   "execution_count": null,
   "metadata": {},
   "outputs": [],
   "source": []
  },
  {
   "cell_type": "markdown",
   "metadata": {},
   "source": [
    "#### 10) Réaliser une prédiction avec votre modèle sur le dataset test. \n",
    "\n",
    "- Evaluer la performance de votre modèle \n",
    "- Regarder les variables qui participent le plus à votre modèle, utiliser la fonction fournie \n",
    "- Commenter les résultats"
   ]
  },
  {
   "cell_type": "code",
   "execution_count": null,
   "metadata": {},
   "outputs": [],
   "source": []
  },
  {
   "cell_type": "markdown",
   "metadata": {},
   "source": [
    "#### Performance in et out sample"
   ]
  },
  {
   "cell_type": "code",
   "execution_count": null,
   "metadata": {},
   "outputs": [],
   "source": []
  },
  {
   "cell_type": "markdown",
   "metadata": {},
   "source": [
    "#### Influence de vos features sur le modèle"
   ]
  },
  {
   "cell_type": "code",
   "execution_count": 1435,
   "metadata": {},
   "outputs": [],
   "source": [
    "#plt.title('nom_sympa')\n",
    "#plt.xlabel('Valeur des coéfficients')\n",
    "#svm_f_importances(<model_coef>, features_names)\n"
   ]
  },
  {
   "cell_type": "markdown",
   "metadata": {},
   "source": [
    "## Exercice N°2 : Modélisation multiclass avec dataset IRIS"
   ]
  },
  {
   "cell_type": "markdown",
   "metadata": {},
   "source": [
    "#### 1) Importer le dataset Iris depuis sklearn\n",
    "\n",
    "Avec le module datasets.load_iris(). **A ce stade plus besoin d'utiliser le dataset Iris modifié.**\n",
    "\n",
    "Ne supprimer pas la 3ème espèce de fleur, nous allons maintenant utiliser les 3 target."
   ]
  },
  {
   "cell_type": "code",
   "execution_count": null,
   "metadata": {},
   "outputs": [],
   "source": []
  },
  {
   "cell_type": "code",
   "execution_count": null,
   "metadata": {},
   "outputs": [],
   "source": []
  },
  {
   "cell_type": "code",
   "execution_count": null,
   "metadata": {},
   "outputs": [],
   "source": []
  },
  {
   "cell_type": "markdown",
   "metadata": {},
   "source": [
    "#### 2 Entrainer un SVM pour une classification multiclass\n",
    "\n",
    "- Définir la stratégie en s'appuyant sur les éléments vus en cours\n",
    "- Que faut-il modifier pour que le SVM puisse faire une classification multiclass?\n",
    "\n",
    "- Combien de modèles faut-il prédire?\n",
    "- Tester avec la méthode OVO et OVR"
   ]
  },
  {
   "cell_type": "markdown",
   "metadata": {},
   "source": [
    "#### Stratégie\n",
    "\n",
    "\n",
    "\n",
    "\n",
    "**Nombre de modèles**\n",
    "\n",
    "\n"
   ]
  },
  {
   "cell_type": "markdown",
   "metadata": {},
   "source": [
    "#### Test modélisation"
   ]
  },
  {
   "cell_type": "code",
   "execution_count": null,
   "metadata": {},
   "outputs": [],
   "source": []
  },
  {
   "cell_type": "code",
   "execution_count": null,
   "metadata": {},
   "outputs": [],
   "source": []
  },
  {
   "cell_type": "markdown",
   "metadata": {},
   "source": [
    "3) Existe-t-il des différences entre OVO et OVR?"
   ]
  },
  {
   "cell_type": "code",
   "execution_count": null,
   "metadata": {},
   "outputs": [],
   "source": []
  },
  {
   "cell_type": "markdown",
   "metadata": {},
   "source": [
    "<center><h3> Merci de rendre lisible votre code, un groupe présentera ses travaux à l'oral à la fin du cours.</h3></center>"
   ]
  }
 ],
 "metadata": {
  "kernelspec": {
   "display_name": "Python 3 (ipykernel)",
   "language": "python",
   "name": "python3"
  },
  "language_info": {
   "codemirror_mode": {
    "name": "ipython",
    "version": 3
   },
   "file_extension": ".py",
   "mimetype": "text/x-python",
   "name": "python",
   "nbconvert_exporter": "python",
   "pygments_lexer": "ipython3",
   "version": "3.11.6"
  }
 },
 "nbformat": 4,
 "nbformat_minor": 4
}
