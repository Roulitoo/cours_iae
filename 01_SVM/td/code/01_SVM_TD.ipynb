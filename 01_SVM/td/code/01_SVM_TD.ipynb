{
 "cells": [
  {
   "cell_type": "markdown",
   "metadata": {},
   "source": [
    "<center><h1> TD N°1 : SVM avec sklearn <center><h1>"
   ]
  },
  {
   "cell_type": "markdown",
   "metadata": {},
   "source": [
    "## Import package"
   ]
  },
  {
   "cell_type": "code",
   "execution_count": 389,
   "metadata": {},
   "outputs": [],
   "source": [
    "import os\n",
    "\n",
    "import pandas as pd\n",
    "import numpy as np\n",
    "\n",
    "import matplotlib.pyplot as plt\n",
    "from sklearn import datasets\n",
    "\n",
    "#sklearn\n",
    "from sklearn.preprocessing import StandardScaler\n",
    "from sklearn.preprocessing import PolynomialFeatures\n",
    "\n",
    "from sklearn.model_selection import train_test_split\n",
    "\n",
    "#Classifier\n",
    "from sklearn.svm import SVC\n",
    "from sklearn.svm import LinearSVC\n",
    "from sklearn.linear_model import SGDClassifier , LogisticRegression\n",
    "\n",
    "from sklearn.multiclass import OneVsRestClassifier\n",
    "from sklearn.multiclass import OneVsOneClassifier\n",
    "#Regressor\n",
    "from sklearn.svm import LinearSVR\n",
    "from sklearn.svm import SVR\n",
    "\n",
    "from sklearn.metrics import accuracy_score, confusion_matrix\n",
    "from sklearn.metrics import classification_report\n",
    "\n"
   ]
  },
  {
   "cell_type": "code",
   "execution_count": null,
   "metadata": {},
   "outputs": [],
   "source": []
  },
  {
   "cell_type": "markdown",
   "metadata": {},
   "source": [
    "## Function\n"
   ]
  },
  {
   "cell_type": "code",
   "execution_count": 230,
   "metadata": {},
   "outputs": [],
   "source": [
    "def plot_svc_decision_boundary(svm_clf, xmin, xmax):\n",
    "    \n",
    "    '''\n",
    "    \n",
    "    SEULEMENT pour la fonction SVC de skealearn, pas de LinearSVC\n",
    "    \n",
    "    Function qui permet de recupérer la constante et le coefficient directeur\n",
    "    d'un svm après entraintement.\n",
    "    \n",
    "    Un svm lineaire est de la forme w0*w0+w1*x1 +b =0\n",
    "    donc \n",
    "    >= x1= -w0/w1 *x0 -b/w1\n",
    "    \n",
    "    avoir x1 en fonction de x0 permet de tracer la zone de décision du SVM \n",
    "    et ainsi avoir une réprésentation graphique\n",
    "    \n",
    "    Pour calculer les marges on rajoute +- 1/w[1]\n",
    "    \n",
    "    \n",
    "    '''\n",
    "    \n",
    "    w = svm_clf.coef_[0]\n",
    "    b = svm_clf.intercept_[0]\n",
    "\n",
    "    # At the decision boundary, w0*x0 + w1*x1 + b = 0\n",
    "    # => x1 = -w0/w1 * x0 - b/w1\n",
    "    x0 = np.linspace(xmin, xmax, 200)\n",
    "    decision_boundary = -w[0]/w[1] * x0 - b/w[1]\n",
    "\n",
    "    margin = 1/w[1]\n",
    "    gutter_up = decision_boundary + margin\n",
    "    gutter_down = decision_boundary - margin\n",
    "\n",
    "    svs = svm_clf.support_vectors_\n",
    "    plt.scatter(svs[:, 0], svs[:, 1], s=180, facecolors='#FFAAAA')\n",
    "    plt.plot(x0, decision_boundary, \"k-\", linewidth=2)\n",
    "    plt.plot(x0, gutter_up, \"k--\", linewidth=2)\n",
    "    plt.plot(x0, gutter_down, \"k--\", linewidth=2)"
   ]
  },
  {
   "cell_type": "code",
   "execution_count": 392,
   "metadata": {},
   "outputs": [],
   "source": [
    "def svm_f_importances(coef_svm , names):\n",
    "    ''' \n",
    "    Cette fonction permet de visualiser l'importance de chaque variable pour le modèle SVM\n",
    "    Vous devez passer 2 arguments :\n",
    "    \n",
    "    - coef_svm : Les coéfficients du modèle disponible après votre .fit()\n",
    "      On le récupère avec la commande suite  svc_fit.coef_[0]\n",
    "      \n",
    "    - names : est le nom des features que vous avez utilisée.\n",
    "      ATTENTION à passer dans le même ordre que pour l'entrainement du modèle\n",
    "    \n",
    "    '''\n",
    "    imp = coef_svm\n",
    "    imp,names = zip(*sorted(zip(imp,names)))\n",
    "    plt.barh(range(len(names)), imp, align='center')\n",
    "    plt.yticks(range(len(names)), names)\n",
    "    plt.show()\n",
    "\n",
    "#features_names = ['input1', 'input2']\n",
    "#svm = svm.SVC(kernel='linear')\n",
    "#svm.fit(X, Y)\n",
    "#f_importances(svm.coef_[0], features_names)"
   ]
  },
  {
   "cell_type": "code",
   "execution_count": null,
   "metadata": {},
   "outputs": [],
   "source": []
  },
  {
   "cell_type": "markdown",
   "metadata": {},
   "source": [
    "## Exercice N°1 : Classification données IRIS avec un SVM\n",
    "\n",
    "\n",
    "#### Exploration and data analysis (EDA)\n",
    "1) Importer le dataset Iris\n",
    "\n",
    "2) Faire des stats descriptives pour mieux comprendre le dataset\n",
    "\n",
    "3) Recoder les données dans le bon format si nécessaire \n",
    "\n",
    "4) Découper le dataset en train et test\n",
    "\n",
    "#### Modélisation binaire\n",
    "\n",
    "5) Importer les modèles de  régression logistic , SVC, LinearSVC et SGDClassifier avec sklearn\n",
    "\n",
    "6) Supprimer une des target du data Iris et créer un nouveau dataset qui ne contient que 2 espèces.\n",
    "\n",
    "7) Choisir maximum 2 colonnes dans votre nouveau data et entrainer un SVM avec le module SVC.<br>\n",
    "7.1) Tracer la frontière de décision de votre modèle avec la fonction fournie. Visualiser le résultat.<br>\n",
    "7.2) Faites varier le critère de régularisation $C$ et regarder son impact sur la frontière de décision. Tester plusieurs valeurs.<br>\n",
    "7.3) Commenter l'effet de C sur votre modèle<br>\n",
    "7.4) Recommencer avec une autre paire de features pour fit votre modèle.<br>\n",
    "\n",
    "\n",
    "8) Entrainer les 4 modèles sur les données et évaluer la performance des modèles (uniquement avec le dataset train)\n",
    "   Utiliser les valeurs par défaut des modèles, ne pas tuner.<br>\n",
    "   Réaliser une cross-validation pour évaluer votre modèle.<br>\n",
    "   Justifier le type de cross_validation choisie.<br>\n",
    "\n",
    "9) Imaginons que ce soit le SVM par défaut qui donne le meilleur score, tuner ce modèle pour l'améliorer\n",
    "\n",
    "9.1) Utiliser un grid search pour définir les meilleurs hyperparamètres.<br>\n",
    "9.2) Utiliser une learning curve pour voir comment votre modèle apprend à partir des données.<br>\n",
    "9.3) **Uniquement si vous avez le temps**, examiner l'influence des hyperparamètres sur la qualité de votré modèle avec des          *validation curve*.\n",
    "\n",
    "9) Entrainer votre modèle sur les meilleurs hyperparamètres. \n",
    "\n",
    "10) Réaliser une prédiction avec votre modèle sur le dataset test.<br> \n",
    "    Evaluer la performance de votre modèle.<br>\n",
    "    Regarder les variables qui participent le plus à votre modèle, utiliser la fonction fournie.<br>\n",
    "    Commenter les résultats\n",
    "\n",
    "\n",
    "#### Modélisation multiclass\n",
    "\n",
    "11) A partir du dataset iris avec les 3 espèces, réaliser une classification multiclass\n",
    "    Tester les différentes méthodes, OVR et OVO\n",
    "    Tuner votre modèle pour obtenir la meilleur performance possible.\n",
    "    Commenter. Existe-il des différences entre les méthodes?"
   ]
  },
  {
   "cell_type": "markdown",
   "metadata": {},
   "source": [
    "## Partie code, a vous de jouer 🐍"
   ]
  },
  {
   "cell_type": "markdown",
   "metadata": {},
   "source": [
    "### Exploration and data analysis"
   ]
  },
  {
   "cell_type": "markdown",
   "metadata": {},
   "source": [
    "#### 1) Importer le dataset Iris depuis sklearn"
   ]
  },
  {
   "cell_type": "code",
   "execution_count": 381,
   "metadata": {},
   "outputs": [],
   "source": [
    "#1\n",
    "#Import dataset from sklearn\n",
    "\n",
    "<df_name> = datasets.load_iris()\n",
    "\n",
    "#Si besoin\n",
    "#pd.DataFrame(data= np.c_[<df_name>.data, <df_name>.target], columns=<df_name>['feature_names']+['species'] )\n",
    "\n"
   ]
  },
  {
   "cell_type": "markdown",
   "metadata": {},
   "source": [
    "#### 2) Statistiques descriptives"
   ]
  },
  {
   "cell_type": "code",
   "execution_count": null,
   "metadata": {},
   "outputs": [],
   "source": [
    "#.describe() d'un pandas dataframe peut aider"
   ]
  },
  {
   "cell_type": "code",
   "execution_count": null,
   "metadata": {},
   "outputs": [],
   "source": []
  },
  {
   "cell_type": "markdown",
   "metadata": {},
   "source": [
    "#### 3) Recoder variable si besoin"
   ]
  },
  {
   "cell_type": "code",
   "execution_count": null,
   "metadata": {},
   "outputs": [],
   "source": []
  },
  {
   "cell_type": "code",
   "execution_count": null,
   "metadata": {},
   "outputs": [],
   "source": []
  },
  {
   "cell_type": "markdown",
   "metadata": {},
   "source": [
    "### Modélisation binaire\n",
    "\n",
    "Attention à bien choisir un dataset contenant uniquement **2** espèces pour la modélisation"
   ]
  },
    {
   "cell_type": "markdown",
   "metadata": {},
   "source": [
    "#### 4) Découper data set en train et test"
   ]
  },
    {
   "cell_type": "code",
   "execution_count": null,
   "metadata": {},
   "outputs": [],
   "source": []
  },
  {
   "cell_type": "markdown",
   "metadata": {},
   "source": [
    "#### 5) Importer les modules pour la modélisation"
   ]
  },
  {
   "cell_type": "code",
   "execution_count": null,
   "metadata": {},
   "outputs": [],
   "source": []
  },
  {
   "cell_type": "markdown",
   "metadata": {},
   "source": [
    "#### 6) Supprimer une espèce de fleur du dataset iris"
   ]
  },
  {
   "cell_type": "code",
   "execution_count": null,
   "metadata": {},
   "outputs": [],
   "source": []
  },
  {
   "cell_type": "markdown",
   "metadata": {},
   "source": [
    "#### 7) Garder uniquement 2 colonnes du dataset et entrainer un SVM avec module SVC\n",
    "\n",
    "7.1) Tracer la frontière de décision de votre modèle avec la fonction **plot_svc_decision_boundary**. Visualiser le résultat.<br>\n",
    "7.2) Faites varier le critère de régularisation $C$ et regarder son impact sur la frontière de décision. Tester plusieurs valeurs.<br>\n",
    "7.3) Commenter l'effet de $C$ sur votre modèle<br>\n",
    "7.4) Recommencer avec une autre paire de features pour fit votre modèle.<br>\n",
    "\n"
   ]
  },
  {
   "cell_type": "code",
   "execution_count": null,
   "metadata": {},
   "outputs": [],
   "source": [
    "#Train model SVC\n",
    "\n"
   ]
  },
  {
   "cell_type": "code",
   "execution_count": 387,
   "metadata": {},
   "outputs": [],
   "source": [
    "#Tracer d'abord les données d'entrainement avant d'utiliser la fonction ci-dessous\n",
    "#Regarder les commentaires de la fonction pour mieux comprendre, au début du notebook\n",
    "\n",
    "\n",
    "#plot_svc_decision_boundary(svm_clf, xmin, xmax)"
   ]
  },
  {
   "cell_type": "code",
   "execution_count": null,
   "metadata": {},
   "outputs": [],
   "source": []
  },
  {
   "cell_type": "code",
   "execution_count": null,
   "metadata": {},
   "outputs": [],
   "source": []
  },
  {
   "cell_type": "code",
   "execution_count": null,
   "metadata": {},
   "outputs": [],
   "source": []
  },
  {
   "cell_type": "code",
   "execution_count": null,
   "metadata": {},
   "outputs": [],
   "source": []
  },
  {
   "cell_type": "markdown",
   "metadata": {},
   "source": [
    "#### 8) Entrainer les 4 modèles sur votre dataset d'entrainement\n",
    "\n",
    "- LogisticRegression\n",
    "- LinearSVC\n",
    "- SVC\n",
    "- SGDClassifier\n",
    "\n",
    "Conseils :\n",
    "- Utiliser les valeurs par défaut des modèles, ne pas tuner.<br>\n",
    "- Réaliser une cross-validation pour évaluer votre modèle.<br>\n",
    "- Justifier le type de cross_validation choisie.<br>"
   ]
  },
  {
   "cell_type": "code",
   "execution_count": null,
   "metadata": {},
   "outputs": [],
   "source": [
    "#On continue de travailler sur le dataset iris mais vous allez charger une version légérement modifiée.\n",
    "#Elle est disponible directement sur github dans\n",
    "# cours_iae/01_SVM/td/data/\n",
    "\n",
    "<df_name> = pd.read_csv('.csv', sep=';')"
   ]
  },
  {
   "cell_type": "markdown",
   "metadata": {},
   "source": [
    "#### 9)  Tuner le modèle SVM pour améliorer ses performances\n",
    "\n",
    "A vous de choirsir entre **SGDClassifier** ou **SVC** ou **LinearSVC** mais justifier pourquoi l'un ou l'autre.\n",
    "\n",
    "9.1) Utiliser un grid search pour définir les meilleurs hyperparamètres.<br>\n",
    "9.2) Utiliser une learning curve pour voir comment votre modèle apprend à partir des données.<br>\n",
    "9.3) Uniquement si vous avez le temps, examiner l'influence des hyperparamètres sur la qualité de votré modèle avec des validation curve."
   ]
  },
  {
   "cell_type": "code",
   "execution_count": null,
   "metadata": {},
   "outputs": [],
   "source": []
  },
  {
   "cell_type": "code",
   "execution_count": null,
   "metadata": {},
   "outputs": [],
   "source": []
  },
  {
   "cell_type": "code",
   "execution_count": null,
   "metadata": {},
   "outputs": [],
   "source": []
  },
  {
   "cell_type": "code",
   "execution_count": null,
   "metadata": {},
   "outputs": [],
   "source": []
  },
  {
   "cell_type": "markdown",
   "metadata": {},
   "source": [
    "#### 10) Entrainer votre modèle sur les hyperparamètres qui donne la meilleur performance"
   ]
  },
  {
   "cell_type": "code",
   "execution_count": null,
   "metadata": {},
   "outputs": [],
   "source": []
  },
  {
   "cell_type": "code",
   "execution_count": null,
   "metadata": {},
   "outputs": [],
   "source": []
  },
  {
   "cell_type": "markdown",
   "metadata": {},
   "source": [
    "#### 11) Réaliser une prédiction avec votre modèle sur le dataset test. \n",
    "\n",
    "- Evaluer la performance de votre modèle \n",
    "- Regarder les variables qui participent le plus à votre modèle, utiliser la fonction fournie \n",
    "- Commenter les résultats"
   ]
  },
  {
   "cell_type": "code",
   "execution_count": null,
   "metadata": {},
   "outputs": [],
   "source": []
  },
  {
   "cell_type": "code",
   "execution_count": null,
   "metadata": {},
   "outputs": [],
   "source": []
  },
  {
   "cell_type": "code",
   "execution_count": null,
   "metadata": {},
   "outputs": [],
   "source": []
  },
  {
   "cell_type": "code",
   "execution_count": null,
   "metadata": {},
   "outputs": [],
   "source": [
    "#Nom de vos features \n",
    "features_names = ['input1', 'input2','inputN']\n",
    "#Votre meilleur modèle\n",
    "\n",
    "#svm = svm.SVC(kernel='linear')\n",
    "#svm.fit(X, Y)\n",
    "\n",
    "#Plot l'importance des features pour le modèle en fonction de ses coéfficients\n",
    "svm_f_importances(svm.coef_[0], features_names)"
   ]
  },
  {
   "cell_type": "code",
   "execution_count": null,
   "metadata": {},
   "outputs": [],
   "source": []
  },
  {
   "cell_type": "markdown",
   "metadata": {},
   "source": [
    "## Exercice N°2 : Modélisation multiclass avec dataset IRIS"
   ]
  },
  {
   "cell_type": "markdown",
   "metadata": {},
   "source": [
    "#### 1) Importer le dataset Iris depuis sklearn\n",
    "\n",
    "Avec le module datasets.load_iris(). A ce stade plus besoin d'utiliser mon dataset Iris modifié.\n",
    "\n",
    "Ne supprimer pas la 3ème espèce de fleur, nous allons maintenant utiliser les 3 target."
   ]
  },
  {
   "cell_type": "code",
   "execution_count": null,
   "metadata": {},
   "outputs": [],
   "source": []
  },
  {
   "cell_type": "markdown",
   "metadata": {},
   "source": [
    "#### 2 Entrainer un SVM pour une classification multiclass\n",
    "\n",
    "- Définir la stratégie en s'appuyant sur les éléments vus en cours\n",
    "- Que faut-il modifier pour que le SVM puisse faire une classification multiclass?\n",
    "\n",
    "- Combien de modèle faut-il prédire?\n",
    "- Tester avec la méthode OVO et OVR"
   ]
  },
  {
   "cell_type": "code",
   "execution_count": null,
   "metadata": {},
   "outputs": [],
   "source": [
    "#OneVsRestClassifier\n",
    "#OneVsOneClassifier\n"
   ]
  },
  {
   "cell_type": "code",
   "execution_count": null,
   "metadata": {},
   "outputs": [],
   "source": []
  },
  {
   "cell_type": "markdown",
   "metadata": {},
   "source": [
    "3) Existe-t-il des différences entre OVO et OVR?"
   ]
  },
  {
   "cell_type": "code",
   "execution_count": null,
   "metadata": {},
   "outputs": [],
   "source": []
  },
  {
   "cell_type": "code",
   "execution_count": 79,
   "metadata": {},
   "outputs": [],
   "source": []
  },
  {
   "cell_type": "markdown",
   "metadata": {},
   "source": [
    "<center><h3> Merci de rendre lisible votre code, un groupe présentera ses travaux à l'oral à la fin du cours.</h3></center>"
   ]
  }
 ],
 "metadata": {
  "kernelspec": {
   "display_name": "Python 3",
   "language": "python",
   "name": "python3"
  },
  "language_info": {
   "codemirror_mode": {
    "name": "ipython",
    "version": 3
   },
   "file_extension": ".py",
   "mimetype": "text/x-python",
   "name": "python",
   "nbconvert_exporter": "python",
   "pygments_lexer": "ipython3",
   "version": "3.8.3"
  }
 },
 "nbformat": 4,
 "nbformat_minor": 4
}
