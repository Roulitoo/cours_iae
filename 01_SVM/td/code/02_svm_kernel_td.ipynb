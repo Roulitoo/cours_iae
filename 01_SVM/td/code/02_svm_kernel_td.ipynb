{
 "cells": [
  {
   "cell_type": "markdown",
   "id": "641bd8ce",
   "metadata": {},
   "source": [
    "<center><h1> TD N°2 : SVM non linéaire</h1></center>\n"
   ]
  },
  {
   "cell_type": "markdown",
   "id": "495d6417",
   "metadata": {},
   "source": [
    "## Import package"
   ]
  },
  {
   "cell_type": "code",
   "execution_count": null,
   "id": "c9836da8",
   "metadata": {},
   "outputs": [],
   "source": [
    "from sklearn.datasets import load_breast_cancer\n",
    "import pandas as pd\n",
    "import numpy as np\n",
    "import time\n",
    "#Viz\n",
    "import seaborn as sns\n",
    "import matplotlib.pyplot as plt"
   ]
  },
  {
   "cell_type": "code",
   "execution_count": null,
   "id": "18ce6f85",
   "metadata": {},
   "outputs": [],
   "source": [
    "#Modélisation \n",
    "#Classifier\n",
    "from sklearn.svm import SVC \n",
    "from sklearn.linear_model import SGDClassifier , LogisticRegression\n",
    "#Metrics\n",
    "from sklearn.metrics import accuracy_score, confusion_matrix, classification_report\n",
    "#Eval\n",
    "from sklearn.model_selection import cross_val_score ,learning_curve ,GridSearchCV\n",
    "from sklearn_evaluation import plot\n"
   ]
  },
  {
   "cell_type": "markdown",
   "id": "35ffa77e",
   "metadata": {},
   "source": [
    "## Function"
   ]
  },
  {
   "cell_type": "code",
   "execution_count": null,
   "id": "7f2d60ed",
   "metadata": {},
   "outputs": [],
   "source": [
    "def plot_predictions(clf, axes):\n",
    "    \n",
    "    ''''\n",
    "    Plot prediction permet de visualiser la frontière de décision d'un SVM avec kernel.\n",
    "    Elle ne marche qu'avec 2 features (2 dimensions)\n",
    "    \n",
    "    IL FAUT également tracer votre X_train avant de faire cette fonction!!\n",
    "    \n",
    "    '''\n",
    "    x0s = np.linspace(axes[0], axes[1], 100)\n",
    "    x1s = np.linspace(axes[2], axes[3], 100)\n",
    "    x0, x1 = np.meshgrid(x0s, x1s)\n",
    "    X = np.c_[x0.ravel(), x1.ravel()]\n",
    "    y_pred = clf.predict(X).reshape(x0.shape)\n",
    "    y_decision = clf.decision_function(X).reshape(x0.shape)\n",
    "    plt.contourf(x0, x1, y_pred, cmap=plt.cm.brg, alpha=0.2)\n",
    "    plt.contourf(x0, x1, y_decision, cmap=plt.cm.brg, alpha=0.1)\n",
    "    \n",
    "\n",
    "#clf = model SVC\n",
    "#axes = [xlim_min, xlim_max, ylim_min, ylim_max]"
   ]
  },
  {
   "cell_type": "markdown",
   "id": "c9b01a3d",
   "metadata": {},
   "source": [
    "## Enoncé TD\n",
    "\n",
    "#### Exploration and data analysis (EDA)\n",
    "\n",
    "1) Importer le jeu de données breast cancer disponible dans le module sklearn.datasets<br>\n",
    "2) Analyser le dataset avec des statistiques descriptives<br>\n",
    "3) Recoder les variables si nécessaire<br>\n",
    "4) Faites une première étape de feature selection avec votre analyse statistique<br> \n",
    "\n",
    "#### Modélisation binaire\n",
    "\n",
    "5) Importer les modèles suivants **SGDClassifier, SVC, LogisticRegression**<br>\n",
    "6) Regarder l'effet du changement de noyau pour la fonction **SVC**<br>\n",
    "- 6.1) Garder uniquement 2 features pour cette partie<br>\n",
    "- 6.2) Utiliser la fonction **plot_predictions** pour voir la fonction de décision en fonction du noyau<br>\n",
    "- 6.3) Varier les autres hyperparamètres en plus du **kernel**<br>\n",
    "\n",
    "7) Lancer vos modèles sur les features que vous avez gardés avec vos statistiques descriptives( pour **SVC** utiliser plusieurs noyaux)<br>\n",
    "8) Réaliser une cross-validation afin de déterminer des modèles prometteurs. Ne pas tuner les hyperparamètres<br>\n",
    "9) Analyser vos résultats (metrics, erreurs de prédictions, ...)<br>\n",
    "10) Tuner pour obtenir le meilleur modèle et réaliser une prédiction<br>\n",
    "- 10.1) Analyser les variables importantes de votre modèle\n",
    "\n"
   ]
  },
  {
   "cell_type": "markdown",
   "id": "4543e2e6",
   "metadata": {},
   "source": [
    "## Description du dataset\n",
    "\n",
    "\n",
    "\n",
    "<img src=\"https://www.researchgate.net/profile/Faiza-Khattak/publication/281099329/figure/fig3/AS:284623327252504@1444870897714/Example-images-of-the-breast-cancer-dataset-From-left-to-right-First-three-are.png\" alt=\"image_breast_cancer.png\" style=\"width:800px;\"/>\n",
    "</p>\n",
    "\n",
    "Le data set breast cancer contient des informations sur la caractéristiques de tumeur bénine ou non.<br>\n",
    "Les informations sont issues d'images  (exmple ci-dessus) et un docteur à labélisé si la tumeur était bénine ou maligne.\n",
    "\n",
    "##### Info du dataset\n",
    "\n",
    "Attribute Information:\n",
    "- radius (mean of distances from center to points on the perimeter)\n",
    "- texture (standard deviation of gray-scale values)\n",
    "- perimeter\n",
    "- area\n",
    "- smoothness (local variation in radius lengths)\n",
    "- compactness (perimeter^2 / area - 1.0)\n",
    "- concavity (severity of concave portions of the contour)\n",
    "- concave points (number of concave portions of the contour)\n",
    "- symmetry\n",
    "- fractal dimension (\"coastline approximation\" - 1)\n",
    "        \n",
    "Chaque attribut possède 3 informations. La moyenne(mean), l'écart type(standart error) et le maximun(\"worst\")\n"
   ]
  },
  {
   "cell_type": "markdown",
   "id": "466b2d20",
   "metadata": {},
   "source": [
    "## Code"
   ]
  },
  {
   "cell_type": "markdown",
   "id": "2f54469f",
   "metadata": {},
   "source": [
    "## Exploration and data analysis\n"
   ]
  },
  {
   "cell_type": "markdown",
   "id": "e40a4225",
   "metadata": {},
   "source": [
    "#### 1) Importer le jeu de données breast cancer disponible dans le module sklearn.datasets"
   ]
  },
  {
   "cell_type": "code",
   "execution_count": null,
   "id": "d999f265",
   "metadata": {},
   "outputs": [],
   "source": [
    "#Load dataset breast cancer\n",
    "data = load_breast_cancer()"
   ]
  },
  {
   "cell_type": "code",
   "execution_count": null,
   "id": "574a89d9",
   "metadata": {},
   "outputs": [],
   "source": []
  },
  {
   "cell_type": "markdown",
   "id": "28a7f476",
   "metadata": {},
   "source": [
    "##### 2) Analyser le dataset avec des statistiques descriptives\n",
    "\n",
    "- Statistiques univariées\n",
    "- Statistiques bivariées\n",
    "- Statistiques multivariées (si vous avez le temps)"
   ]
  },
  {
   "cell_type": "code",
   "execution_count": null,
   "id": "4cd4d3ed",
   "metadata": {},
   "outputs": [],
   "source": []
  },
  {
   "cell_type": "markdown",
   "id": "68b4e025",
   "metadata": {},
   "source": [
    "#### 3) Recoder les variables si nécessaire\n"
   ]
  },
  {
   "cell_type": "code",
   "execution_count": null,
   "id": "49d57756",
   "metadata": {},
   "outputs": [],
   "source": []
  },
  {
   "cell_type": "markdown",
   "id": "aa18ec1b",
   "metadata": {},
   "source": [
    "#### 4) Faites une première étape de feature selection avec votre analyse des statistiques"
   ]
  },
  {
   "cell_type": "code",
   "execution_count": null,
   "id": "2976051d",
   "metadata": {},
   "outputs": [],
   "source": []
  },
  {
   "cell_type": "code",
   "execution_count": null,
   "id": "9d49c205",
   "metadata": {},
   "outputs": [],
   "source": []
  },
  {
   "cell_type": "markdown",
   "id": "155f3b57",
   "metadata": {},
   "source": [
    "## Modélisation Binaire"
   ]
  },
  {
   "cell_type": "markdown",
   "id": "214b0abc",
   "metadata": {},
   "source": [
    "#### 5) Importer les modèles suivants SGDClassifier, SVC, LogisticRegression"
   ]
  },
  {
   "cell_type": "code",
   "execution_count": null,
   "id": "8dbcb385",
   "metadata": {},
   "outputs": [],
   "source": []
  },
  {
   "cell_type": "code",
   "execution_count": null,
   "id": "7edccbd9",
   "metadata": {},
   "outputs": [],
   "source": []
  },
  {
   "cell_type": "markdown",
   "id": "daf8c000",
   "metadata": {},
   "source": [
    "#### 6) Regarder l'effet du changement de noyau pour la fonction SVC\n",
    "\n",
    "6.1) Garder uniquement **2 features** pour cette partie<br>\n",
    "6.2) Utiliser la fonction **plot_predictions** pour voir la fonction de décision en fonction du noyau<br>\n",
    "6.3) Varier les autres hyperparamètres en plus du kernel<br>"
   ]
  },
  {
   "cell_type": "code",
   "execution_count": null,
   "id": "5812eab2",
   "metadata": {},
   "outputs": [],
   "source": []
  },
  {
   "cell_type": "code",
   "execution_count": null,
   "id": "1a9c34f1",
   "metadata": {},
   "outputs": [],
   "source": [
    "#plt.scatter(<col_1>, <col_2>, c=<target>)\n",
    "#plot_predictions(clf, axes)\n",
    "#clf = model SVC\n",
    "#axes = [xlim_min, xlim_max, ylim_min, ylim_max]"
   ]
  },
  {
   "cell_type": "code",
   "execution_count": null,
   "id": "7a81103c",
   "metadata": {},
   "outputs": [],
   "source": []
  },
  {
   "cell_type": "markdown",
   "id": "396ed1a3",
   "metadata": {},
   "source": [
    "#### 7) Lancer vos modèles sur les features que vous avez gardés avec vos statistiques descriptives( pour **SVC** utiliser plusieurs noyaux)\n",
    "\n",
    "On utilise un dataset avec autant features que vous souhaitez maintenant"
   ]
  },
  {
   "cell_type": "code",
   "execution_count": null,
   "id": "20b9d578",
   "metadata": {},
   "outputs": [],
   "source": []
  },
  {
   "cell_type": "markdown",
   "id": "ebbb1eb3",
   "metadata": {},
   "source": [
    "#### 8) Réaliser une cross-validation afin de déterminer des modèles prometteurs. Ne pas tuner les hyperparamètres "
   ]
  },
  {
   "cell_type": "code",
   "execution_count": null,
   "id": "474f13fa",
   "metadata": {},
   "outputs": [],
   "source": []
  },
  {
   "cell_type": "markdown",
   "id": "395847d6",
   "metadata": {},
   "source": [
    "#### 9) Analyser vos résultats (metrics, erreurs de prédictions, ...)"
   ]
  },
  {
   "cell_type": "code",
   "execution_count": null,
   "id": "631015f5",
   "metadata": {},
   "outputs": [],
   "source": []
  },
  {
   "cell_type": "markdown",
   "id": "2631a8ae",
   "metadata": {},
   "source": [
    "#### 10) Tuner pour obtenir le meilleur modèle et réaliser une prédiction\n"
   ]
  },
  {
   "cell_type": "code",
   "execution_count": null,
   "id": "a8eb7924",
   "metadata": {},
   "outputs": [],
   "source": []
  },
  {
   "cell_type": "markdown",
   "id": "64114f65",
   "metadata": {},
   "source": [
    "<center><h4> Alors, êtes-vous devenu un bon médcin et savez vous détecter un cancer??</h4></center>"
   ]
  },
  {
   "cell_type": "code",
   "execution_count": null,
   "id": "de402a9f",
   "metadata": {},
   "outputs": [],
   "source": []
  }
 ],
 "metadata": {
  "kernelspec": {
   "display_name": "Python 3 (ipykernel)",
   "language": "python",
   "name": "python3"
  },
  "language_info": {
   "codemirror_mode": {
    "name": "ipython",
    "version": 3
   },
   "file_extension": ".py",
   "mimetype": "text/x-python",
   "name": "python",
   "nbconvert_exporter": "python",
   "pygments_lexer": "ipython3",
   "version": "3.9.13"
  }
 },
 "nbformat": 4,
 "nbformat_minor": 5
}
