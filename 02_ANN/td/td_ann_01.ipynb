{
 "cells": [
  {
   "cell_type": "markdown",
   "id": "ad40b4a2",
   "metadata": {},
   "source": [
    "<center><h1> Reproduire le cours avec Keras </h1></center>"
   ]
  },
  {
   "cell_type": "markdown",
   "id": "62270f7b",
   "metadata": {},
   "source": [
    "L'objectif de ce premier td sur les réseaux de neurones est de vous familiariser avec la syntaxe de Keras et l'architecture des réseaux de neurones.\n",
    "\n",
    "Pour commencer, allez sur https://playground.tensorflow.org/ et jouer avec les hyperparamètres et l'architecture du réseau de neurones.\n",
    "Regarder comment les hyperparamètres impactent la classification ou la régression.\n",
    "\n",
    "Dans un 2nd temps, reproduisez les 2 exemples du cours!\n",
    "\n",
    "- Classification avec les données MNIST\n",
    " - Charger les données\n",
    " - Afficher une image\n",
    " - Créer un modèle de classification avec keras\n",
    " - Entrainer le modèle\n",
    " - Evaluer son modèle\n",
    " <br>\n",
    " <br>\n",
    "- Régression avec le dataset California housing\n",
    " - Charger les données\n",
    " - Afficher une image\n",
    " - Créer un modèle de classification avec keras\n",
    " - Entrainer le modèle\n",
    " - Evaluer son modèle\n",
    "\n",
    "\n",
    "Sur ce TD vous n'êtes pas guidés. Vous avez tous les éléments sur le cours 02_ANN et 01_SVM pour mnist."
   ]
  },
  {
   "cell_type": "code",
   "execution_count": null,
   "id": "dac28119",
   "metadata": {},
   "outputs": [],
   "source": []
  },
  {
   "cell_type": "code",
   "execution_count": null,
   "id": "7ba187a8",
   "metadata": {},
   "outputs": [],
   "source": []
  },
  {
   "cell_type": "code",
   "execution_count": null,
   "id": "cba5e05a",
   "metadata": {},
   "outputs": [],
   "source": []
  },
  {
   "cell_type": "code",
   "execution_count": null,
   "id": "04804133",
   "metadata": {},
   "outputs": [],
   "source": []
  },
  {
   "cell_type": "code",
   "execution_count": null,
   "id": "cce2fdd8",
   "metadata": {},
   "outputs": [],
   "source": []
  },
  {
   "cell_type": "code",
   "execution_count": null,
   "id": "3c461b91",
   "metadata": {},
   "outputs": [],
   "source": []
  }
 ],
 "metadata": {
  "kernelspec": {
   "display_name": "Python 3 (ipykernel)",
   "language": "python",
   "name": "python3"
  },
  "language_info": {
   "codemirror_mode": {
    "name": "ipython",
    "version": 3
   },
   "file_extension": ".py",
   "mimetype": "text/x-python",
   "name": "python",
   "nbconvert_exporter": "python",
   "pygments_lexer": "ipython3",
   "version": "3.7.15"
  }
 },
 "nbformat": 4,
 "nbformat_minor": 5
}
