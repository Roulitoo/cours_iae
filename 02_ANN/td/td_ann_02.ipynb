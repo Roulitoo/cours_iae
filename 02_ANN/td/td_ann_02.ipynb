{
 "cells": [
  {
   "cell_type": "markdown",
   "id": "e3f29c97",
   "metadata": {},
   "source": [
    "<center><h1> TD Réseaux de Neurones </h1></center>"
   ]
  },
  {
   "cell_type": "markdown",
   "id": "00b18ea0",
   "metadata": {},
   "source": [
    "Pour ce dernier TD vous allez devoir réaliser 2 modélisations différentes.\n",
    "Une première pour une régression sur le jeu de données california housing et le second une classification de vêtement.\n",
    "\n",
    "#### Préambule \n",
    "\n",
    "Jouer sur le [tensor sandbox](https://playground.tensorflow.org/) pour voir l'effet des hyperparamètres.\n",
    "\n",
    "\n",
    "#### Première partie, régression\n",
    "\n",
    "L'objectif est de jouer sur les hyperparamètres et de regarder l'impact sur les courbes d'apprentissages\n",
    "\n",
    "1-) Charger le jeu de données Auto MPG disponible sur le site [UCI](https://archive.ics.uci.edu/ml/index.php)\n",
    "\n",
    "2-) Adapter votre jeu de données pour faire une régression sous Keras\n",
    "\n",
    "3-) Faites un premier modèle de régression avec Keras en utilisant l'API séquentiel\n",
    "\n",
    "4-) Tester un modèle wide & deep\n",
    "\n",
    "5-) Faire une cross-validation avec scikeras pour trouver le meilleur modèle\n",
    "\n",
    "#### Seconde partie, classification\n",
    "\n",
    "1-) Charger le jeu de données fashion mnist\n",
    "\n",
    "2-) Visualiser le contenu du dataset, des images\n",
    "\n",
    "3-) Transformer les features et créer un jeu de test et d'entrainement\n",
    "\n",
    "4-) Réaliser des modèles de classification avec keras"
   ]
  },
  {
   "cell_type": "markdown",
   "id": "1e312ec5",
   "metadata": {},
   "source": [
    "### Import package"
   ]
  },
  {
   "cell_type": "code",
   "execution_count": null,
   "id": "a095bc78",
   "metadata": {},
   "outputs": [],
   "source": [
    "#Get package\n",
    "import pandas as pd\n",
    "import numpy as np\n",
    "import matplotlib.pyplot as plt\n"
   ]
  },
  {
   "cell_type": "code",
   "execution_count": null,
   "id": "7fd3b896",
   "metadata": {},
   "outputs": [],
   "source": []
  },
  {
   "cell_type": "code",
   "execution_count": null,
   "id": "1df82999",
   "metadata": {},
   "outputs": [],
   "source": []
  },
  {
   "cell_type": "markdown",
   "id": "7f2f8518",
   "metadata": {},
   "source": [
    "### Code, régression"
   ]
  },
  {
   "cell_type": "markdown",
   "id": "f8e08463",
   "metadata": {},
   "source": [
    "#### 1-) Charger le jeu de données Auto MPG disponible sur le site UCI"
   ]
  },
  {
   "cell_type": "code",
   "execution_count": null,
   "id": "7e2dad7f",
   "metadata": {},
   "outputs": [],
   "source": [
    "#Pour charger le jeu de données\n",
    "url = 'http://archive.ics.uci.edu/ml/machine-learning-databases/auto-mpg/auto-mpg.data'\n",
    "column_names = ['MPG', 'cylinders', 'displacement', 'horsepower', 'weight',\n",
    "                'acceleration', 'model_year', 'origin']\n",
    "\n",
    "df = pd.read_csv(url, \n",
    "                 names=column_names,\n",
    "                 na_values='?', \n",
    "                 comment='\\t',\n",
    "                 sep=' ', \n",
    "                 skipinitialspace=True\n",
    "                 )"
   ]
  },
  {
   "cell_type": "markdown",
   "id": "a801148f",
   "metadata": {},
   "source": [
    "#### 2-) Adapter votre jeu de données pour faire une régression sous Keras"
   ]
  },
  {
   "cell_type": "code",
   "execution_count": null,
   "id": "01138356",
   "metadata": {},
   "outputs": [],
   "source": []
  },
  {
   "cell_type": "markdown",
   "id": "664e63d6",
   "metadata": {},
   "source": [
    "#### 3-) Faites un premier modèle de régression avec Keras en utilisant l'API séquentiel\n",
    "\n",
    "Attention, il faudra surement changer voter otpimizer pour ce problème.\n",
    "\n",
    "**Jouer avec les hyperparamètres pour voir comment se comporter le modèle**"
   ]
  },
  {
   "cell_type": "code",
   "execution_count": 5,
   "id": "a2f92247",
   "metadata": {},
   "outputs": [],
   "source": [
    "#Lancer ce code pour nettoyer votre session keras avec chaque nouveau modèle et fixer la graine\n",
    "\n",
    "#keras.backend.clear_session()\n",
    "#np.random.seed(42)\n",
    "#tf.random.set_seed(42)"
   ]
  },
  {
   "cell_type": "code",
   "execution_count": null,
   "id": "580fd90f",
   "metadata": {},
   "outputs": [],
   "source": []
  },
  {
   "cell_type": "markdown",
   "id": "ae3a4867",
   "metadata": {},
   "source": [
    "#### 4-) Tester un modèle wide & deep\n",
    "**Jouer avec les hyperparamètres pour voir comment se comporter le modèle**"
   ]
  },
  {
   "cell_type": "code",
   "execution_count": null,
   "id": "df440248",
   "metadata": {},
   "outputs": [],
   "source": []
  },
  {
   "cell_type": "markdown",
   "id": "f4769bc8",
   "metadata": {},
   "source": [
    "#### 5-) Faire une cross-validation avec scikeras pour trouver le meilleur modèle"
   ]
  },
  {
   "cell_type": "code",
   "execution_count": null,
   "id": "6aacf5cd",
   "metadata": {},
   "outputs": [],
   "source": []
  },
  {
   "cell_type": "code",
   "execution_count": null,
   "id": "9c0837b6",
   "metadata": {},
   "outputs": [],
   "source": []
  },
  {
   "cell_type": "markdown",
   "id": "960a1113",
   "metadata": {},
   "source": [
    "### Seconde partie, classification"
   ]
  },
  {
   "cell_type": "markdown",
   "id": "9cfeeead",
   "metadata": {},
   "source": [
    "#### 1-) Charger le jeu de données fashion mnist"
   ]
  },
  {
   "cell_type": "code",
   "execution_count": 8,
   "id": "fc5a026d",
   "metadata": {},
   "outputs": [],
   "source": [
    "#Load fashion mnist\n",
    "fashion_mnist = keras.datasets.fashion_mnist\n",
    "(X_train_full, y_train_full), (X_test, y_test) =fashion_mnist.load_data()"
   ]
  },
  {
   "cell_type": "markdown",
   "id": "19a4a8f9",
   "metadata": {},
   "source": [
    "#### 2-) Visualiser le contenu du dataset, des images"
   ]
  },
  {
   "cell_type": "code",
   "execution_count": null,
   "id": "1e52cdc8",
   "metadata": {},
   "outputs": [],
   "source": [
    "class_names = [\"T-shirt/top\", \"Trouser\", \"Pullover\", \"Dress\", \"Coat\",\n",
    "\"Sandal\", \"Shirt\", \"Sneaker\", \"Bag\", \"Ankle boot\"]"
   ]
  },
  {
   "cell_type": "code",
   "execution_count": null,
   "id": "8c17c51a",
   "metadata": {},
   "outputs": [],
   "source": [
    "#Afficher une image\n",
    "plt.imshow(<df[index]>, cmap=\"binary\")\n",
    "plt.axis('off')\n",
    "plt.show()"
   ]
  },
  {
   "cell_type": "code",
   "execution_count": null,
   "id": "d886a0ea",
   "metadata": {},
   "outputs": [],
   "source": [
    "# Afficher un échantillon des images\n",
    "\n",
    "n_rows = 4\n",
    "n_cols = 10\n",
    "plt.figure(figsize=(n_cols * 1.2, n_rows * 1.2))\n",
    "for row in range(n_rows):\n",
    "    for col in range(n_cols):\n",
    "        index = n_cols * row + col\n",
    "        plt.subplot(n_rows, n_cols, index + 1)\n",
    "        plt.imshow(<df[index]>, cmap=\"binary\", interpolation=\"nearest\")\n",
    "        plt.axis('off')\n",
    "        plt.title(class_names[<y_train[index]>], fontsize=12)\n",
    "plt.subplots_adjust(wspace=0.2, hspace=0.5)\n",
    "plt.show()"
   ]
  },
  {
   "cell_type": "markdown",
   "id": "24254ec1",
   "metadata": {},
   "source": [
    "#### 3-) Transformer les features et créer un jeu de test et d'entrainement"
   ]
  },
  {
   "cell_type": "code",
   "execution_count": null,
   "id": "33d00a29",
   "metadata": {},
   "outputs": [],
   "source": []
  },
  {
   "cell_type": "markdown",
   "id": "9a176309",
   "metadata": {},
   "source": [
    "#### 4-) Réaliser des modèles de classification avec keras"
   ]
  },
  {
   "cell_type": "markdown",
   "id": "81ea0b5b",
   "metadata": {},
   "source": [
    "Attention à votre fonction de perte ici. Choissisez la *keras.losses.sparse_categorical_crossentropy*\n",
    "\n",
    "**Categorical Cross-Entropy and Sparse Categorical Cross-Entropy**<br>\n",
    "Both categorical cross entropy and sparse categorical cross-entropy have the same loss function as defined in Equation 2. The only difference between the two is on how truth labels are defined.\n",
    "\n",
    "Categorical cross-entropy is used when true labels are one-hot encoded, for example, we have the following true values for 3-class classification problem [1,0,0], [0,1,0] and [0,0,1].\n",
    "\n",
    "In sparse categorical cross-entropy , truth labels are integer encoded, for example, [1], [2] and [3] for 3-class problem.\n"
   ]
  }
 ],
 "metadata": {
  "kernelspec": {
   "display_name": "Python 3 (ipykernel)",
   "language": "python",
   "name": "python3"
  },
  "language_info": {
   "codemirror_mode": {
    "name": "ipython",
    "version": 3
   },
   "file_extension": ".py",
   "mimetype": "text/x-python",
   "name": "python",
   "nbconvert_exporter": "python",
   "pygments_lexer": "ipython3",
   "version": "3.9.13"
  }
 },
 "nbformat": 4,
 "nbformat_minor": 5
}
