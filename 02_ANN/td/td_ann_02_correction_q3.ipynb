{
 "cells": [
  {
   "cell_type": "markdown",
   "id": "c6098cc6",
   "metadata": {},
   "source": [
    "<center><h1> TD Réseaux de Neurones </h1></center>"
   ]
  },
  {
   "cell_type": "markdown",
   "id": "2b1f10be",
   "metadata": {},
   "source": [
    "Pour ce dernier TD vous allez devoir réaliser 2 modélisations différentes.\n",
    "Une première pour une régression sur le jeu de données california housing et le second une classification de vêtement.\n",
    "\n",
    "#### Préambule \n",
    "\n",
    "Jouer sur le [tensor sandbox](https://playground.tensorflow.org/) pour voir l'effet des hyperparamètres.\n",
    "\n",
    "\n",
    "#### Première partie, régression\n",
    "\n",
    "L'objectif est de jouer sur les hyperparamètres et de regarder l'impact sur les courbes d'apprentissages\n",
    "\n",
    "1-) Charger le jeu de données Auto MPG disponible sur le site [UCI](https://archive.ics.uci.edu/ml/index.php)\n",
    "\n",
    "2-) Adapter votre jeu de données pour faire une régression sous Keras\n",
    "\n",
    "3-) Faites un premier modèle de régression avec Keras en utilisant l'API séquentiel\n",
    "\n",
    "4-) Tester un modèle wide & deep\n",
    "\n",
    "5-) Faire une cross-validation avec scikeras pour trouver le meilleur modèle\n",
    "\n",
    "#### Seconde partie, classification\n",
    "\n",
    "1-) Charger le jeu de données fashion mnist\n",
    "\n",
    "2-) Visualiser le contenu du dataset, des images\n",
    "\n",
    "3-) Transformer les features et créer un jeu de test et d'entrainement\n",
    "\n",
    "4-) Réaliser des modèles de classification avec keras"
   ]
  },
  {
   "cell_type": "code",
   "execution_count": 2,
   "id": "ad084698",
   "metadata": {},
   "outputs": [],
   "source": [
    "#Get package\n",
    "#On peut toujours faire son pré-processing avec sklearn\n",
    "import pandas as pd\n",
    "import numpy as np\n",
    "import matplotlib.pyplot as plt\n",
    "\n",
    "\n",
    "from sklearn.model_selection import train_test_split\n",
    "from sklearn.preprocessing import StandardScaler\n",
    "\n",
    "from sklearn.preprocessing import OneHotEncoder\n",
    "\n",
    "from sklearn.model_selection import GridSearchCV #RandomizedSearchCV marche aussi"
   ]
  },
  {
   "cell_type": "code",
   "execution_count": 5,
   "id": "33165d05",
   "metadata": {},
   "outputs": [],
   "source": [
    "#Import tensorflow and keras\n",
    "import tensorflow as tf\n",
    "from tensorflow import keras\n",
    "from scikeras.wrappers import KerasClassifier, KerasRegressor"
   ]
  },
  {
   "cell_type": "code",
   "execution_count": null,
   "id": "54a66ef3",
   "metadata": {},
   "outputs": [],
   "source": []
  },
  {
   "cell_type": "markdown",
   "id": "901238eb",
   "metadata": {},
   "source": [
    "## Code"
   ]
  },
  {
   "cell_type": "markdown",
   "id": "25cd33e5",
   "metadata": {},
   "source": [
    "### 1) Import dataset"
   ]
  },
  {
   "cell_type": "code",
   "execution_count": 6,
   "id": "eb677a8f",
   "metadata": {},
   "outputs": [],
   "source": [
    "url = 'http://archive.ics.uci.edu/ml/machine-learning-databases/auto-mpg/auto-mpg.data'\n",
    "column_names = ['MPG', 'cylinders', 'displacement', 'horsepower', 'weight',\n",
    "                'acceleration', 'model_year', 'origin']\n",
    "\n",
    "df = pd.read_csv(url, \n",
    "                 names=column_names,\n",
    "                 na_values='?', \n",
    "                 comment='\\t',\n",
    "                 sep=' ', \n",
    "                 skipinitialspace=True\n",
    "                 )"
   ]
  },
  {
   "cell_type": "code",
   "execution_count": null,
   "id": "42b288d0",
   "metadata": {},
   "outputs": [],
   "source": []
  },
  {
   "cell_type": "markdown",
   "id": "20f4f68a",
   "metadata": {},
   "source": [
    "### 2) Adapter le jeu de données"
   ]
  },
  {
   "cell_type": "code",
   "execution_count": 7,
   "id": "5904b4d3",
   "metadata": {},
   "outputs": [
    {
     "data": {
      "text/plain": [
       "MPG             0\n",
       "cylinders       0\n",
       "displacement    0\n",
       "horsepower      6\n",
       "weight          0\n",
       "acceleration    0\n",
       "model_year      0\n",
       "origin          0\n",
       "dtype: int64"
      ]
     },
     "execution_count": 7,
     "metadata": {},
     "output_type": "execute_result"
    }
   ],
   "source": [
    "#On regarde si il y a des NA\n",
    "df.isna().sum()\n",
    "\n",
    "#Il y a 6 NA, ici on ne se pose pas la question et on supprime"
   ]
  },
  {
   "cell_type": "code",
   "execution_count": 73,
   "id": "05139ba3",
   "metadata": {},
   "outputs": [],
   "source": [
    "df_no_na = df.dropna(axis=0)"
   ]
  },
  {
   "cell_type": "code",
   "execution_count": 10,
   "id": "9a1e76b8",
   "metadata": {},
   "outputs": [
    {
     "data": {
      "text/html": [
       "<div>\n",
       "<style scoped>\n",
       "    .dataframe tbody tr th:only-of-type {\n",
       "        vertical-align: middle;\n",
       "    }\n",
       "\n",
       "    .dataframe tbody tr th {\n",
       "        vertical-align: top;\n",
       "    }\n",
       "\n",
       "    .dataframe thead th {\n",
       "        text-align: right;\n",
       "    }\n",
       "</style>\n",
       "<table border=\"1\" class=\"dataframe\">\n",
       "  <thead>\n",
       "    <tr style=\"text-align: right;\">\n",
       "      <th></th>\n",
       "      <th>MPG</th>\n",
       "      <th>cylinders</th>\n",
       "      <th>displacement</th>\n",
       "      <th>horsepower</th>\n",
       "      <th>weight</th>\n",
       "      <th>acceleration</th>\n",
       "      <th>model_year</th>\n",
       "      <th>origin</th>\n",
       "    </tr>\n",
       "  </thead>\n",
       "  <tbody>\n",
       "    <tr>\n",
       "      <th>0</th>\n",
       "      <td>18.0</td>\n",
       "      <td>8</td>\n",
       "      <td>307.0</td>\n",
       "      <td>130.0</td>\n",
       "      <td>3504.0</td>\n",
       "      <td>12.0</td>\n",
       "      <td>70</td>\n",
       "      <td>1</td>\n",
       "    </tr>\n",
       "    <tr>\n",
       "      <th>1</th>\n",
       "      <td>15.0</td>\n",
       "      <td>8</td>\n",
       "      <td>350.0</td>\n",
       "      <td>165.0</td>\n",
       "      <td>3693.0</td>\n",
       "      <td>11.5</td>\n",
       "      <td>70</td>\n",
       "      <td>1</td>\n",
       "    </tr>\n",
       "    <tr>\n",
       "      <th>2</th>\n",
       "      <td>18.0</td>\n",
       "      <td>8</td>\n",
       "      <td>318.0</td>\n",
       "      <td>150.0</td>\n",
       "      <td>3436.0</td>\n",
       "      <td>11.0</td>\n",
       "      <td>70</td>\n",
       "      <td>1</td>\n",
       "    </tr>\n",
       "    <tr>\n",
       "      <th>3</th>\n",
       "      <td>16.0</td>\n",
       "      <td>8</td>\n",
       "      <td>304.0</td>\n",
       "      <td>150.0</td>\n",
       "      <td>3433.0</td>\n",
       "      <td>12.0</td>\n",
       "      <td>70</td>\n",
       "      <td>1</td>\n",
       "    </tr>\n",
       "    <tr>\n",
       "      <th>4</th>\n",
       "      <td>17.0</td>\n",
       "      <td>8</td>\n",
       "      <td>302.0</td>\n",
       "      <td>140.0</td>\n",
       "      <td>3449.0</td>\n",
       "      <td>10.5</td>\n",
       "      <td>70</td>\n",
       "      <td>1</td>\n",
       "    </tr>\n",
       "  </tbody>\n",
       "</table>\n",
       "</div>"
      ],
      "text/plain": [
       "    MPG  cylinders  displacement  horsepower  weight  acceleration  \\\n",
       "0  18.0          8         307.0       130.0  3504.0          12.0   \n",
       "1  15.0          8         350.0       165.0  3693.0          11.5   \n",
       "2  18.0          8         318.0       150.0  3436.0          11.0   \n",
       "3  16.0          8         304.0       150.0  3433.0          12.0   \n",
       "4  17.0          8         302.0       140.0  3449.0          10.5   \n",
       "\n",
       "   model_year  origin  \n",
       "0          70       1  \n",
       "1          70       1  \n",
       "2          70       1  \n",
       "3          70       1  \n",
       "4          70       1  "
      ]
     },
     "execution_count": 10,
     "metadata": {},
     "output_type": "execute_result"
    }
   ],
   "source": [
    "#Afficher 5 premières lignes\n",
    "df_no_na.head(5)"
   ]
  },
  {
   "cell_type": "markdown",
   "id": "07cde793",
   "metadata": {},
   "source": [
    "La variable origin semble être de nature catégorielle, il faut la recoder au bon format.\n",
    "On va utiliser un one hot encoder avec sklearn"
   ]
  },
  {
   "cell_type": "code",
   "execution_count": 34,
   "id": "366d6412",
   "metadata": {},
   "outputs": [
    {
     "data": {
      "text/plain": [
       "origin\n",
       "1    245\n",
       "3     79\n",
       "2     68\n",
       "Name: count, dtype: int64"
      ]
     },
     "execution_count": 34,
     "metadata": {},
     "output_type": "execute_result"
    }
   ],
   "source": [
    "df_no_na.origin.value_counts()"
   ]
  },
  {
   "cell_type": "code",
   "execution_count": 69,
   "id": "d0a88784",
   "metadata": {},
   "outputs": [],
   "source": [
    "#Sk one hot encoder\n",
    "ohe = OneHotEncoder()\n",
    "transformed = ohe.fit_transform(df_no_na[['origin']])"
   ]
  },
  {
   "cell_type": "code",
   "execution_count": null,
   "metadata": {},
   "outputs": [],
   "source": []
  },
  {
   "cell_type": "code",
   "execution_count": 77,
   "id": "7cb0006e",
   "metadata": {},
   "outputs": [],
   "source": [
    "one_hot_names = ['origin_1','origin_2','origin_3']\n",
    "ohe_df = pd.DataFrame(transformed.toarray(), columns=one_hot_names)"
   ]
  },
  {
   "cell_type": "code",
   "execution_count": null,
   "metadata": {},
   "outputs": [],
   "source": []
  },
  {
   "cell_type": "code",
   "execution_count": 83,
   "id": "5cf5f978",
   "metadata": {},
   "outputs": [],
   "source": [
    "#On joint l'encoding puis on supprime le feature de base\n",
    "df_to_train = df_no_na.join(ohe_df).drop('origin',axis=1).dropna(axis=0)"
   ]
  },
  {
   "cell_type": "code",
   "execution_count": null,
   "id": "fb94c0ce",
   "metadata": {},
   "outputs": [],
   "source": []
  },
  {
   "cell_type": "code",
   "execution_count": 85,
   "id": "9b54e0b7",
   "metadata": {},
   "outputs": [],
   "source": [
    "#Train and test\n",
    "X_train , X_test, y_train, y_test = train_test_split(df_to_train.iloc[:,1:],\n",
    "                                                     df_to_train.MPG,\n",
    "                                                     test_size=0.2)"
   ]
  },
  {
   "cell_type": "code",
   "execution_count": 86,
   "id": "dbe14e56",
   "metadata": {},
   "outputs": [],
   "source": [
    "#Standardiser les features\n",
    "scaler = StandardScaler()\n",
    "scaler.fit(X_train)\n",
    "# On transforme X_train et X_test avec le calcul de moyenne et std du X_train\n",
    "X_train_sc = scaler.transform(X_train)\n",
    "X_test_sc = scaler.transform(X_test)"
   ]
  },
  {
   "cell_type": "code",
   "execution_count": 87,
   "id": "5eaaef51",
   "metadata": {},
   "outputs": [],
   "source": [
    "#Clear session and set seed\n",
    "keras.backend.clear_session()\n",
    "np.random.seed(42)\n",
    "tf.random.set_seed(42)"
   ]
  },
  {
   "cell_type": "code",
   "execution_count": 88,
   "id": "c3acd5c8",
   "metadata": {},
   "outputs": [],
   "source": [
    "#Initialisation du modèle\n",
    "reg_model = keras.models.Sequential()\n",
    "#Shape input, number of columns\n",
    "reg_model.add(keras.layers.Input(shape=X_train.shape[1]))#input layer\n",
    "reg_model.add(keras.layers.Dense(100, activation='relu'))#Hidden layer, 100 neurones\n",
    "reg_model.add(keras.layers.Dense(1))#Output layer\n",
    "\n",
    "#Compil model parameter\n",
    "reg_model.compile(loss=keras.losses.mean_squared_error, \n",
    "                  optimizer=keras.optimizers.Adam(learning_rate=0.01)\n",
    "                 )\n",
    "#Fit model\n"
   ]
  },
  {
   "cell_type": "code",
   "execution_count": null,
   "metadata": {},
   "outputs": [],
   "source": []
  },
  {
   "cell_type": "code",
   "execution_count": 95,
   "id": "dc88b864",
   "metadata": {},
   "outputs": [
    {
     "name": "stdout",
     "output_type": "stream",
     "text": [
      "Epoch 1/50\n",
      "123/123 [==============================] - 0s 3ms/step - loss: 9.5689 - val_loss: 10.7831\n",
      "Epoch 2/50\n",
      "123/123 [==============================] - 0s 3ms/step - loss: 12.4662 - val_loss: 23.7758\n",
      "Epoch 3/50\n",
      "123/123 [==============================] - 0s 3ms/step - loss: 8.4048 - val_loss: 11.2440\n",
      "Epoch 4/50\n",
      "123/123 [==============================] - 0s 3ms/step - loss: 8.2067 - val_loss: 15.1553\n",
      "Epoch 5/50\n",
      "123/123 [==============================] - 0s 2ms/step - loss: 7.5775 - val_loss: 12.8387\n",
      "Epoch 6/50\n",
      "123/123 [==============================] - 0s 3ms/step - loss: 7.9875 - val_loss: 10.5398\n",
      "Epoch 7/50\n",
      "123/123 [==============================] - 0s 2ms/step - loss: 7.4357 - val_loss: 10.0995\n",
      "Epoch 8/50\n",
      "123/123 [==============================] - 0s 3ms/step - loss: 8.5369 - val_loss: 8.7974\n",
      "Epoch 9/50\n",
      "123/123 [==============================] - 0s 2ms/step - loss: 7.3936 - val_loss: 9.0382\n",
      "Epoch 10/50\n",
      "123/123 [==============================] - 0s 2ms/step - loss: 5.8067 - val_loss: 9.7705\n",
      "Epoch 11/50\n",
      "123/123 [==============================] - 0s 2ms/step - loss: 6.9650 - val_loss: 13.4219\n",
      "Epoch 12/50\n",
      "123/123 [==============================] - 0s 2ms/step - loss: 8.9616 - val_loss: 11.2214\n",
      "Epoch 13/50\n",
      "123/123 [==============================] - 0s 2ms/step - loss: 7.9933 - val_loss: 14.7059\n",
      "Epoch 14/50\n",
      "123/123 [==============================] - 0s 2ms/step - loss: 7.3750 - val_loss: 17.9163\n",
      "Epoch 15/50\n",
      "123/123 [==============================] - 0s 2ms/step - loss: 6.7611 - val_loss: 10.9610\n",
      "Epoch 16/50\n",
      "123/123 [==============================] - 0s 2ms/step - loss: 5.6145 - val_loss: 9.6208\n",
      "Epoch 17/50\n",
      "123/123 [==============================] - 0s 2ms/step - loss: 6.5568 - val_loss: 11.3300\n",
      "Epoch 18/50\n",
      "123/123 [==============================] - 0s 2ms/step - loss: 7.0242 - val_loss: 10.2337\n",
      "Epoch 19/50\n",
      "123/123 [==============================] - 0s 2ms/step - loss: 6.2834 - val_loss: 13.1304\n",
      "Epoch 20/50\n",
      "123/123 [==============================] - 0s 2ms/step - loss: 6.4151 - val_loss: 17.9718\n",
      "Epoch 21/50\n",
      "123/123 [==============================] - 0s 2ms/step - loss: 6.2086 - val_loss: 11.2179\n",
      "Epoch 22/50\n",
      "123/123 [==============================] - 0s 2ms/step - loss: 6.3688 - val_loss: 15.4756\n",
      "Epoch 23/50\n",
      "123/123 [==============================] - 0s 2ms/step - loss: 7.1137 - val_loss: 11.0316\n",
      "Epoch 24/50\n",
      "123/123 [==============================] - 0s 2ms/step - loss: 6.7564 - val_loss: 12.5411\n",
      "Epoch 25/50\n",
      "123/123 [==============================] - 0s 2ms/step - loss: 5.3741 - val_loss: 11.4334\n",
      "Epoch 26/50\n",
      "123/123 [==============================] - 0s 3ms/step - loss: 7.2227 - val_loss: 12.5192\n",
      "Epoch 27/50\n",
      "123/123 [==============================] - 0s 2ms/step - loss: 7.0319 - val_loss: 10.4256\n",
      "Epoch 28/50\n",
      "123/123 [==============================] - 0s 2ms/step - loss: 5.9983 - val_loss: 10.5756\n",
      "Epoch 29/50\n",
      "123/123 [==============================] - 0s 2ms/step - loss: 6.2399 - val_loss: 10.9852\n",
      "Epoch 30/50\n",
      "123/123 [==============================] - 0s 2ms/step - loss: 6.1808 - val_loss: 13.1921\n",
      "Epoch 31/50\n",
      "123/123 [==============================] - 0s 2ms/step - loss: 6.1681 - val_loss: 12.8644\n",
      "Epoch 32/50\n",
      "123/123 [==============================] - 0s 2ms/step - loss: 6.1663 - val_loss: 8.6183\n",
      "Epoch 33/50\n",
      "123/123 [==============================] - 0s 2ms/step - loss: 6.0043 - val_loss: 10.9273\n",
      "Epoch 34/50\n",
      "123/123 [==============================] - 0s 2ms/step - loss: 6.1384 - val_loss: 16.2501\n",
      "Epoch 35/50\n",
      "123/123 [==============================] - 0s 2ms/step - loss: 5.9165 - val_loss: 11.5353\n",
      "Epoch 36/50\n",
      "123/123 [==============================] - 0s 2ms/step - loss: 8.2975 - val_loss: 9.4997\n",
      "Epoch 37/50\n",
      "123/123 [==============================] - 0s 2ms/step - loss: 5.8141 - val_loss: 9.7980\n",
      "Epoch 38/50\n",
      "123/123 [==============================] - 0s 2ms/step - loss: 5.4622 - val_loss: 15.0917\n",
      "Epoch 39/50\n",
      "123/123 [==============================] - 0s 2ms/step - loss: 6.9063 - val_loss: 12.4493\n",
      "Epoch 40/50\n",
      "123/123 [==============================] - 0s 2ms/step - loss: 6.6354 - val_loss: 11.4865\n",
      "Epoch 41/50\n",
      "123/123 [==============================] - 0s 2ms/step - loss: 5.3853 - val_loss: 11.6544\n",
      "Epoch 42/50\n",
      "123/123 [==============================] - 0s 2ms/step - loss: 6.2404 - val_loss: 10.9468\n",
      "Epoch 43/50\n",
      "123/123 [==============================] - 0s 3ms/step - loss: 6.2403 - val_loss: 11.2374\n",
      "Epoch 44/50\n",
      "123/123 [==============================] - 0s 2ms/step - loss: 5.9366 - val_loss: 14.6269\n",
      "Epoch 45/50\n",
      "123/123 [==============================] - 0s 2ms/step - loss: 6.7009 - val_loss: 18.1176\n",
      "Epoch 46/50\n",
      "123/123 [==============================] - 0s 2ms/step - loss: 6.2150 - val_loss: 11.2718\n",
      "Epoch 47/50\n",
      "123/123 [==============================] - 0s 2ms/step - loss: 5.6627 - val_loss: 11.2362\n",
      "Epoch 48/50\n",
      "123/123 [==============================] - 0s 2ms/step - loss: 5.4661 - val_loss: 12.1996\n",
      "Epoch 49/50\n",
      "123/123 [==============================] - 0s 2ms/step - loss: 5.5280 - val_loss: 10.8317\n",
      "Epoch 50/50\n",
      "123/123 [==============================] - 0s 2ms/step - loss: 5.5237 - val_loss: 9.8669\n"
     ]
    }
   ],
   "source": [
    "history = reg_model.fit(X_train_sc, y_train, batch_size=2, epochs=50, validation_split=0.2)"
   ]
  },
  {
   "cell_type": "code",
   "execution_count": 94,
   "id": "6bf54f43",
   "metadata": {},
   "outputs": [
    {
     "data": {
      "image/png": "[encoded data removed]",
      "text/plain": [
       "<Figure size 800x500 with 1 Axes>"
      ]
     },
     "metadata": {},
     "output_type": "display_data"
    }
   ],
   "source": [
    "import matplotlib.pyplot as plt\n",
    "\n",
    "#Data to pandas dataframe\n",
    "pd.DataFrame(history.history).plot(figsize=(8, 5))\n",
    "plt.grid(True)\n",
    "plt.gca().set_ylim(0, 30) \n",
    "plt.show()"
   ]
  },
  {
   "cell_type": "markdown",
   "id": "6df04669",
   "metadata": {},
   "source": [
    "### Wide and Deep"
   ]
  }
 ],
 "metadata": {
  "kernelspec": {
   "display_name": "Python 3 (ipykernel)",
   "language": "python",
   "name": "python3"
  },
  "language_info": {
   "codemirror_mode": {
    "name": "ipython",
    "version": 3
   },
   "file_extension": ".py",
   "mimetype": "text/x-python",
   "name": "python",
   "nbconvert_exporter": "python",
   "pygments_lexer": "ipython3",
   "version": "3.11.7"
  }
 },
 "nbformat": 4,
 "nbformat_minor": 5
}
