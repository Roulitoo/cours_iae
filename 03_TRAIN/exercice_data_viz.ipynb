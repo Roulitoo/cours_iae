{
 "cells": [
  {
   "cell_type": "markdown",
   "metadata": {},
   "source": [
    "## Exercice de data visualisation\n",
    "\n",
    "1) Se créer un environnement virtuel pour le projet de dataviz\n",
    "2) Réaliser une data visualisation où vous adapterez votre analyse au profil de la personne qui consommera l'analyse (directeur, analyste, marketing, risque...)\n",
    "\n",
    "    Bien évidemment c'est un cas imaginaire.\n",
    "    \n",
    "    Si vous voulez, vous pouvez utiliser le dataset disponible sur kaggle https://www.kaggle.com/datasets/iamsouravbanerjee/customer-shopping-trends-dataset/data\n",
    "\n",
    "3) Nettoyer votre dataset afin qu'il facilite l'analyse\n",
    "4) Réaliser votre analyse statistiques\n",
    "5) Représenter visuellement votre analyse statistiques avec Seaborn ou Matplotlib ou Plotly\n",
    "\n",
    "6) Enregistrer vos graphiques au format PNG pour les intégrers dans un markdown\n",
    "\n",
    "7) Réaliser un markdown pour présenter vos résultats\n",
    "\n",
    "8) Stocker tout votre travaill dans un repo github"
   ]
  },
  {
   "cell_type": "code",
   "execution_count": null,
   "metadata": {},
   "outputs": [],
   "source": []
  },
  {
   "cell_type": "code",
   "execution_count": null,
   "metadata": {},
   "outputs": [],
   "source": []
  }
 ],
 "metadata": {
  "kernelspec": {
   "display_name": "Python 3",
   "language": "python",
   "name": "python3"
  },
  "language_info": {
   "codemirror_mode": {
    "name": "ipython",
    "version": 3
   },
   "file_extension": ".py",
   "mimetype": "text/x-python",
   "name": "python",
   "nbconvert_exporter": "python",
   "pygments_lexer": "ipython3",
   "version": "3.11.6"
  }
 },
 "nbformat": 4,
 "nbformat_minor": 2
}
