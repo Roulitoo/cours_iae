{
 "cells": [
  {
   "cell_type": "markdown",
   "metadata": {},
   "source": [
    "## Objectif du TD N°1 interpretable Machine Learning\n",
    "\n",
    "\n",
    "Ce td vise à interpréter les modèles de machine learning que vous avez créer lors du TD N°2 SVM.\n",
    "\n",
    "Vous chercherez à interpréter globalement votre modèle avec les méthodes vues en cours et surtout examiner la différence entre des modèles linéaires et non linéaires.\n",
    "\n",
    "\n",
    "## Enoncé du TD\n",
    "\n",
    "### Importer le modèle du TD N°2\n",
    "\n",
    "1. Importer le jeu de données breast cancer disponible dans le module sklearn.datasets\n",
    "2. Importer un modèle non linéaire utilisé lors du TD N°2 ou alors recréer l'ensemble de la pipeline visant à le générer\n",
    "3. Vérifier que votre modèle réalise correctement une prédiction pour un individu\n",
    "\n",
    "\n",
    "### Comparer interprétation des coéfficients et méthode globale\n",
    "\n",
    "4. Lancer un modèle de régression logistique sur le jeu de données data breast cancer et interpréter les résultats\n",
    "5. Utiliser maintenant les différentes méthodes d'interprétations de modèle avec les résultats de le résultats des coéfficients de la reg logistique\n",
    "   1. Partial depence plot\n",
    "   2. Accumulated Local Effect\n",
    "   3. H-Statistic\n",
    "   4. Feature permutation \n",
    "6. Commenter\n",
    "\n",
    "### Interpréter un modèle non linéaire\n",
    "\n",
    "7. Interpréter votre modèle non linéaire (SVM avec noyau) avec l'aide des méthodes globales\n",
    "8. Commenter la différence de résultat\n",
    "\n",
    "\n",
    "\n",
    "\n"
   ]
  },
  {
   "cell_type": "code",
   "execution_count": null,
   "metadata": {},
   "outputs": [],
   "source": []
  },
  {
   "cell_type": "code",
   "execution_count": null,
   "metadata": {},
   "outputs": [],
   "source": []
  },
  {
   "cell_type": "code",
   "execution_count": null,
   "metadata": {},
   "outputs": [],
   "source": []
  }
 ],
 "metadata": {
  "kernelspec": {
   "display_name": ".my_test_env",
   "language": "python",
   "name": "python3"
  },
  "language_info": {
   "name": "python",
   "version": "3.11.9"
  }
 },
 "nbformat": 4,
 "nbformat_minor": 2
}
