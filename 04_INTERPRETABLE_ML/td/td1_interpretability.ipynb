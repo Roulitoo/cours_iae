{
 "cells": [
  {
   "cell_type": "markdown",
   "metadata": {},
   "source": [
    "## Objectif du TD N°1 interpretable Machine Learning\n",
    "\n",
    "\n",
    "Ce td vise à interpréter les modèles de machine learning que vous avez crées lors du TD N°2 SVM.\n",
    "\n",
    "Vous chercherez à interpréter globalement votre modèle avec les méthodes vues en cours et surtout examiner la différence entre des modèles linéaires et non linéaires.\n",
    "\n",
    "\n",
    "## Enoncé du TD\n",
    "\n",
    "### Importer le modèle du TD N°2\n",
    "\n",
    "1. Importer le jeu de données breast cancer disponible dans le module sklearn.datasets\n",
    "2. Importer un modèle non linéaire utilisé lors du TD N°2 ou alors recréer l'ensemble de la pipeline visant à le générer\n",
    "3. Vérifier que votre modèle réalise correctement une prédiction pour un individu\n",
    "\n",
    "\n",
    "### Comparer interprétation des coéfficients et méthode globale\n",
    "\n",
    "4. Lancer un modèle de régression logistique sur le jeu de données data breast cancer et interpréter les résultats\n",
    "5. Utiliser maintenant les différentes méthodes d'interprétation de modèle avec les résultats de le résultats des coefficients de la reg logistique\n",
    "   1. Partial depence plot\n",
    "   2. Accumulated Local Effect\n",
    "   3. H-Statistic\n",
    "   4. Feature permutation \n",
    "6. Commenter\n",
    "\n",
    "### Interpréter un modèle non linéaire\n",
    "\n",
    "7. Interpréter votre modèle non linéaire (SVM avec noyau) avec l'aide des méthodes globales\n",
    "8. Commenter la différence de résultat\n",
    "\n",
    "\n",
    "\n",
    "\n"
   ]
  },
  {
   "cell_type": "markdown",
   "metadata": {},
   "source": [
    "## Partie Code"
   ]
  },
  {
   "cell_type": "markdown",
   "metadata": {},
   "source": [
    "#### 1)Importer le jeu de données breast cancer disponible dans le module sklearn.datasets"
   ]
  },
  {
   "cell_type": "code",
   "execution_count": null,
   "metadata": {},
   "outputs": [],
   "source": []
  },
  {
   "cell_type": "code",
   "execution_count": 5,
   "metadata": {},
   "outputs": [],
   "source": [
    "from sklearn.datasets import load_breast_cancer\n",
    "import pandas as pd\n",
    "import numpy as np\n",
    "import pickle"
   ]
  },
  {
   "cell_type": "code",
   "execution_count": 4,
   "metadata": {},
   "outputs": [],
   "source": [
    "#Load dataset breast cancer\n",
    "data = load_breast_cancer()\n",
    "\n",
    "breast = pd.DataFrame(data = np.c_[data.data,data.target], columns=list(data.feature_names)+['target'] )\n",
    "#Nom des colonnes et remplacer les espaces par un \"_\"\n",
    "features_name = [name.replace(\" \", \"_\") for name in data.feature_names]\n",
    "breast.columns= features_name+['target']"
   ]
  },
  {
   "cell_type": "code",
   "execution_count": null,
   "metadata": {},
   "outputs": [],
   "source": []
  },
  {
   "cell_type": "code",
   "execution_count": null,
   "metadata": {},
   "outputs": [],
   "source": []
  },
  {
   "cell_type": "markdown",
   "metadata": {},
   "source": [
    "#### 2) Recréer l'ensemble de la pipeline visant à générer un SVM non linéaire (RBF ou degree >1)\n"
   ]
  },
  {
   "cell_type": "code",
   "execution_count": null,
   "metadata": {},
   "outputs": [],
   "source": []
  },
  {
   "cell_type": "code",
   "execution_count": null,
   "metadata": {},
   "outputs": [],
   "source": []
  },
  {
   "cell_type": "markdown",
   "metadata": {},
   "source": [
    "#### 3) Vérifier que votre modèle réalise correctement une prédiction pour un individu"
   ]
  },
  {
   "cell_type": "code",
   "execution_count": null,
   "metadata": {},
   "outputs": [],
   "source": []
  },
  {
   "cell_type": "markdown",
   "metadata": {},
   "source": [
    "#### 4) Lancer un modèle de régression logistique sur le jeu de données data breast cancer et interpréter les résultats\n",
    "\n",
    "Ici, l'idée est de mobiliser vos connaissance du modèle de régression logistique et d'interpréter les effets des variables."
   ]
  },
  {
   "cell_type": "code",
   "execution_count": null,
   "metadata": {},
   "outputs": [],
   "source": []
  },
  {
   "cell_type": "markdown",
   "metadata": {},
   "source": [
    "#### 5) Utiliser maintenant les différentes méthodes d'interprétations de modèle avec les résultats de le résultats des coéfficients de la reg logistique\n",
    "   1. Partial depence plot\n",
    "   2. Accumulated Local Effect\n",
    "   3. H-Statistic\n",
    "   4. Feature permutation "
   ]
  },
  {
   "cell_type": "code",
   "execution_count": null,
   "metadata": {},
   "outputs": [],
   "source": []
  },
  {
   "cell_type": "markdown",
   "metadata": {},
   "source": [
    "#### 6) Commenter et discuter des limites"
   ]
  },
  {
   "cell_type": "code",
   "execution_count": null,
   "metadata": {},
   "outputs": [],
   "source": []
  },
  {
   "cell_type": "markdown",
   "metadata": {},
   "source": [
    "#### 7) Interpréter votre modèle non linéaire (SVM avec noyau) avec l'aide des méthodes globales"
   ]
  },
  {
   "cell_type": "code",
   "execution_count": null,
   "metadata": {},
   "outputs": [],
   "source": []
  },
  {
   "cell_type": "code",
   "execution_count": null,
   "metadata": {},
   "outputs": [],
   "source": []
  },
  {
   "cell_type": "code",
   "execution_count": null,
   "metadata": {},
   "outputs": [],
   "source": []
  }
 ],
 "metadata": {
  "kernelspec": {
   "display_name": "env_interpretability",
   "language": "python",
   "name": "python3"
  },
  "language_info": {
   "codemirror_mode": {
    "name": "ipython",
    "version": 3
   },
   "file_extension": ".py",
   "mimetype": "text/x-python",
   "name": "python",
   "nbconvert_exporter": "python",
   "pygments_lexer": "ipython3",
   "version": "3.11.9"
  }
 },
 "nbformat": 4,
 "nbformat_minor": 2
}
