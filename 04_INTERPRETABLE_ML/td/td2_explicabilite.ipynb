{
 "cells": [
  {
   "cell_type": "markdown",
   "metadata": {},
   "source": [
    "## TD N°2 explicabilité du dataset Boston Housing"
   ]
  },
  {
   "cell_type": "markdown",
   "metadata": {},
   "source": [
    "1) Charger le dataset bostong_housing\n",
    "   1) Disponible dans le folder 04_interpretable_ml/td/data/\n",
    "   \n",
    "2) Nettoyer votre jeu de données pour créer une régression linéaire et un random forest\n",
    "   1) Tester d'ajouter des features log, quadratique, ...\n",
    "\n",
    "3)Créer un modèle baseline linéaire et random forest\n",
    "\n",
    "4) Interpréter le modèle linéaire\n",
    "\n",
    "5) Tuner votre random forest\n",
    "\n",
    "6) Interpréter globalement votre modèle meilleur modèle RF \n",
    "   1) Utiliser les PDP ou ALE & Permutation feature Importance \n",
    "   2) Comparer les résulats du random forest avec votre interprétation du modèle linéaire\n",
    "\n",
    "6) Réaliser une explicabilité par individu\n",
    "   1) En utilisant la méthode ICE (PDP individuelle)\n",
    "   2) LIME (Model local pour expliquer une prédiction)\n",
    "   3) SHAP watterfall plot (Contribution marginale de chaque variable dans la prédiction)\n",
    "\n",
    "7) Réaliser une explicabilité par individu sur le modèle RF\n",
    "- 1) ICE, le PDP est-il une bonne représentation des variables importantes de votre modèle?\n",
    "- 2) LIME\n",
    "- 3) SHAP watterfall plot\n",
    "\n",
    "8) Explorer les graphiques SHAP étudiés  dans la partie CM\n",
    "   1) beeswarm (Contribution des variables)\n",
    "   2) scatter (équivalent pdp)"
   ]
  },
  {
   "cell_type": "markdown",
   "metadata": {},
   "source": [
    "## Contexte du Dataset\n",
    "\n",
    "Le Boston Housing Dataset est un ensemble de données couramment utilisé en apprentissage automatique et en statistique pour étudier les relations entre diverses caractéristiques socio-économiques et immobilières dans la ville de Boston.  \n",
    "Il contient des informations sur des propriétés résidentielles et leur environnement, et est souvent utilisé pour prédire la valeur des maisons, un problème classique de régression.\n",
    "\n",
    "**Variable dispo**: \n",
    "- CRIM : taux de criminalité par habitant par ville\n",
    "- ZN : proportion de terrains résidentiels zonés pour des lots de plus de 25 000 pieds carrés\n",
    "- INDUS : proportion de terrains commerciaux non commerciaux par ville\n",
    "- CHAS : variable binaire indiquant la proximité de la rivière Charles (= 1 si la zone délimitée par la ville touche la rivière ; 0 sinon)\n",
    "- NOX : concentration des oxydes d'azote (en parties par 10 millions)\n",
    "- RM : nombre moyen de pièces par logement\n",
    "- AGE : proportion des unités occupées par leur propriétaire et construites avant 1940\n",
    "- DIS : distances pondérées vers cinq centres d'emploi de Boston\n",
    "- RAD : indice d'accessibilité aux autoroutes radiales\n",
    "- TAX : taux d'imposition foncière par valeur totale pour chaque tranche de 10 000 dollars\n",
    "- PTRATIO : ratio élèves-enseignants par ville\n",
    "- LSTAT : pourcentage de la population de statut socio-économique inférieur\n",
    "- MEDV : valeur médiane des maisons occupées par leur propriétaire (en milliers de dollars) - **variable cible**"
   ]
  },
  {
   "cell_type": "code",
   "execution_count": 1,
   "metadata": {},
   "outputs": [],
   "source": [
    "#Web request\n",
    "import requests\n",
    "import io\n",
    "import pandas as pd"
   ]
  },
  {
   "cell_type": "markdown",
   "metadata": {},
   "source": [
    "### 1) Charger le dataset bostong_housing"
   ]
  },
  {
   "cell_type": "code",
   "execution_count": 2,
   "metadata": {},
   "outputs": [],
   "source": [
    "#Télécharge directement depuis Github\n",
    "url = \"https://raw.githubusercontent.com/Roulitoo/cours_iae/master/04_INTERPRETABLE_ML/td/data/boston_housing.csv\" \n",
    "download = requests.get(url).content\n",
    "\n",
    "df = pd.read_csv(io.StringIO(download.decode('utf-8')), sep=';')"
   ]
  },
  {
   "cell_type": "code",
   "execution_count": null,
   "metadata": {},
   "outputs": [],
   "source": []
  },
  {
   "cell_type": "markdown",
   "metadata": {},
   "source": [
    "### 2)Nettoyer votre jeu de données pour créer une régression linéaire et un random forest\n",
    "\n",
    "Penser à :\n",
    "\n",
    "- Vérifier comment encoder vos variables qualitatives pour la modélisation \n",
    "- Analyser les distributions\n",
    "- Analyser les outliers \n",
    "- Analyser les corrélations\n",
    "\n",
    ">Tester d'ajouter des features log, quadratique, ..."
   ]
  },
  {
   "cell_type": "code",
   "execution_count": null,
   "metadata": {},
   "outputs": [],
   "source": []
  },
  {
   "cell_type": "code",
   "execution_count": null,
   "metadata": {},
   "outputs": [],
   "source": []
  },
  {
   "cell_type": "markdown",
   "metadata": {},
   "source": [
    "### 3)Créer 2 modèles baseline, linéaire et random forest"
   ]
  },
  {
   "cell_type": "code",
   "execution_count": null,
   "metadata": {},
   "outputs": [],
   "source": []
  },
  {
   "cell_type": "markdown",
   "metadata": {},
   "source": [
    "### 4) Interpréter le modèle linéaire\n",
    "Utiliser les méthodes intrinsèques du modèle pour l'interprétation"
   ]
  },
  {
   "cell_type": "code",
   "execution_count": null,
   "metadata": {},
   "outputs": [],
   "source": []
  },
  {
   "cell_type": "markdown",
   "metadata": {},
   "source": [
    "### 5) Tuner votre random forest"
   ]
  },
  {
   "cell_type": "code",
   "execution_count": null,
   "metadata": {},
   "outputs": [],
   "source": []
  },
  {
   "cell_type": "markdown",
   "metadata": {},
   "source": [
    "### 6) Interpréter globalement votre modèle meilleur modèle RF \n",
    "   1) Utiliser les PDP ou ALE & Permutation feature Importance \n",
    "   2) Comparer les résulats du random forest avec votre interprétation du modèle linéaire"
   ]
  },
  {
   "cell_type": "code",
   "execution_count": null,
   "metadata": {},
   "outputs": [],
   "source": []
  },
  {
   "cell_type": "markdown",
   "metadata": {},
   "source": [
    "### 7) Réaliser une explicabilité par individu sur le modèle RF\n",
    "- 1) ICE, le PDP est-il une bonne représentation des variables importantes de votre modèle?\n",
    "- 2) LIME\n",
    "- 3) SHAP watterfall plot"
   ]
  },
  {
   "cell_type": "code",
   "execution_count": null,
   "metadata": {},
   "outputs": [],
   "source": []
  },
  {
   "cell_type": "markdown",
   "metadata": {},
   "source": [
    "### 8) Explorer les graphiques SHAP étudiés  dans la partie CM\n",
    "   1) beeswarm (Contribution des variables)\n",
    "   2) scatter (équivalent pdp)"
   ]
  }
 ],
 "metadata": {
  "kernelspec": {
   "display_name": ".my_test_env",
   "language": "python",
   "name": "python3"
  },
  "language_info": {
   "codemirror_mode": {
    "name": "ipython",
    "version": 3
   },
   "file_extension": ".py",
   "mimetype": "text/x-python",
   "name": "python",
   "nbconvert_exporter": "python",
   "pygments_lexer": "ipython3",
   "version": "3.11.9"
  }
 },
 "nbformat": 4,
 "nbformat_minor": 2
}
